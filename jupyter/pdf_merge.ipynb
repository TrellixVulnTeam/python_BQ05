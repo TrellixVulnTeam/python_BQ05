{
 "cells": [
  {
   "cell_type": "code",
   "execution_count": 1,
   "metadata": {},
   "outputs": [],
   "source": [
    "#This takes an input dir and merges pdfs\n",
    "from PyPDF2 import PdfFileMerger\n",
    "\n",
    "import funclib.iolib as iolib\n",
    "import funclib.baselib as baselib\n",
    "\n",
    "root = 'C:/temp/sa'"
   ]
  },
  {
   "cell_type": "code",
   "execution_count": 2,
   "metadata": {},
   "outputs": [],
   "source": [
    "def get_issue(s):\n",
    "    '''str -> str\n",
    "    gets issue'''\n",
    "    return s.split('_')[1:2][0]\n",
    "\n",
    "def merge_pages(issue, issue_nr):\n",
    "    '''(list, str) -> void\n",
    "    merge all pages'''\n",
    "    merger = PdfFileMerger()\n",
    "    for pdf in issue:\n",
    "        p, f, e = iolib.get_file_parts2(pdf)\n",
    "        merger.append(open(pdf, 'rb'))\n",
    "    fname = '%s\\%s%s' % (p, issue_nr, e)\n",
    "    \n",
    "    with open(fname, 'wb') as fout:\n",
    "        merger.write(fout)            "
   ]
  },
  {
   "cell_type": "code",
   "execution_count": 52,
   "metadata": {},
   "outputs": [
    {
     "name": "stdout",
     "output_type": "stream",
     "text": [
      "Working on it ...\n",
      "9 of 9 [##############################] 100.0% \n",
      "\n",
      "Exporting last issue\n"
     ]
    },
    {
     "name": "stderr",
     "output_type": "stream",
     "text": [
      "PdfReadWarning: Xref table not zero-indexed. ID numbers for objects will be corrected. [pdf.py:1736]\n"
     ]
    }
   ],
   "source": [
    "current_issue = ''\n",
    "last_issue = ''\n",
    "issues = []\n",
    "issue_pages = []\n",
    "n = sum([1 for x in iolib.file_list_generator1(paths=root, wildcards='*.pdf')])\n",
    "\n",
    "PP = iolib.PrintProgress(maximum=n, init_msg='Working on it ...')\n",
    "for fname in iolib.file_list_generator1(paths=root, wildcards='*.pdf'):\n",
    "    p, f, e = iolib.get_file_parts2(fname)\n",
    "    current_issue = get_issue(f)\n",
    "    assert current_issue != '', 'Current issue was empty string.'\n",
    "    \n",
    "    if current_issue == last_issue or last_issue == '':\n",
    "        issue_pages.append(fname)\n",
    "    else:\n",
    "        #export the pdf\n",
    "        last_issue = current_issue\n",
    "        try:\n",
    "            merge_pages(issue_pages, current_issue)    \n",
    "        except:\n",
    "            print('Failed to create issue %s' % current_issue)\n",
    "        issue_pages = [fname]\n",
    "        \n",
    "    PP.increment()\n",
    "\n",
    "#export the last one\n",
    "print('Exporting last issue')\n",
    "if len(issue_pages) > 1 and isinstance(current_issue, str):\n",
    "    try:\n",
    "        merge_pages(issue_pages, current_issue)    \n",
    "    except:\n",
    "        print('Failed to create issue %s' % current_issue)\n",
    "    \n",
    "    "
   ]
  }
 ],
 "metadata": {
  "kernelspec": {
   "display_name": "Python 3",
   "language": "python",
   "name": "python3"
  },
  "language_info": {
   "codemirror_mode": {
    "name": "ipython",
    "version": 3
   },
   "file_extension": ".py",
   "mimetype": "text/x-python",
   "name": "python",
   "nbconvert_exporter": "python",
   "pygments_lexer": "ipython3",
   "version": "3.5.4"
  }
 },
 "nbformat": 4,
 "nbformat_minor": 2
}
