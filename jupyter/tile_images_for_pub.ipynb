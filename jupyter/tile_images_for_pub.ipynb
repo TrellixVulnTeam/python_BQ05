{
 "cells": [
  {
   "cell_type": "code",
   "execution_count": 1,
   "metadata": {},
   "outputs": [
    {
     "name": "stdout",
     "output_type": "stream",
     "text": [
      "Done\n"
     ]
    }
   ],
   "source": [
    "#mosaic an image into a single column and\n",
    "#save the mosaic\n",
    "import cv2\n",
    "from opencvlib import view\n",
    "from opencvlib.view import draw_str\n",
    "import opencvlib\n",
    "print('Done')"
   ]
  },
  {
   "cell_type": "code",
   "execution_count": 4,
   "metadata": {},
   "outputs": [
    {
     "data": {
      "text/plain": [
       "(32, 'img')"
      ]
     },
     "execution_count": 4,
     "metadata": {},
     "output_type": "execute_result"
    }
   ],
   "source": [
    "#one = 'C:/Users/Graham Monkman/OneDrive/Documents/PHD/My Papers/Fiducial_machine_vision_estimates/images/res_net_underestimate/res_r295_UND.jpg'\n",
    "#two = 'C:/Users/Graham Monkman/OneDrive/Documents/PHD/My Papers/Fiducial_machine_vision_estimates/images/res_net_underestimate/res_r234_UND.jpg'\n",
    "\n",
    "one = 'C:/Users/Graham Monkman/OneDrive/Documents/PHD/My Papers/Fiducial_machine_vision_estimates/images/bass_maker_not_detected/262.JPG'\n",
    "two = 'C:/Users/Graham Monkman/OneDrive/Documents/PHD/My Papers/Fiducial_machine_vision_estimates/images/bass_maker_not_detected/not_detected.png'\n",
    "\n",
    "\n",
    "out = 'C:/Users/Graham Monkman/OneDrive/Documents/PHD/My Papers/Fiducial_machine_vision_estimates/images/bass_maker_not_detected/not_detected.jpg'\n",
    "I = view.mosaic([one, two], cols=1, pad_color=(255,255,255), save_as=out)\n",
    "view.show(I)"
   ]
  },
  {
   "cell_type": "code",
   "execution_count": 4,
   "metadata": {},
   "outputs": [
    {
     "data": {
      "text/plain": [
       "(32, 'img')"
      ]
     },
     "execution_count": 4,
     "metadata": {},
     "output_type": "execute_result"
    }
   ],
   "source": [
    "pics=[\n",
    "'C:/Users/Graham Monkman/OneDrive/Documents/PHD/My Papers/Fiducial_machine_vision_estimates/images/bass_rotated/nas10.jpg',\n",
    "'C:/Users/Graham Monkman/OneDrive/Documents/PHD/My Papers/Fiducial_machine_vision_estimates/images/bass_rotated/res10.jpg',\n",
    "'C:/Users/Graham Monkman/OneDrive/Documents/PHD/My Papers/Fiducial_machine_vision_estimates/images/bass_rotated/ssd-10.jpg',\n",
    "'C:/Users/Graham Monkman/OneDrive/Documents/PHD/My Papers/Fiducial_machine_vision_estimates/images/bass_rotated/nas-20.jpg',\n",
    "'C:/Users/Graham Monkman/OneDrive/Documents/PHD/My Papers/Fiducial_machine_vision_estimates/images/bass_rotated/res-20.jpg',\n",
    "'C:/Users/Graham Monkman/OneDrive/Documents/PHD/My Papers/Fiducial_machine_vision_estimates/images/bass_rotated/ssd-20.jpg',\n",
    "'C:/Users/Graham Monkman/OneDrive/Documents/PHD/My Papers/Fiducial_machine_vision_estimates/images/bass_rotated/nas30.jpg',\n",
    "'C:/Users/Graham Monkman/OneDrive/Documents/PHD/My Papers/Fiducial_machine_vision_estimates/images/bass_rotated/res30.jpg',\n",
    "'C:/Users/Graham Monkman/OneDrive/Documents/PHD/My Papers/Fiducial_machine_vision_estimates/images/bass_rotated/ssd-30.jpg'\n",
    "]\n",
    "\n",
    "out = 'C:/Users/Graham Monkman/OneDrive/Documents/PHD/My Papers/Fiducial_machine_vision_estimates/images/bass_rotated/rotated_mosaic.jpg'\n",
    "\n",
    "I = view.mosaic(pics,pad=10, cols=3, pad_color=(255,255,255), save_as=out)\n",
    "view.show(I)"
   ]
  },
  {
   "cell_type": "code",
   "execution_count": 3,
   "metadata": {},
   "outputs": [
    {
     "data": {
      "text/plain": [
       "(-1, 'img')"
      ]
     },
     "execution_count": 3,
     "metadata": {},
     "output_type": "execute_result"
    }
   ],
   "source": [
    "fig4_bad_detection = 'C:/Users/Graham Monkman/OneDrive/Documents/PHD/My Papers/Fiducial_machine_vision_estimates/images/bad_detections/res_r234_UND.jpg'\n",
    "fig3_aruco_placement = 'C:/Users/Graham Monkman/OneDrive/Documents/PHD/My Papers/Fiducial_machine_vision_estimates/images/bass_maker_not_detected/aruco_placement.bmp'\n",
    "fig2_aruco_markers = 'C:/Users/Graham Monkman/OneDrive/Documents/PHD/My Papers/Fiducial_machine_vision_estimates/images/3fids.jpg'\n",
    "fig1_example_roi = 'C:/Users/Graham Monkman/OneDrive/Documents/PHD/My Papers/Fiducial_machine_vision_estimates/images/roi/example_roi.jpg'\n",
    "fig6_aruco_undetected = 'C:/Users/Graham Monkman/OneDrive/Documents/PHD/My Papers/Fiducial_machine_vision_estimates/images/bass_maker_not_detected/not_detected.jpg'\n",
    "\n",
    "out = 'C:/Users/Graham Monkman/OneDrive/Documents/PHD/My Papers/Fiducial_machine_vision_estimates/images/mosaic_for_pub.jpg'\n",
    "pics = [fig1_example_roi, fig2_aruco_markers, fig3_aruco_placement, fig4_bad_detection, fig6_aruco_undetected]\n",
    "I = view.mosaic(pics,pad=10, cols=3, pad_color=(255,255,255), save_as=out)\n",
    "view.show(I)"
   ]
  },
  {
   "cell_type": "code",
   "execution_count": 3,
   "metadata": {},
   "outputs": [
    {
     "data": {
      "text/plain": [
       "(32, 'img')"
      ]
     },
     "execution_count": 3,
     "metadata": {},
     "output_type": "execute_result"
    }
   ],
   "source": [
    "vex_halo = ['C:/Users/Graham Monkman/OneDrive/ebay/1 tolist/xbox/DSCF0128.JPG',\n",
    "'C:/Users/Graham Monkman/OneDrive/ebay/1 tolist/xbox/DSCF0129.JPG',\n",
    "'C:/Users/Graham Monkman/OneDrive/ebay/1 tolist/xbox/DSCF0131.JPG',\n",
    "'C:/Users/Graham Monkman/OneDrive/ebay/1 tolist/xbox/DSCF0126.JPG']\n",
    "out = r'C:\\Users\\Graham Monkman\\OneDrive\\ebay\\1 tolist\\xbox\\vex_halo.jpg'\n",
    "I = view.mosaic(vex_halo, cols=2, save_as=out)\n",
    "view.show(I)\n",
    "\n",
    "\n",
    "prince_jadeempire = ['C:/Users/Graham Monkman/OneDrive/ebay/1 tolist/xbox/DSCF0132.JPG',\n",
    "'C:/Users/Graham Monkman/OneDrive/ebay/1 tolist/xbox/DSCF0133.JPG',\n",
    "'C:/Users/Graham Monkman/OneDrive/ebay/1 tolist/xbox/DSCF0134.JPG',\n",
    "'C:/Users/Graham Monkman/OneDrive/ebay/1 tolist/xbox/DSCF0135.JPG'\n",
    "]\n",
    "out = r'C:\\Users\\Graham Monkman\\OneDrive\\ebay\\1 tolist\\xbox\\prince_jadeempire.jpg'\n",
    "I = view.mosaic(prince_jadeempire, cols=2, save_as=out)\n",
    "view.show(I)\n",
    "\n",
    "\n",
    "deadalive_ralli = ['C:/Users/Graham Monkman/OneDrive/ebay/1 tolist/xbox/DSCF0396.JPG',\n",
    "'C:/Users/Graham Monkman/OneDrive/ebay/1 tolist/xbox/DSCF0397.JPG',\n",
    "'C:/Users/Graham Monkman/OneDrive/ebay/1 tolist/xbox/DSCF0398.JPG',\n",
    "'C:/Users/Graham Monkman/OneDrive/ebay/1 tolist/xbox/DSCF0394.JPG']\n",
    "out = r'C:\\Users\\Graham Monkman\\OneDrive\\ebay\\1 tolist\\xbox\\deadalive_ralli.jpg'\n",
    "I = view.mosaic(deadalive_ralli, cols=2, save_as=out)\n",
    "view.show(I)\n",
    "\n",
    "\n",
    "spider_scooby = ['C:/Users/Graham Monkman/OneDrive/ebay/1 tolist/xbox/DSCF0400.JPG',\n",
    "'C:/Users/Graham Monkman/OneDrive/ebay/1 tolist/xbox/DSCF0401.JPG',\n",
    "'C:/Users/Graham Monkman/OneDrive/ebay/1 tolist/xbox/DSCF0402.JPG',\n",
    "'C:/Users/Graham Monkman/OneDrive/ebay/1 tolist/xbox/DSCF0399.JPG']\n",
    "out = r'C:\\Users\\Graham Monkman\\OneDrive\\ebay\\1 tolist\\xbox\\spider_scooby.jpg'\n",
    "I = view.mosaic(spider_scooby, cols=2, save_as=out)\n",
    "view.show(I)\n",
    "\n",
    "\n",
    "halo_dd = ['C:/Users/Graham Monkman/OneDrive/ebay/1 tolist/xbox/DSCF0406.JPG',\n",
    "'C:/Users/Graham Monkman/OneDrive/ebay/1 tolist/xbox/DSCF0407.JPG',\n",
    "'C:/Users/Graham Monkman/OneDrive/ebay/1 tolist/xbox/DSCF0403.JPG',\n",
    "'C:/Users/Graham Monkman/OneDrive/ebay/1 tolist/xbox/DSCF0405.JPG']\n",
    "out = r'C:\\Users\\Graham Monkman\\OneDrive\\ebay\\1 tolist\\xbox\\halo_dd.jpg'\n",
    "I = view.mosaic(halo_dd, cols=2, save_as=out)\n",
    "view.show(I)\n",
    "\n",
    "\n",
    "first = ['C:/Users/Graham Monkman/OneDrive/ebay/1 tolist/xbox/DSCF0408.JPG',\n",
    "'C:/Users/Graham Monkman/OneDrive/ebay/1 tolist/xbox/DSCF0419.JPG',\n",
    "'C:/Users/Graham Monkman/OneDrive/ebay/1 tolist/xbox/DSCF0415.JPG',\n",
    "'C:/Users/Graham Monkman/OneDrive/ebay/1 tolist/xbox/DSCF0413.JPG']\n",
    "out = r'C:\\Users\\Graham Monkman\\OneDrive\\ebay\\1 tolist\\xbox\\first.jpg'\n",
    "I = view.mosaic(first, cols=2, save_as=out)\n",
    "view.show(I)\n",
    "\n",
    "\n",
    "misc = ['C:/Users/Graham Monkman/OneDrive/ebay/1 tolist/xbox/DSCF0424.JPG',\n",
    "'C:/Users/Graham Monkman/OneDrive/ebay/1 tolist/xbox/DSCF0426.JPG',\n",
    "'C:/Users/Graham Monkman/OneDrive/ebay/1 tolist/xbox/DSCF0448.JPG',\n",
    "'C:/Users/Graham Monkman/OneDrive/ebay/1 tolist/xbox/DSCF0421.JPG']\n",
    "out = r'C:\\Users\\Graham Monkman\\OneDrive\\ebay\\1 tolist\\xbox\\misc.jpg'\n",
    "I = view.mosaic(misc, cols=2, save_as=out)\n",
    "view.show(I)\n"
   ]
  },
  {
   "cell_type": "code",
   "execution_count": null,
   "metadata": {},
   "outputs": [],
   "source": []
  }
 ],
 "metadata": {
  "kernelspec": {
   "display_name": "Python 3",
   "language": "python",
   "name": "python3"
  },
  "language_info": {
   "codemirror_mode": {
    "name": "ipython",
    "version": 3
   },
   "file_extension": ".py",
   "mimetype": "text/x-python",
   "name": "python",
   "nbconvert_exporter": "python",
   "pygments_lexer": "ipython3",
   "version": "3.5.4"
  }
 },
 "nbformat": 4,
 "nbformat_minor": 2
}
