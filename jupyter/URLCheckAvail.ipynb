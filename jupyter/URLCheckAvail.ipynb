{
 "cells": [
  {
   "cell_type": "code",
   "execution_count": 1,
   "metadata": {},
   "outputs": [],
   "source": [
    "import urllib.request as request\n",
    "import funclib.iolib as iolib\n",
    "urls = ['myweb.tiscali.co.uk/mistybluecharters', 'www.1kpl.com/aries2', 'www.3sisters.co.uk', 'www.aaacharters.co.uk', 'www.akexploration.co.uk', 'www.amarisaweymouth.co.uk', 'www.ambleboatcharter.com', 'www.amblecharters.vpweb.co.uk', 'www.angeluscharter.webs.com', 'www.aquatrek.co.uk', 'www.aquavitesse.co.uk', 'www.atlantafishing.co.uk', 'www.atlanticdiver.co.uk', 'www.atlanticdiver.co.uk', 'www.becca-marie.co.uk', 'www.beowulffishing.co.uk', 'www.bessievee.co.uk', 'www.biteadventures.com', 'www.blazer2.co.uk', 'www.bluefincharters.co.uk', 'www.bluefin-charters.co.uk', 'www.bluethundercharters.com', 'www.blueturtle.uk.com', 'www.boatangling.com', 'www.boatfishing.info', 'www.boatandcharterhire.co.uk', 'www.boatandcharterhire.co.uk', 'www.boatfishingtyne.co.uk', 'www.bootleggercharters.co.uk', 'www.boycarl.pwp.blueyonder.co.uk', 'www.brightoncharterfishing.co.uk', 'www.brightondiver.com', 'www.bristolchannelcharters.co.uk', 'www.bristol-channel-charters.co.uk', 'www.cachalot-charters.co.uk', 'www.carlonboatchaters.com', 'www.carricklee.co.uk', 'www.castawaycharters.co.uk', 'www.cbfishing.co.uk', 'www.celticwarrior.me.uk', 'www.channeldiving.com', 'www.channelwarrior.co.uk', 'www.charismawhitby.co.uk', 'www.charterfishing.co.uk', 'www.chinquita.moonfruit.com', 'www.chrismolecharters.com', 'www.christyanncharters.co.uk', 'www.cloud9seafishing.com', 'www.famous-angling-charters.com', 'www.farne-islands.com', 'www.clovelly-charters.ukf.net', 'www.cornishfishing.co.uk', 'www.cornwallboattrips.co.uk', 'www.cornwall-charters.com', 'www.crimsontidecharters.co.uk', 'www.dannyboy2.co.uk', 'www.dartmouthcharters.co.uk', 'www.dawnbreakercharters.co.uk', 'www.dawnraider.com', 'www.dawntidecharterfishing.co.uk', 'www.dawnventure.co.uk', 'www.deepbluecharters.co.uk', 'www.deepsea.co.uk', 'www.deepsea.co.uk', 'www.deepseafishingpoole.co.uk', 'www.dentexcharters.co.uk', 'www.discoverycharters.co.uk', 'www.divingstyles.co.uk', 'www.dominatorcharters.com', 'www.dovermarinecharters.com', 'www.eastbournecharterfishing.com', 'www.emmakate2.com', 'www.essexseafishing.co.uk', 'www.evelyn-jane.co.uk', 'www.excalibur3.co.uk', 'www.famous-angling-charters.com', 'www.firefox-fishingcharters.co.uk', 'www.firefox-fishingcharters.co.uk', 'www.fishingramsgate.com', 'www.fish-jensen.co.uk', 'www.fish-jensen.co.uk', 'www.fishnewquay.co.uk', 'www.folkestoneangler.co.uk', 'www.freewebs.com/piscinetours', 'www.geminifishing.co.uk', 'www.girlmandycharters.co.uk', 'www.goldrushboatcharters.co.uk', 'www.hermitcharters.co.uk', 'www.highlanderessex.co.uk', 'www.independentcharters.co.uk', 'www.jean-kseafishing.com', 'www.jeniferspride.co.uk', 'www.jo-danfishdive.co.uk', 'www.johnrawlefishing.co.uk', 'www.jollyfishermancharters.co.uk', 'www.jurassicfishing.co.uk', 'www.katfishcharters.co', 'www.katieanncharters.co.uk', 'www.kellysherocharters.co.uk', 'www.kmscharters.co.uk', 'www.ladyannefishingcharters.moonfruit.com', 'www.ladyessex.com', 'www.ladymary.co.uk', 'www.kentcharterfishing.com', 'www.lizycharterangling.co.uk', 'www.louisejane.net', 'www.lundydiving.co.uk', 'www.lymebayboattrips.co.uk', 'www.lymeregis.com/amaretto', 'www.lymeregis.com/kraken', 'www.lymeregis.com/marief', 'www.lymeregis.com/neptune', 'www.mackerelfishing.co.uk', 'www.mackerelfishing.co.uk', 'www.margaret-elaine.co.uk', 'www.markamsfishingtackle.co.uk', 'www.marnamarine.co.uk', 'www.matzenmarineservices.co.uk', 'www.meerkat-boat-trips.co.uk', 'www.merseafishingtrips.co.uk', 'www.mevagisseyboattrips.co.uk', 'www.mevagisseyfishing.co.uk', 'www.mistress-whitby.co.uk', 'www.mistyladyfishing.co.uk', 'www.morganmcharters.co.uk', 'www.mvfreedom.co.uk', 'www.mystiquefishing.com', 'www.predatorpoole.com', 'www.newquayfishingtrips.co.uk', 'www.newquay-harbour.com', 'www.northstar-charterfishing.co.uk', 'www.ocean-pearl.co.uk', 'www.oceanwarrior3.com', 'www.optimistfishingcharter.co.uk', 'www.ospreycharters.co.uk', 'www.ourgemma.com', 'www.ourjoe-l.co.uk', 'www.ourjoy.co.uk', 'www.outlawcharters.co.uk', 'www.outrage-charters.co.uk', 'www.paddlefishadventure.co.uk', 'www.panthercharters.co.uk', 'www.pathfindercharter.com', 'www.penzanceboatfishing.co.uk', 'www.philwhitecharters.co.uk', 'www.phoenixcharters.co.uk', 'www.piscary.co.uk', 'www.plymouthcharter.co.uk', 'www.plymouthdeepseaangling.co.uk', 'www.plymouthseaangling.co.uk', 'www.pooleangling.co.uk', 'www.poolecharter.co.uk', 'www.porthlevenangling.co.uk', 'www.portisheadcharters.co.uk', 'www.predatorcharters.co.uk', 'www.porthlevenangling.co.uk', 'www.privateventuresportfishing.co.uk', 'www.queensferrycruises.com', 'www.ramsgatecharters.com', 'www.randomharvestcharters.co.uk', 'www.reecerfishingcharters.co.uk', 'www.rocket.eu.com', 'www.royalcharlotte.co.uk', 'www.royalcharlotte.co.uk', 'www.royaleagle.co.uk', 'www.salcombeangling.co.uk', 'www.sallyanncharters.co.uk', 'www.saltwind.co.uk', 'www.sarahjfk.com', 'www.scoobydootoo.com', 'www.seaanglerii.co.uk', 'www.seaanglingnortheast.co.uk', 'www.seabreeze3.co.uk', 'www.seafirefishing.co.uk', 'www.seafishing.uk.com', 'www.seafishinginfo.co.uk', 'www.seafishinglittlehampton.co.uk', 'www.seafoxcharters.co.uk', 'www.stivesboats.co.uk', 'www.whitemarlinseafishing.com', 'www.whyworryanglingcharters.co.uk', 'www.wighthuntress.co.uk', 'www.sea-juicer.co.uk', 'www.sea-leopard.co.uk', 'www.sealeopardcharter.com', 'www.sea-otter2.whitbyseaanglers.co.uk', 'www.seasearcher.co.uk', 'www.seaspray-whitby.co.uk', 'www.seeker-charters.com', 'www.sharkanglingclubofgreatbritain.org.uk', 'www.sharkanglingclubofgreatbritain.org.uk', 'www.sharkanglingclubofgreatbritain.org.uk', 'www.sharkanglingclubofgreatbritain.org.uk', 'www.shy-torque2000.com', 'www.silverseacharter.co.uk', 'www.silverspraycharters.com', 'www.skerrybelle.com', 'www.sophieleacharters.co.uk', 'www.southcoastdivingfishing.com', 'www.southwestfishing.net', 'www.spiritofarun.co.uk', 'www.supanova-charters.co.uk', 'www.susie-b.co.uk', 'www.sussexseacharters.co.uk ', 'www.swanageseafishing.co.uk', 'www.swanageseafishing.co.uk', 'www.tangoofweymouth.co.uk', 'www.theafricanqueen.co.uk', 'www.thechieftain.co.uk', 'www.tigercharters.co.uk', 'www.tigercharters.co.uk', 'www.tinadawn-whitby.co.uk', 'www.tomkatcharterfishing.co.uk', 'www.trotoncharters.co.uk', 'www.truebluefishing.co.uk', 'www.twodogswhitby.co.uk', 'www.ultimatefishingtrips.co.uk', 'www.unityfishingtrips.com', 'www.viking-charters.co.uk', 'www.warriorcharters.co.uk', 'www.westbayfishing.net', 'www.westbayfishingtrips.co.uk', 'www.wetwheels.co.uk', 'www.weymouth-angling.co.uk', 'www.whitbyfishingtrips.co.uk', 'www.whitby-lone-shark.co.uk', 'www.whitby-sea-fishing.co.uk', 'www.white-maiden.com', 'www.wightsapphireboatcharters.co.uk', 'www.wightspirit.co.uk', 'www.woodmarine.co.uk', 'www.woodmarine.co.uk', 'www.woodmarine.co.uk', 'www.yorkshirecoastseafishing.co.uk']\n",
    "urls = ['http://' + url for url in urls]"
   ]
  },
  {
   "cell_type": "code",
   "execution_count": 2,
   "metadata": {},
   "outputs": [
    {
     "data": {
      "text/plain": [
       "'C:/temp/resp.txt'"
      ]
     },
     "execution_count": 2,
     "metadata": {},
     "output_type": "execute_result"
    }
   ],
   "source": [
    "responses = []\n",
    "for url in urls:\n",
    "    try:\n",
    "        a = request.urlopen(url)\n",
    "        if a.status == 200:\n",
    "            responses.append('Data Sparse/Irrelavant')\n",
    "    except:\n",
    "        responses.append('Unavailable')\n",
    "\n",
    "iolib.write_to_file(responses, open_in_npp=True, full_file_path='C:/temp/resp.txt')   \n"
   ]
  },
  {
   "cell_type": "code",
   "execution_count": 10,
   "metadata": {},
   "outputs": [],
   "source": []
  },
  {
   "cell_type": "code",
   "execution_count": null,
   "metadata": {},
   "outputs": [],
   "source": []
  }
 ],
 "metadata": {
  "kernelspec": {
   "display_name": "Python 3",
   "language": "python",
   "name": "python3"
  },
  "language_info": {
   "codemirror_mode": {
    "name": "ipython",
    "version": 3
   },
   "file_extension": ".py",
   "mimetype": "text/x-python",
   "name": "python",
   "nbconvert_exporter": "python",
   "pygments_lexer": "ipython3",
   "version": "3.5.4"
  }
 },
 "nbformat": 4,
 "nbformat_minor": 2
}
