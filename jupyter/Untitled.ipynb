{
 "cells": [
  {
   "cell_type": "code",
   "execution_count": 71,
   "metadata": {},
   "outputs": [],
   "source": [
    "from warnings import warn as _warn\n",
    "import numpy as _np\n",
    "import cv2 as _cv2\n",
    "import scipy.ndimage as _ndimage\n",
    "import scipy.spatial.distance as _dist"
   ]
  },
  {
   "cell_type": "code",
   "execution_count": null,
   "metadata": {},
   "outputs": [],
   "source": [
    "def feature_dist(input):\n",
    "    \"\"\"\n",
    "    Takes a labeled array as returned by scipy.ndimage.label and \n",
    "    returns an intra-feature distance matrix.\n",
    "    \"\"\"\n",
    "    if isinstance(labelled_array, tuple):\n",
    "        _warn('Tuple was passed to feature_dist, assuming the ndarray is in the tuple. This happens of the output from ndimage.label is used directly and is not a problem.')\n",
    "        labelled_array = labelled_array[0]\n",
    "\n",
    "    I, J = _np.nonzero(input)\n",
    "    labels = input[I,J]\n",
    "    coords = _np.column_stack((I,J))\n",
    "\n",
    "    sorter = _np.argsort(labels)\n",
    "    labels = labels[sorter]\n",
    "    coords = coords[sorter]\n",
    "\n",
    "    sq_dists = _dist.cdist(coords, coords, 'sqeuclidean')\n",
    "\n",
    "    start_idx = _np.flatnonzero(_np.r_[1, _np.diff(labels)])\n",
    "    nonzero_vs_feat = _np.minimum.reduceat(sq_dists, start_idx, axis=1)\n",
    "    feat_vs_feat = _np.minimum.reduceat(nonzero_vs_feat, start_idx, axis=0)\n",
    "\n",
    "    return _np.sqrt(feat_vs_feat)"
   ]
  },
  {
   "cell_type": "code",
   "execution_count": 76,
   "metadata": {},
   "outputs": [
    {
     "name": "stdout",
     "output_type": "stream",
     "text": [
      "[[1 1 1 1 1 1 0 0 0 2]\n",
      " [1 1 1 1 1 1 0 0 0 0]\n",
      " [1 1 1 1 1 1 0 0 0 0]\n",
      " [1 1 1 1 1 1 0 0 0 0]\n",
      " [1 1 1 1 1 1 0 0 0 0]\n",
      " [1 1 1 1 1 1 0 0 0 0]\n",
      " [1 1 1 1 1 1 0 0 0 0]\n",
      " [1 1 1 1 1 1 0 0 0 0]\n",
      " [1 1 1 1 1 1 0 0 3 3]\n",
      " [1 1 1 1 1 1 0 0 3 3]]\n"
     ]
    }
   ],
   "source": [
    "A = _np.zeros(100).reshape(10,10)\n",
    "A[:,0:6] = 1\n",
    "A[0,9]=2\n",
    "A[8:10,8:10]=3\n",
    "ALbl= _ndimage.label(A)[0]\n",
    "print(ALbl)\n",
    "\n",
    "AL"
   ]
  },
  {
   "cell_type": "code",
   "execution_count": 77,
   "metadata": {},
   "outputs": [
    {
     "data": {
      "text/plain": [
       "array([[0., 4., 3.],\n",
       "       [4., 0., 8.],\n",
       "       [3., 8., 0.]])"
      ]
     },
     "execution_count": 77,
     "metadata": {},
     "output_type": "execute_result"
    }
   ],
   "source": [
    "feature_dist(ALbl)"
   ]
  },
  {
   "cell_type": "code",
   "execution_count": 78,
   "metadata": {},
   "outputs": [],
   "source": [
    "C = _np.array([[[2243, 3363]],\n",
    "\n",
    "       [[2242, 3364]],\n",
    "\n",
    "       [[2242, 3392]],\n",
    "\n",
    "       [[2243, 3392]],\n",
    "\n",
    "       [[2244, 3393]],\n",
    "\n",
    "       [[2302, 3393]],\n",
    "\n",
    "       [[2303, 3392]],\n",
    "\n",
    "       [[2303, 3364]],\n",
    "\n",
    "       [[2302, 3363]]], dtype='int32')"
   ]
  },
  {
   "cell_type": "code",
   "execution_count": 79,
   "metadata": {},
   "outputs": [],
   "source": [
    "cntrs = [C,C,C]\n",
    "def contour_to_cvpts(cnt):\n",
    "    '''(n,1,2-ndarray) -> n,2-list\n",
    "    Convert a contour points to\n",
    "    standard CVXY points list.\n",
    "\n",
    "    cnt:A cv2 contour, which is an n,1,2 ndarray\n",
    "\n",
    "    Returns:\n",
    "    List of points in standard cv format, e.g. [[0,0],[1,2]]\n",
    "    '''\n",
    "    return cnt.squeeze().tolist()\n",
    "\n",
    "\n",
    "def contours_bounding_rect(contours):\n",
    "    '''(list:n,1,2-ndarray)->y1, y2, x1, x2\n",
    "\n",
    "    Returns:\n",
    "        y1, y2, x1, x2. Chosen for ease of use in using for slicing\n",
    "    '''\n",
    "    allpts = []\n",
    "    for c in contours:\n",
    "        pts = contour_to_cvpts(c)\n",
    "        _ = [allpts.append(pt) for pt in pts]\n",
    "    xs, ys = zip(*allpts)\n",
    "    return min(ys), max(ys), min(xs), max(xs)"
   ]
  },
  {
   "cell_type": "code",
   "execution_count": 80,
   "metadata": {},
   "outputs": [
    {
     "data": {
      "text/plain": [
       "(3363, 3393, 2242, 2303)"
      ]
     },
     "execution_count": 80,
     "metadata": {},
     "output_type": "execute_result"
    }
   ],
   "source": [
    "contours_bounding_rect(cntrs)"
   ]
  },
  {
   "cell_type": "code",
   "execution_count": 84,
   "metadata": {},
   "outputs": [
    {
     "data": {
      "text/plain": [
       "array([[0, 0, 0],\n",
       "       [0, 0, 0],\n",
       "       [0, 0, 0]], dtype=uint8)"
      ]
     },
     "execution_count": 84,
     "metadata": {},
     "output_type": "execute_result"
    }
   ],
   "source": []
  },
  {
   "cell_type": "code",
   "execution_count": 85,
   "metadata": {},
   "outputs": [
    {
     "data": {
      "text/plain": [
       "dtype('int32')"
      ]
     },
     "execution_count": 85,
     "metadata": {},
     "output_type": "execute_result"
    }
   ],
   "source": [
    "ALbl.dtype"
   ]
  },
  {
   "cell_type": "code",
   "execution_count": 87,
   "metadata": {},
   "outputs": [],
   "source": [
    "Z = _np.zeros((3400, 2500), dtype='int32')"
   ]
  },
  {
   "cell_type": "code",
   "execution_count": 93,
   "metadata": {},
   "outputs": [],
   "source": [
    "I = _cv2.drawContours(Z, C, -1, 255)"
   ]
  },
  {
   "cell_type": "code",
   "execution_count": 94,
   "metadata": {},
   "outputs": [
    {
     "data": {
      "text/plain": [
       "(3400, 2500)"
      ]
     },
     "execution_count": 94,
     "metadata": {},
     "output_type": "execute_result"
    }
   ],
   "source": [
    "I.shape"
   ]
  },
  {
   "cell_type": "code",
   "execution_count": 97,
   "metadata": {},
   "outputs": [],
   "source": [
    "T=_np.arange(9).reshape(3,3)"
   ]
  },
  {
   "cell_type": "code",
   "execution_count": 99,
   "metadata": {},
   "outputs": [
    {
     "name": "stdout",
     "output_type": "stream",
     "text": [
      "0\n",
      "1\n",
      "2\n",
      "3\n",
      "4\n",
      "5\n",
      "6\n",
      "7\n",
      "8\n"
     ]
    }
   ],
   "source": [
    "for r in T:\n",
    "    for x in r:\n",
    "        print(x)"
   ]
  },
  {
   "cell_type": "code",
   "execution_count": 100,
   "metadata": {},
   "outputs": [],
   "source": [
    "l = [1,2,3]"
   ]
  },
  {
   "cell_type": "code",
   "execution_count": null,
   "metadata": {},
   "outputs": [],
   "source": [
    "l["
   ]
  }
 ],
 "metadata": {
  "kernelspec": {
   "display_name": "Python 3",
   "language": "python",
   "name": "python3"
  },
  "language_info": {
   "codemirror_mode": {
    "name": "ipython",
    "version": 3
   },
   "file_extension": ".py",
   "mimetype": "text/x-python",
   "name": "python",
   "nbconvert_exporter": "python",
   "pygments_lexer": "ipython3",
   "version": "3.5.4"
  }
 },
 "nbformat": 4,
 "nbformat_minor": 2
}
