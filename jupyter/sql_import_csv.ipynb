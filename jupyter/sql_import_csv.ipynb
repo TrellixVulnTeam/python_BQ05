{
 "cells": [
  {
   "cell_type": "code",
   "execution_count": 1,
   "metadata": {},
   "outputs": [],
   "source": [
    "import funclib\n",
    "import funclib.baselib as baselib\n",
    "import funclib.iolib as iolib\n",
    "import dblib.mssql as mssql\n",
    "import csv"
   ]
  },
  {
   "cell_type": "code",
   "execution_count": 6,
   "metadata": {},
   "outputs": [],
   "source": [
    "#GET FIELD TYPES OF CSV\n",
    "#Prints field lengths as well\n",
    "#Which can be used to create the database\n",
    "#or to manually modify comments for my excel import"
   ]
  },
  {
   "cell_type": "code",
   "execution_count": 58,
   "metadata": {},
   "outputs": [
    {
     "name": "stdout",
     "output_type": "stream",
     "text": [
      "<class 'pandas.core.frame.DataFrame'>\n",
      "RangeIndex: 50163 entries, 0 to 50162\n",
      "Data columns (total 7 columns):\n",
      "medinid         50163 non-null int32\n",
      "medinid_orig    50163 non-null int64\n",
      "name            50163 non-null object\n",
      "description     50163 non-null object\n",
      "feature_type    50163 non-null object\n",
      "x               50163 non-null float16\n",
      "y               50163 non-null float16\n",
      "dtypes: float16(2), int32(1), int64(1), object(3)\n",
      "memory usage: 1.9+ MB\n",
      "name: 59\n",
      "description: 25\n",
      "feature_type: 12\n"
     ]
    }
   ],
   "source": [
    "import pandas as pd\n",
    "\n",
    "fname = 'C:/GISDATA/marine/gazetteer/medin/medin_gazetteer.csv'\n",
    "t = {'medinid':pd.np.int32, 'name':pd.np.str, 'description':pd.np.str, 'feature_type':pd.np.str, 'x':pd.np.float16, 'y':pd.np.float16}\n",
    "df = pd.read_csv(fname, delimiter=',', header=0, encoding = 'latin', dtype=t, na_filter=False, keep_default_na=False)\n",
    "df.info(verbose=True)\n",
    "\n",
    "for col in df:\n",
    "    try:\n",
    "        print('%s: %s' % (df[col].name, df[col].map(lambda x: len(x)).max()))\n",
    "    except Exception as e:\n",
    "        pass\n"
   ]
  },
  {
   "cell_type": "code",
   "execution_count": 5,
   "metadata": {},
   "outputs": [
    {
     "name": "stdout",
     "output_type": "stream",
     "text": [
      "Reading rows for counter ....\n",
      "update state\n"
     ]
    }
   ],
   "source": [
    "#MAIN IMPORT\n",
    "#This takes a folder with 1 or more csv files in\n",
    "#loops through them inserting records into an\n",
    "#existing database"
   ]
  },
  {
   "cell_type": "code",
   "execution_count": 36,
   "metadata": {},
   "outputs": [
    {
     "name": "stdout",
     "output_type": "stream",
     "text": [
      "Counting stuff...\n",
      "1 of 1 [##############################] 100.0% \n",
      "\n",
      "Total nr:50164\n"
     ]
    }
   ],
   "source": [
    "#This calculates how many rows we need to import\n",
    "#Bearing in mind that it supports multiple csv sources\n",
    "#in folder fld\n",
    "\n",
    "#NOTE:\n",
    "#For some imports, we can add the source file name\n",
    "#and a candidate incremental key - adjust db and\n",
    "#this import code accordingly\n",
    "\n",
    "nr = 0\n",
    "fld = 'C:/GISDATA/marine/gazetteer/medin'\n",
    "dbname = 'gazetteer'\n",
    "dbtable = 'medin'\n",
    "server = '(local)'\n",
    "#encoding = 'utf-8-sig'\n",
    "encoding = 'latin'\n",
    "has_header_row = True\n",
    "\n",
    "fnr = sum(1 for fname in iolib.file_list_generator1(fld, '*.csv', recurse=True))\n",
    "PP = iolib.PrintProgress(maximum=fnr, init_msg='Counting stuff...')\n",
    "\n",
    "for fname in iolib.file_list_generator1(fld, '*.csv', recurse=True):\n",
    "    with open(fname, encoding=encoding) as f:\n",
    "        reader = csv.reader(f, delimiter=\",\")\n",
    "        nr += sum(1 for row in reader)\n",
    "    PP.increment()\n",
    "    \n",
    "print('Total nr:%s' %nr)"
   ]
  },
  {
   "cell_type": "code",
   "execution_count": 66,
   "metadata": {},
   "outputs": [
    {
     "name": "stdout",
     "output_type": "stream",
     "text": [
      "Importing into SQL...\n",
      "50164 of 50164 [##############################] 100.0% Errs:0\n",
      "\n",
      "Finished. Imported 50164 records of 50164\n"
     ]
    }
   ],
   "source": [
    "#see https://stackoverflow.com/questions/17912307/u-ufeff-in-python-string\n",
    "#for an explanation of the encoding\n",
    "err_cnt = 0\n",
    "PP = iolib.PrintProgress(maximum=nr, init_msg='Importing into SQL...')\n",
    "errs = []\n",
    "for fname in iolib.file_list_generator1(fld, '*.csv', recurse=True):\n",
    "    _, nm, _ = iolib.get_file_parts2(fname)\n",
    "    with mssql.Conn(dbname, server, autocommit=True) as cnn:\n",
    "        with open(fname, encoding=encoding) as f:\n",
    "            reader = csv.reader(f, delimiter=\",\")\n",
    "            rw_nr = 0\n",
    "            if has_header_row:\n",
    "                is_header = True\n",
    "            else:\n",
    "                is_header = False\n",
    "            for row in reader:\n",
    "                rw_nr += 1\n",
    "                if not is_header:\n",
    "                    row = [s.replace(\"'\",\"''\") for s in row]\n",
    "                    \n",
    "                    #row.append(nm) #append filename\n",
    "                    #row.append(str(rw_nr)) - used to create a key if we didnt have one\n",
    "                    \n",
    "                    ins = \"'\" + \"','\".join(row) + \"'\"\n",
    "                    sql = \"INSERT INTO [%s] SELECT %s\" % (dbtable, ins)\n",
    "                    \n",
    "                    try:\n",
    "                        with cnn.cursor() as cur:\n",
    "                            cur.execute(sql)\n",
    "                    except Exception as e:\n",
    "                        err_cnt += 1\n",
    "                        if err_cnt < 10:\n",
    "                            print(e)\n",
    "                        \n",
    "                is_header = False\n",
    "                PP.increment(suffix='Errs:%s' % err_cnt)\n",
    "                    \n",
    "print('Finished. Imported %s records of %s' % (nr - err_cnt, nr))"
   ]
  },
  {
   "cell_type": "code",
   "execution_count": null,
   "metadata": {},
   "outputs": [],
   "source": []
  }
 ],
 "metadata": {
  "kernelspec": {
   "display_name": "Python 3",
   "language": "python",
   "name": "python3"
  },
  "language_info": {
   "codemirror_mode": {
    "name": "ipython",
    "version": 3
   },
   "file_extension": ".py",
   "mimetype": "text/x-python",
   "name": "python",
   "nbconvert_exporter": "python",
   "pygments_lexer": "ipython3",
   "version": "3.5.4"
  }
 },
 "nbformat": 4,
 "nbformat_minor": 2
}
