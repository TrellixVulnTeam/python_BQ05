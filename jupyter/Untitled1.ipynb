{
 "cells": [
  {
   "cell_type": "code",
   "execution_count": 40,
   "metadata": {},
   "outputs": [],
   "source": [
    "import cv2\n",
    "import numpy as np\n",
    "from opencvlib.view import show\n",
    "img = cv2.imread('C:/development/python/opencvlib/test/bin/images/mask.jpg')\n",
    "img1c = img[:,:,0:1]\n",
    "img1c = cv2.dilate(img1c, (5,5), iterations=10)\n"
   ]
  },
  {
   "cell_type": "code",
   "execution_count": 42,
   "metadata": {},
   "outputs": [
    {
     "data": {
      "text/plain": [
       "(113, 'img')"
      ]
     },
     "execution_count": 42,
     "metadata": {},
     "output_type": "execute_result"
    }
   ],
   "source": [
    "des = img1c # cv2.bitwise_not(img1c)\n",
    "\n",
    "contour,hier = cv2.findContours(des,cv2.RETR_CCOMP,cv2.CHAIN_APPROX_SIMPLE)\n",
    "\n",
    "for cnt in contour:\n",
    "    cv2.drawContours(des,[cnt],0,255,-1)\n",
    "\n",
    "#gray = cv2.bitwise_not(des)\n",
    "show(des)"
   ]
  },
  {
   "cell_type": "code",
   "execution_count": 25,
   "metadata": {},
   "outputs": [
    {
     "data": {
      "text/plain": [
       "(113, 'img')"
      ]
     },
     "execution_count": 25,
     "metadata": {},
     "output_type": "execute_result"
    }
   ],
   "source": [
    "dil = cv2.dilate(img1c, (10,10), iterations=10)\n",
    "show(dil)               \n",
    "                 "
   ]
  },
  {
   "cell_type": "code",
   "execution_count": 18,
   "metadata": {},
   "outputs": [
    {
     "name": "stdout",
     "output_type": "stream",
     "text": [
      "dilate(src, kernel[, dst[, anchor[, iterations[, borderType[, borderValue]]]]]) -> dst\n",
      ".   @brief Dilates an image by using a specific structuring element.\n",
      ".   \n",
      ".   The function dilates the source image using the specified structuring element that determines the\n",
      ".   shape of a pixel neighborhood over which the maximum is taken:\n",
      ".   \\f[\\texttt{dst} (x,y) =  \\max _{(x',y'):  \\, \\texttt{element} (x',y') \\ne0 } \\texttt{src} (x+x',y+y')\\f]\n",
      ".   \n",
      ".   The function supports the in-place mode. Dilation can be applied several ( iterations ) times. In\n",
      ".   case of multi-channel images, each channel is processed independently.\n",
      ".   \n",
      ".   @param src input image; the number of channels can be arbitrary, but the depth should be one of\n",
      ".   CV_8U, CV_16U, CV_16S, CV_32F or CV_64F.\n",
      ".   @param dst output image of the same size and type as src.\n",
      ".   @param kernel structuring element used for dilation; if elemenat=Mat(), a 3 x 3 rectangular\n",
      ".   structuring element is used. Kernel can be created using #getStructuringElement\n",
      ".   @param anchor position of the anchor within the element; default value (-1, -1) means that the\n",
      ".   anchor is at the element center.\n",
      ".   @param iterations number of times dilation is applied.\n",
      ".   @param borderType pixel extrapolation method, see #BorderTypes\n",
      ".   @param borderValue border value in case of a constant border\n",
      ".   @sa  erode, morphologyEx, getStructuringElement\n"
     ]
    }
   ],
   "source": [
    "print(cv2.dilate.__doc__)"
   ]
  },
  {
   "cell_type": "code",
   "execution_count": null,
   "metadata": {},
   "outputs": [],
   "source": []
  }
 ],
 "metadata": {
  "kernelspec": {
   "display_name": "Python 3",
   "language": "python",
   "name": "python3"
  },
  "language_info": {
   "codemirror_mode": {
    "name": "ipython",
    "version": 3
   },
   "file_extension": ".py",
   "mimetype": "text/x-python",
   "name": "python",
   "nbconvert_exporter": "python",
   "pygments_lexer": "ipython3",
   "version": "3.5.4"
  }
 },
 "nbformat": 4,
 "nbformat_minor": 2
}
