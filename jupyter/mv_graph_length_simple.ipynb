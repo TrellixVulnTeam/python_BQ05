{
 "cells": [
  {
   "cell_type": "code",
   "execution_count": 114,
   "metadata": {},
   "outputs": [],
   "source": [
    "from sklearn.metrics import mean_squared_error\n",
    "import seaborn as sns\n",
    "import matplotlib.pyplot as plt\n",
    "import pandas as pd\n",
    "import numpy as np\n",
    "from dblib import mssql\n",
    "%matplotlib inline\n",
    "sns.set()\n",
    "\n",
    "#grey = [\"#FFFFFF\", \"#999999\", \"#666666\", \"#333333\", \"#000000\"]\n",
    "grey = [\"#FFFFFF\", \"#AAAAAA\"]\n",
    "\n",
    "sns.set(font=\"Times New Roman\", font_scale=1.2, rc={\"lines.linewidth\": 0.4})\n",
    "\n",
    "sns.set_palette(sns.color_palette(\"colorblind\"))\n",
    "sns.set_style('ticks', rc={'axes.grid':True})\n",
    "\n",
    "#sns.set_style('ticks')\n",
    "\n",
    "def cm2inch(*tupl):\n",
    "    '''(tuple) -> tuple\n",
    "    matplotlib uses inches for figsize,\n",
    "    this wll convert inches to cm\n",
    "\n",
    "    Example:\n",
    "    >>>plt.figure(figsize=cm2inch(12.8, 9.6))\n",
    "    '''\n",
    "    inch = 2.54\n",
    "    if isinstance(tupl, (float, int)):\n",
    "        return tuple/inch\n",
    "    \n",
    "    if isinstance(tupl[0], tuple):\n",
    "        return tuple(i/inch for i in tupl[0])\n",
    "    else:\n",
    "        return tuple(i/inch for i in tupl)"
   ]
  },
  {
   "cell_type": "code",
   "execution_count": 112,
   "metadata": {},
   "outputs": [
    {
     "data": {
      "text/plain": [
       "['Measure', 'Actual (mm)', 'Estimate (mm)']"
      ]
     },
     "execution_count": 112,
     "metadata": {},
     "output_type": "execute_result"
    }
   ],
   "source": [
    "#mv_graph_length_simple.sql\n",
    "sql=\"select distinct 'Manual' as Measure ,tl_mm as [Actual (mm)] ,persp_corr_iter_profile_tridist_mm as [Estimate (mm)] from v_mv_detections where transform = 'None' union select distinct 'MV (nas)' as Measure ,tl_mm as [Actual (mm)] ,nas_persp_corr_iter_profile_tridist_mm as [Estimate (mm)] from v_mv_detections where transform = 'None'\"\n",
    "with mssql.Conn('imagedb', '(local)') as cnn:\n",
    "    df = pd.read_sql(sql, cnn)\n",
    "list(df)"
   ]
  },
  {
   "cell_type": "code",
   "execution_count": 115,
   "metadata": {},
   "outputs": [
    {
     "data": {
      "image/png": "[encoded data removed]",
      "text/plain": [
       "<matplotlib.figure.Figure at 0x27a351e76d8>"
      ]
     },
     "metadata": {},
     "output_type": "display_data"
    }
   ],
   "source": [
    "h=cm2inch(6)\n",
    "#3.14\n",
    "\n",
    "g = sns.lmplot(x=\"Actual (mm)\", y=\"Estimate (mm)\", hue=\"Measure\",\n",
    "               truncate=True, height=2.5, aspect=1.2, x_ci=\"ci\",\n",
    "               data=df, markers=[\".\",\".\"], scatter_kws={\"s\": 4}, legend=None)\n",
    "plt.savefig('C:/Users/Graham Monkman/OneDrive/Documents/PHD/My Papers/Fiducial_machine_vision_estimates/images/mv_graph_length_simple.jpg', dpi=500)"
   ]
  },
  {
   "cell_type": "code",
   "execution_count": null,
   "metadata": {},
   "outputs": [],
   "source": []
  },
  {
   "cell_type": "code",
   "execution_count": null,
   "metadata": {},
   "outputs": [],
   "source": []
  },
  {
   "cell_type": "code",
   "execution_count": 59,
   "metadata": {},
   "outputs": [
    {
     "data": {
      "text/plain": [
       "(3.149606299212598,)"
      ]
     },
     "execution_count": 59,
     "metadata": {},
     "output_type": "execute_result"
    }
   ],
   "source": [
    "sql=\"select distinct 'Manual' as Measure ,tl_mm as [Actual (mm)] ,persp_corr_iter_profile_tridist_mm - tl_mm as [Error (mm)] from v_mv_detections where transform = 'None' union select distinct 'MV (nas)' as Measure ,tl_mm as [TL (mm)] ,nas_persp_corr_iter_profile_tridist_mm - tl_mm as [Error (mm)] from v_mv_detections where transform = 'None'\"\n",
    "with mssql.Conn('imagedb', '(local)') as cnn:\n",
    "    df = pd.read_sql(sql, cnn)"
   ]
  },
  {
   "cell_type": "code",
   "execution_count": 88,
   "metadata": {},
   "outputs": [],
   "source": [
    "grey = [\"#EEEEEE\", \"#E8E8E8\", \"#E3E3E3\", \"#DEDEDE\", \"#D9D9D9\", \"#D3D3D3\", \"#CECECE\", \"#C9C9C9\", \"#C4C4C4\", \"#BFBFBF\"]\n",
    "grey = [\"#E8E8E8\", \"#000000\"]\n",
    "sns.set()\n",
    "sns.set(font='Times New Roman', font_scale=0.8, style=\"ticks\")\n",
    "sns.set_palette(sns.color_palette(\"colorblind\"))\n",
    "PLOT_KWARGS = {'aa':True, 'linestyle':'dashed', 'c':'0.65', 'lw':1}\n",
    "PLOT_REG_KWARGS = {'aa':True, 'linestyle':'solid', 'lw':1}\n",
    "SCATTER_KWARGS = {'marker':'.', 's':4}\n",
    "SPACER_FACTOR = 18"
   ]
  },
  {
   "cell_type": "code",
   "execution_count": 89,
   "metadata": {},
   "outputs": [
    {
     "data": {
      "text/plain": [
       "<seaborn.axisgrid.FacetGrid at 0x27a3563f8d0>"
      ]
     },
     "execution_count": 89,
     "metadata": {},
     "output_type": "execute_result"
    },
    {
     "data": {
      "image/png": "[encoded data removed]",
      "text/plain": [
       "<matplotlib.figure.Figure at 0x27a34cb88d0>"
      ]
     },
     "metadata": {},
     "output_type": "display_data"
    }
   ],
   "source": [
    "g = sns.lmplot(x='Actual (mm)', y='Error (mm)', hue='Measure', data=df,\n",
    "                   ci=95, x_ci='ci', n_boot=1000, height=2.14, aspect=1.2, line_kws=PLOT_REG_KWARGS, scatter_kws=SCATTER_KWARGS)\n",
    "\n",
    "ylim = (-70, 70); xlim = (0, 600)\n",
    "#g.set(xlim=xlim, ylim=ylim)\n",
    "g.set(ylim=ylim)\n",
    "        \n",
    "#g.set_axis_labels('tl (mm)', 'Error (mm)')\n"
   ]
  },
  {
   "cell_type": "code",
   "execution_count": null,
   "metadata": {},
   "outputs": [],
   "source": []
  },
  {
   "cell_type": "code",
   "execution_count": null,
   "metadata": {},
   "outputs": [],
   "source": []
  }
 ],
 "metadata": {
  "kernelspec": {
   "display_name": "Python 3",
   "language": "python",
   "name": "python3"
  },
  "language_info": {
   "codemirror_mode": {
    "name": "ipython",
    "version": 3
   },
   "file_extension": ".py",
   "mimetype": "text/x-python",
   "name": "python",
   "nbconvert_exporter": "python",
   "pygments_lexer": "ipython3",
   "version": "3.5.4"
  }
 },
 "nbformat": 4,
 "nbformat_minor": 2
}
