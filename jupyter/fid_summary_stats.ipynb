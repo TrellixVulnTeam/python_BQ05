{
 "cells": [
  {
   "cell_type": "code",
   "execution_count": 1,
   "metadata": {},
   "outputs": [
    {
     "name": "stderr",
     "output_type": "stream",
     "text": [
      "C:\\Python354x64\\Lib\\site-packages\\statsmodels\\compat\\pandas.py:56: FutureWarning: The pandas.core.datetools module is deprecated and will be removed in a future version. Please use the pandas.tseries module instead.\n",
      "  from pandas.core import datetools\n"
     ]
    }
   ],
   "source": [
    "#mv_model_rotation_error.sql\n",
    "from enum import Enum\n",
    "import numpy as np\n",
    "import matplotlib.pyplot as plt\n",
    "from scipy import optimize\n",
    "import pandas as pd\n",
    "import seaborn as sns\n",
    "from funclib.iolib import folder_open\n",
    "from dblib import mssql\n",
    "from plotlib.mplfuncs import FigWidthsInch as Size\n",
    "from scipy import stats\n",
    "import funclib.pandaslib as pdlib\n",
    "W = Size.one_and_a_half_col.value\n",
    "H = W*1\n",
    "\n",
    "sns.set()\n",
    "\n",
    "#gey = [\"#FFFFFF\", \"#999999\", \"#666666\", \"#333333\", \"#000000\"]\n",
    "#grey = [\"#FFFFFF\", \"#111111\"]\n",
    "#sns.set_palette(sns.color_palette(\"cubehelix\", 8))\n",
    "\n",
    "sns.set(font=\"Times New Roman\", font_scale=1.2, rc={\"lines.linewidth\": 1, \"figure.figsize\":(W, H)}) #\n",
    "sns.set_style('ticks') #rc={'axes.grid':True}\n"
   ]
  },
  {
   "cell_type": "code",
   "execution_count": 2,
   "metadata": {},
   "outputs": [
    {
     "data": {
      "text/plain": [
       "['Species',\n",
       " 'Marker',\n",
       " 'Correction',\n",
       " 'Actual length',\n",
       " 'Length estimate',\n",
       " 'Error (mm)',\n",
       " 'Percent error',\n",
       " 'lens_subject_distance']"
      ]
     },
     "execution_count": 2,
     "metadata": {},
     "output_type": "execute_result"
    }
   ],
   "source": [
    "sql = \"select Species ,Marker ,Correction ,[Actual length] ,[Length estimate] ,Error as [Error (mm)] ,[Percent error] ,lens_subject_distance from v_fid_long_form_all order by Species, Marker, Correction_Order\"\n",
    "\n",
    "with mssql.Conn('imagedb', '(local)') as cnn:\n",
    "    df = pd.read_sql(sql, cnn)\n",
    "list(df)\n"
   ]
  },
  {
   "cell_type": "code",
   "execution_count": 6,
   "metadata": {},
   "outputs": [
    {
     "name": "stdout",
     "output_type": "stream",
     "text": [
      "                                                        Error (mm)  \\\n",
      "                                                         CI_str_95   \n",
      "Species Marker     Correction                                        \n",
      "Bass    Background Distorted           M=12.8 95% CIs [10.7, 14.9]   \n",
      "                   Undistorted         M=13.3 95% CIs [10.9, 15.8]   \n",
      "        Foreground Calib-profile    M=-6.74 95% CIs [-10.2, -3.32]   \n",
      "                   Depth               M=11.4 95% CIs [7.34, 15.4]   \n",
      "                   Distorted        M=-78.5 95% CIs [-84.1, -72.9]   \n",
      "                   Iterative           M=17.5 95% CIs [13.3, 21.6]   \n",
      "                   Profile          M=-7.51 95% CIs [-11.3, -3.78]   \n",
      "                   Sensor-profile      M=13.2 95% CIs [9.31, 17.1]   \n",
      "                   Undistorted      M=-44.7 95% CIs [-49.2, -40.1]   \n",
      "        Laser      Calib-profile     M=1.74 95% CIs [-0.959, 4.45]   \n",
      "                   Depth               M=18.0 95% CIs [14.9, 21.0]   \n",
      "                   Distorted        M=-73.2 95% CIs [-81.5, -65.0]   \n",
      "                   Iterative           M=25.8 95% CIs [21.7, 29.8]   \n",
      "                   Profile           M=2.02 95% CIs [-0.741, 4.79]   \n",
      "                   Sensor-profile      M=20.0 95% CIs [15.9, 24.0]   \n",
      "                   Undistorted      M=-33.3 95% CIs [-37.1, -29.5]   \n",
      "Dab     Background Distorted           M=3.66 95% CIs [2.78, 4.53]   \n",
      "                   Undistorted         M=2.97 95% CIs [2.06, 3.87]   \n",
      "        Foreground Calib-profile   M=-1.91 95% CIs [-2.86, -0.957]   \n",
      "                   Depth               M=4.28 95% CIs [3.01, 5.55]   \n",
      "                   Distorted        M=-12.9 95% CIs [-16.4, -9.38]   \n",
      "                   Iterative           M=4.91 95% CIs [3.52, 6.30]   \n",
      "                   Profile         M=-0.812 95% CIs [-1.76, 0.132]   \n",
      "                   Sensor-profile     M=1.09 95% CIs [0.195, 1.99]   \n",
      "                   Undistorted      M=-6.81 95% CIs [-8.53, -5.09]   \n",
      "        Laser      Calib-profile    M=-3.25 95% CIs [-4.38, -2.12]   \n",
      "                   Depth               M=1.86 95% CIs [1.12, 2.59]   \n",
      "                   Distorted        M=-19.3 95% CIs [-24.8, -13.8]   \n",
      "                   Iterative           M=2.93 95% CIs [1.94, 3.92]   \n",
      "                   Profile          M=-2.71 95% CIs [-3.44, -1.98]   \n",
      "                   Sensor-profile   M=0.0714 95% CIs [-1.25, 1.40]   \n",
      "                   Undistorted      M=-8.56 95% CIs [-10.5, -6.61]   \n",
      "\n",
      "                                                       Percent error  \n",
      "                                                           CI_str_95  \n",
      "Species Marker     Correction                                         \n",
      "Bass    Background Distorted             M=2.86 95% CIs [2.39, 3.33]  \n",
      "                   Undistorted           M=3.04 95% CIs [2.50, 3.58]  \n",
      "        Foreground Calib-profile     M=-1.54 95% CIs [-2.27, -0.810]  \n",
      "                   Depth                 M=2.34 95% CIs [1.54, 3.13]  \n",
      "                   Distorted          M=-17.4 95% CIs [-19.3, -15.4]  \n",
      "                   Iterative             M=3.78 95% CIs [2.91, 4.64]  \n",
      "                   Profile           M=-1.73 95% CIs [-2.53, -0.928]  \n",
      "                   Sensor-profile        M=2.94 95% CIs [2.07, 3.80]  \n",
      "                   Undistorted        M=-9.93 95% CIs [-11.2, -8.61]  \n",
      "        Laser      Calib-profile      M=0.511 95% CIs [-0.109, 1.13]  \n",
      "                   Depth                 M=4.20 95% CIs [3.50, 4.91]  \n",
      "                   Distorted          M=-17.0 95% CIs [-19.0, -15.0]  \n",
      "                   Iterative             M=6.12 95% CIs [5.04, 7.20]  \n",
      "                   Profile           M=0.594 95% CIs [-0.0417, 1.23]  \n",
      "                   Sensor-profile        M=4.77 95% CIs [3.72, 5.82]  \n",
      "                   Undistorted        M=-7.61 95% CIs [-8.42, -6.81]  \n",
      "Dab     Background Distorted             M=1.80 95% CIs [1.47, 2.13]  \n",
      "                   Undistorted          M=1.38 95% CIs [0.967, 1.79]  \n",
      "        Foreground Calib-profile    M=-0.909 95% CIs [-1.33, -0.489]  \n",
      "                   Depth                 M=2.13 95% CIs [1.60, 2.65]  \n",
      "                   Distorted          M=-6.10 95% CIs [-7.31, -4.89]  \n",
      "                   Iterative             M=2.43 95% CIs [1.89, 2.97]  \n",
      "                   Profile         M=-0.372 95% CIs [-0.821, 0.0759]  \n",
      "                   Sensor-profile     M=0.553 95% CIs [0.125, 0.981]  \n",
      "                   Undistorted        M=-3.28 95% CIs [-3.88, -2.68]  \n",
      "        Laser      Calib-profile      M=-1.64 95% CIs [-2.15, -1.12]  \n",
      "                   Depth               M=0.900 95% CIs [0.501, 1.30]  \n",
      "                   Distorted          M=-9.05 95% CIs [-10.8, -7.32]  \n",
      "                   Iterative            M=1.38 95% CIs [0.937, 1.83]  \n",
      "                   Profile            M=-1.38 95% CIs [-1.71, -1.04]  \n",
      "                   Sensor-profile  M=-0.0200 95% CIs [-0.721, 0.681]  \n",
      "                   Undistorted        M=-4.20 95% CIs [-4.79, -3.62]  \n"
     ]
    }
   ],
   "source": [
    "pdlib.GroupBy.PRECISION = 3\n",
    "GB = pdlib.GroupBy(df, ['Species','Marker','Correction'], ['Error (mm)','Percent error'], pdlib.GroupBy.fCI_str(95))\n",
    "res = GB.execute()\n",
    "print(res)"
   ]
  },
  {
   "cell_type": "code",
   "execution_count": 3,
   "metadata": {},
   "outputs": [
    {
     "name": "stdout",
     "output_type": "stream",
     "text": [
      "                                              Percent error           \n",
      "                                                  CI_str_95     rmse_0\n",
      "Marker     Correction                                                 \n",
      "Background Distorted            M=2.41 95% CIs [2.09, 2.73]   2.777758\n",
      "           Undistorted          M=2.33 95% CIs [1.93, 2.73]   2.890735\n",
      "Foreground Calib-profile    M=-1.24 95% CIs [-1.67, -0.812]   2.132637\n",
      "           Depth                M=2.24 95% CIs [1.76, 2.71]   2.953095\n",
      "           Distorted         M=-12.0 95% CIs [-13.8, -10.2]  14.042389\n",
      "           Iterative            M=3.13 95% CIs [2.60, 3.66]   3.807860\n",
      "           Profile          M=-1.08 95% CIs [-1.57, -0.593]   2.254104\n",
      "           Sensor-profile       M=1.80 95% CIs [1.23, 2.36]   2.919792\n",
      "           Undistorted       M=-6.75 95% CIs [-7.84, -5.66]   8.086482\n",
      "Laser      Calib-profile   M=-0.337 95% CIs [-0.824, 0.150]   2.069733\n",
      "           Depth                M=2.90 95% CIs [2.31, 3.49]   3.809754\n",
      "           Distorted         M=-13.8 95% CIs [-15.5, -12.2]  15.455506\n",
      "           Iterative            M=4.25 95% CIs [3.39, 5.11]   5.583936\n",
      "           Profile         M=-0.183 95% CIs [-0.644, 0.278]   1.943125\n",
      "           Sensor-profile       M=2.88 95% CIs [2.00, 3.76]   4.682406\n",
      "           Undistorted       M=-6.27 95% CIs [-6.93, -5.61]   6.858201\n"
     ]
    }
   ],
   "source": [
    "pdlib.GroupBy.PRECISION = 3\n",
    "GB = pdlib.GroupBy(df, ['Marker','Correction'], ['Percent error'], pdlib.GroupBy.fCI_str(95), pdlib.GroupBy.fRMSE(0))\n",
    "res = GB.execute()\n",
    "print(res)"
   ]
  },
  {
   "cell_type": "code",
   "execution_count": 4,
   "metadata": {},
   "outputs": [
    {
     "data": {
      "text/plain": [
       "['Species',\n",
       " 'Marker',\n",
       " 'Correction',\n",
       " 'Actual length',\n",
       " 'Length estimate',\n",
       " 'Error (mm)',\n",
       " 'Percent error',\n",
       " 'lens_subject_distance']"
      ]
     },
     "execution_count": 4,
     "metadata": {},
     "output_type": "execute_result"
    }
   ],
   "source": [
    "sql = \"select Species ,Marker ,Correction ,[Actual length] ,[Length estimate] ,Error as [Error (mm)] ,[Percent error] ,lens_subject_distance from v_fid_long_form_all where Marker='laser' or Marker='foreground' order by Species, Marker, Correction_Order\"\n",
    "\n",
    "with mssql.Conn('imagedb', '(local)') as cnn:\n",
    "    df_las_fg = pd.read_sql(sql, cnn)\n",
    "list(df_las_fg)"
   ]
  },
  {
   "cell_type": "code",
   "execution_count": 5,
   "metadata": {},
   "outputs": [
    {
     "name": "stdout",
     "output_type": "stream",
     "text": [
      "                                    Percent error           \n",
      "                                        CI_str_95     rmse_0\n",
      "Correction                                                  \n",
      "Calib-profile    M=-0.775 95% CIs [-1.10, -0.445]   2.100508\n",
      "Depth                 M=2.58 95% CIs [2.20, 2.96]   3.420740\n",
      "Distorted          M=-12.9 95% CIs [-14.1, -11.7]  14.786304\n",
      "Iterative             M=3.71 95% CIs [3.19, 4.22]   4.804354\n",
      "Profile         M=-0.618 95% CIs [-0.957, -0.279]   2.099867\n",
      "Sensor-profile        M=2.36 95% CIs [1.82, 2.89]   3.926736\n",
      "Undistorted        M=-6.50 95% CIs [-7.13, -5.88]   7.479775\n"
     ]
    }
   ],
   "source": [
    "pdlib.GroupBy.PRECISION = 3\n",
    "GB = pdlib.GroupBy(df_las_fg, ['Correction'], ['Percent error'], pdlib.GroupBy.fCI_str(95), pdlib.GroupBy.fRMSE(0))\n",
    "res = GB.execute()\n",
    "print(res)"
   ]
  },
  {
   "cell_type": "code",
   "execution_count": 6,
   "metadata": {},
   "outputs": [
    {
     "name": "stdout",
     "output_type": "stream",
     "text": [
      "                                              Percent error           \n",
      "                                                  CI_str_95     rmse_0\n",
      "Marker     Correction                                                 \n",
      "Foreground Calib-profile    M=-1.24 95% CIs [-1.67, -0.812]   2.132637\n",
      "           Depth                M=2.24 95% CIs [1.76, 2.71]   2.953095\n",
      "           Distorted         M=-12.0 95% CIs [-13.8, -10.2]  14.042389\n",
      "           Iterative            M=3.13 95% CIs [2.60, 3.66]   3.807860\n",
      "           Profile          M=-1.08 95% CIs [-1.57, -0.593]   2.254104\n",
      "           Sensor-profile       M=1.80 95% CIs [1.23, 2.36]   2.919792\n",
      "           Undistorted       M=-6.75 95% CIs [-7.84, -5.66]   8.086482\n",
      "Laser      Calib-profile   M=-0.337 95% CIs [-0.824, 0.150]   2.069733\n",
      "           Depth                M=2.90 95% CIs [2.31, 3.49]   3.809754\n",
      "           Distorted         M=-13.8 95% CIs [-15.5, -12.2]  15.455506\n",
      "           Iterative            M=4.25 95% CIs [3.39, 5.11]   5.583936\n",
      "           Profile         M=-0.183 95% CIs [-0.644, 0.278]   1.943125\n",
      "           Sensor-profile       M=2.88 95% CIs [2.00, 3.76]   4.682406\n",
      "           Undistorted       M=-6.27 95% CIs [-6.93, -5.61]   6.858201\n"
     ]
    }
   ],
   "source": [
    "pdlib.GroupBy.PRECISION = 3\n",
    "GB = pdlib.GroupBy(df_las_fg, ['Marker', 'Correction'], ['Percent error'], pdlib.GroupBy.fCI_str(95), pdlib.GroupBy.fRMSE(0))\n",
    "res = GB.execute()\n",
    "print(res)"
   ]
  },
  {
   "cell_type": "code",
   "execution_count": 21,
   "metadata": {},
   "outputs": [
    {
     "data": {
      "text/plain": [
       "[<matplotlib.lines.Line2D at 0x1fa8e1ae320>]"
      ]
     },
     "execution_count": 21,
     "metadata": {},
     "output_type": "execute_result"
    },
    {
     "data": {
      "image/png": "[encoded data removed]",
      "text/plain": [
       "<matplotlib.figure.Figure at 0x1fa8e1531d0>"
      ]
     },
     "metadata": {},
     "output_type": "display_data"
    }
   ],
   "source": [
    "x=np.linspace(-100,100,20000)\n",
    "fov = np.linspace(-100,100, 20000)\n",
    "y = x + x**2 - x**3\n",
    "\n",
    "plt.plot(x,y)"
   ]
  },
  {
   "cell_type": "code",
   "execution_count": 7,
   "metadata": {},
   "outputs": [
    {
     "data": {
      "text/plain": [
       "4"
      ]
     },
     "execution_count": 7,
     "metadata": {},
     "output_type": "execute_result"
    }
   ],
   "source": []
  },
  {
   "cell_type": "code",
   "execution_count": null,
   "metadata": {},
   "outputs": [],
   "source": []
  }
 ],
 "metadata": {
  "kernelspec": {
   "display_name": "Python 3",
   "language": "python",
   "name": "python3"
  },
  "language_info": {
   "codemirror_mode": {
    "name": "ipython",
    "version": 3
   },
   "file_extension": ".py",
   "mimetype": "text/x-python",
   "name": "python",
   "nbconvert_exporter": "python",
   "pygments_lexer": "ipython3",
   "version": "3.5.4"
  }
 },
 "nbformat": 4,
 "nbformat_minor": 2
}
