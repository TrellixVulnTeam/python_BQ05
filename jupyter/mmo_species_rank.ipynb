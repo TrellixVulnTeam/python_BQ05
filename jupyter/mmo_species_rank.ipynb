{
 "cells": [
  {
   "cell_type": "code",
   "execution_count": 1,
   "metadata": {},
   "outputs": [
    {
     "name": "stdout",
     "output_type": "stream",
     "text": [
      "Trying to connect to database s30.mmo ....\n",
      "done\n"
     ]
    }
   ],
   "source": [
    "from sklearn.metrics import mean_squared_error\n",
    "import numpy as np\n",
    "import pandas as pd\n",
    "from dblib import mssql\n",
    "import mmodb\n",
    "print('done')"
   ]
  },
  {
   "cell_type": "code",
   "execution_count": 2,
   "metadata": {},
   "outputs": [
    {
     "name": "stdout",
     "output_type": "stream",
     "text": [
      "select  ifca, intertidalfid, season, speciesid, n_sum, n_count as n_count from v_aggregate_all_tally_all where isnull(n_count,0)>0 order by ifca, intertidalfid, season, speciesid, n_sum desc\n"
     ]
    },
    {
     "data": {
      "text/plain": [
       "['ifca',\n",
       " 'intertidalfid',\n",
       " 'season',\n",
       " 'speciesid',\n",
       " 'n_sum',\n",
       " 'n_count',\n",
       " 'n_sum_log']"
      ]
     },
     "execution_count": 2,
     "metadata": {},
     "output_type": "execute_result"
    }
   ],
   "source": [
    "#load data\n",
    "#mv_graph_plat_cam_net.sql\n",
    "sql = \"select \" \\\n",
    "    \" ifca, intertidalfid, season, speciesid, n_sum, n_count as n_count\" \\\n",
    "    \" from v_aggregate_all_tally_all\" \\\n",
    "    \" where isnull(n_count,0)>0\" \\\n",
    "    \" order by ifca, intertidalfid, season, speciesid, n_sum desc\"\n",
    "print(sql)\n",
    "with mssql.Conn('mmo', 's30', user='sa', pw='GGM290471') as cnn:\n",
    "    df = pd.read_sql(sql, cnn)\n",
    "df['n_sum_log'] = np.log(df['n_count'])\n",
    "list(df)"
   ]
  },
  {
   "cell_type": "code",
   "execution_count": 17,
   "metadata": {},
   "outputs": [],
   "source": [
    "#BY SPECIES/SEASON"
   ]
  },
  {
   "cell_type": "code",
   "execution_count": 18,
   "metadata": {},
   "outputs": [
    {
     "name": "stdout",
     "output_type": "stream",
     "text": [
      "Done\n"
     ]
    }
   ],
   "source": [
    "df['rank'] = df.groupby(['ifca'])['n_sum_log'].transform(lambda x: pd.cut(x, 3, labels=range(1,4), duplicates='drop'))\n",
    "df.to_csv('C:/Users/Graham Monkman/OneDrive/Documents/MMOMapping/jupyter/outputs/mmo_species_rank.csv')\n",
    "df.to_sql('df_mmo_species_rank', mmodb.ENGINE, if_exists='replace')\n",
    "\n",
    "print('Done')"
   ]
  },
  {
   "cell_type": "code",
   "execution_count": null,
   "metadata": {},
   "outputs": [],
   "source": [
    "#NWW OVERALL"
   ]
  },
  {
   "cell_type": "code",
   "execution_count": 12,
   "metadata": {},
   "outputs": [
    {
     "name": "stdout",
     "output_type": "stream",
     "text": [
      "select ifca, intertidalfid, season_full, count(*) as post_n from v_all group by ifca, intertidalfid, season_full having count(*) > 0 order by ifca, intertidalfid\n"
     ]
    },
    {
     "data": {
      "text/plain": [
       "['ifca', 'intertidalfid', 'season_full', 'post_n', 'n_count_log']"
      ]
     },
     "execution_count": 12,
     "metadata": {},
     "output_type": "execute_result"
    }
   ],
   "source": [
    "sql = \"select\" \\\n",
    "    \" ifca, intertidalfid, season_full, count(*) as post_n\" \\\n",
    "    \" from v_all\" \\\n",
    "    \" group by ifca, intertidalfid, season_full\" \\\n",
    "    \" having count(*) > 0\" \\\n",
    "    \" order by ifca, intertidalfid\"\n",
    "\n",
    "print(sql)\n",
    "with mssql.Conn('mmo', 's30', user='sa', pw='GGM290471') as cnn:\n",
    "    df_all = pd.read_sql(sql, cnn)\n",
    "    \n",
    "df_all['n_count_log'] = np.log( df_all['post_n'])\n",
    "list(df_all)"
   ]
  },
  {
   "cell_type": "code",
   "execution_count": null,
   "metadata": {},
   "outputs": [],
   "source": [
    "#OVERALL"
   ]
  },
  {
   "cell_type": "code",
   "execution_count": 15,
   "metadata": {},
   "outputs": [],
   "source": [
    "#ranks within season\n",
    "#df_all['rank_total'] = df_all.groupby(['ifca', 'season_full'])['post_n'].transform(lambda x: pd.qcut(x, 3, labels=range(1,4), duplicates='drop'))\n",
    "\n",
    "#ranks across season\n",
    "df_all['rank_total'] = df_all.groupby(['ifca'])['post_n'].transform(lambda x: pd.qcut(x, 3, labels=range(1,4), duplicates='drop'))"
   ]
  },
  {
   "cell_type": "code",
   "execution_count": 16,
   "metadata": {},
   "outputs": [],
   "source": [
    "df_all.to_csv('C:/Users/Graham Monkman/OneDrive/Documents/MMOMapping/jupyter/outputs/mmo_overall_rank_by_season_full.csv')\n",
    "df_all.to_sql('df_mmo_season_activity_rank', mmodb.ENGINE, if_exists='replace')"
   ]
  },
  {
   "cell_type": "code",
   "execution_count": 20,
   "metadata": {},
   "outputs": [
    {
     "data": {
      "text/plain": [
       "6.907755278982137"
      ]
     },
     "execution_count": 20,
     "metadata": {},
     "output_type": "execute_result"
    }
   ],
   "source": [
    "np.log(1000)"
   ]
  }
 ],
 "metadata": {
  "kernelspec": {
   "display_name": "Python 3",
   "language": "python",
   "name": "python3"
  },
  "language_info": {
   "codemirror_mode": {
    "name": "ipython",
    "version": 3
   },
   "file_extension": ".py",
   "mimetype": "text/x-python",
   "name": "python",
   "nbconvert_exporter": "python",
   "pygments_lexer": "ipython3",
   "version": "3.5.4"
  }
 },
 "nbformat": 4,
 "nbformat_minor": 2
}
