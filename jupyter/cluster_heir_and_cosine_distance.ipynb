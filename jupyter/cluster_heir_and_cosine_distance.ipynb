{
 "cells": [
  {
   "cell_type": "code",
   "execution_count": 56,
   "metadata": {},
   "outputs": [],
   "source": [
    "import numpy as np\n",
    "import scipy.cluster.hierarchy as _heir\n",
    "import scipy.spatial.distance as _dist\n",
    "\n",
    "\n",
    "\n",
    "import matplotlib.pyplot as plt\n"
   ]
  },
  {
   "cell_type": "code",
   "execution_count": 59,
   "metadata": {},
   "outputs": [
    {
     "data": {
      "image/png": "[encoded data removed]",
      "text/plain": [
       "<Figure size 432x288 with 1 Axes>"
      ]
     },
     "metadata": {
      "needs_background": "light"
     },
     "output_type": "display_data"
    }
   ],
   "source": [
    "A = ((0.,10.2), (0.1,10.3), (0.001,12.02), (0.14,11.3), (10.23,0.45), (11.67,0.82), (11.41,1.14), (10.77,1.33), (5.,5.),(5.1,5.2),(4.9,4.7),(5.1,4.9))\n",
    "x,y = zip(*A)\n",
    "plt.scatter(x,y)\n",
    "plt.show()\n",
    "\n",
    "distances = _dist.pdist(A, metric='cosine')\n",
    "Z = _heir.single(distances)\n",
    "F = _heir.fcluster(Z, 0.1, criterion='distance')\n"
   ]
  },
  {
   "cell_type": "code",
   "execution_count": 60,
   "metadata": {},
   "outputs": [
    {
     "data": {
      "image/png": "[encoded data removed]",
      "text/plain": [
       "<Figure size 432x288 with 1 Axes>"
      ]
     },
     "metadata": {
      "needs_background": "light"
     },
     "output_type": "display_data"
    },
    {
     "data": {
      "text/plain": [
       "array([1, 1, 1, 1, 3, 3, 3, 3, 2, 2, 2, 2], dtype=int32)"
      ]
     },
     "execution_count": 60,
     "metadata": {},
     "output_type": "execute_result"
    }
   ],
   "source": [
    "_heir.set_link_color_palette(['m', 'c', 'y', 'k'])\n",
    "dn1 = _heir.dendrogram(Z, above_threshold_color='y', orientation='top')\n",
    "plt.show()\n",
    "F"
   ]
  },
  {
   "cell_type": "code",
   "execution_count": 43,
   "metadata": {},
   "outputs": [],
   "source": [
    "thresh = 0.0001\n"
   ]
  },
  {
   "cell_type": "code",
   "execution_count": 44,
   "metadata": {},
   "outputs": [
    {
     "data": {
      "text/plain": [
       "array([[0.00000000e+00, 2.00000000e+00, 3.46067719e-09, 2.00000000e+00],\n",
       "       [1.00000000e+01, 1.10000000e+01, 3.46932871e-07, 2.00000000e+00],\n",
       "       [1.00000000e+00, 3.00000000e+00, 3.59203900e-06, 2.00000000e+00],\n",
       "       [8.00000000e+00, 9.00000000e+00, 4.71264639e-05, 2.00000000e+00],\n",
       "       [1.20000000e+01, 1.40000000e+01, 8.93730060e-05, 4.00000000e+00],\n",
       "       [6.00000000e+00, 7.00000000e+00, 2.71135391e-04, 2.00000000e+00],\n",
       "       [4.00000000e+00, 5.00000000e+00, 3.42949161e-04, 2.00000000e+00],\n",
       "       [1.30000000e+01, 1.50000000e+01, 4.98433368e-04, 4.00000000e+00],\n",
       "       [1.70000000e+01, 1.80000000e+01, 2.64585047e-03, 4.00000000e+00],\n",
       "       [1.90000000e+01, 2.00000000e+01, 4.64623755e-01, 8.00000000e+00],\n",
       "       [1.60000000e+01, 2.10000000e+01, 1.54034673e+00, 1.20000000e+01]])"
      ]
     },
     "execution_count": 44,
     "metadata": {},
     "output_type": "execute_result"
    }
   ],
   "source": [
    "Z"
   ]
  },
  {
   "cell_type": "code",
   "execution_count": 23,
   "metadata": {},
   "outputs": [
    {
     "data": {
      "text/plain": [
       "(0.1, 1.11, 1.001, 0.14, 10.23, 11.67, 11.41, 10.77)"
      ]
     },
     "execution_count": 23,
     "metadata": {},
     "output_type": "execute_result"
    }
   ],
   "source": [
    "x"
   ]
  },
  {
   "cell_type": "code",
   "execution_count": 26,
   "metadata": {},
   "outputs": [
    {
     "data": {
      "text/plain": [
       "[(0.1, 0.11),\n",
       " (1.11, 0.2),\n",
       " (1.001, 1.02),\n",
       " (0.14, 1.11),\n",
       " (10.23, 0.45),\n",
       " (11.67, 0.82),\n",
       " (11.41, 1.14),\n",
       " (10.77, 1.33)]"
      ]
     },
     "execution_count": 26,
     "metadata": {},
     "output_type": "execute_result"
    }
   ],
   "source": []
  },
  {
   "cell_type": "code",
   "execution_count": null,
   "metadata": {},
   "outputs": [],
   "source": []
  }
 ],
 "metadata": {
  "kernelspec": {
   "display_name": "Python 3",
   "language": "python",
   "name": "python3"
  },
  "language_info": {
   "codemirror_mode": {
    "name": "ipython",
    "version": 3
   },
   "file_extension": ".py",
   "mimetype": "text/x-python",
   "name": "python",
   "nbconvert_exporter": "python",
   "pygments_lexer": "ipython3",
   "version": "3.5.4"
  }
 },
 "nbformat": 4,
 "nbformat_minor": 2
}
