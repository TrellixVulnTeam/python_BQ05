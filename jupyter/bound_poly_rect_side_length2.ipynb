{
 "cells": [
  {
   "cell_type": "code",
   "execution_count": 1,
   "metadata": {},
   "outputs": [],
   "source": [
    "import opencvlib.geom as geom\n",
    "from opencvlib.view import show, draw_points, img_make\n",
    "import opencvlib.distance as _dist\n",
    "import numpy as np\n",
    "from scipy.optimize import fsolve as _fsolve\n",
    "import math as _math\n",
    "from math import sin, cos, tan, radians, degrees\n"
   ]
  },
  {
   "cell_type": "code",
   "execution_count": 2,
   "metadata": {},
   "outputs": [
    {
     "name": "stdout",
     "output_type": "stream",
     "text": [
      "4.0 419.85011591998233 984.807753012208\n"
     ]
    }
   ],
   "source": [
    "#Generate test data\n",
    "angle = 10\n",
    "I = np.array(np.ones((750,1400,3)))\n",
    "I = I * 255\n",
    "\n",
    "#angle = 0\n",
    "pts = [[1200, 450], [1200, 200], [200, 450], [200, 200]]\n",
    "ratio = (1200 - 200) / (450 - 200)\n",
    "\n",
    "pts_rotated = geom.rotate_points(pts, angle, center=None)\n",
    "\n",
    "#pts_bound is the corolloray of a rotated detection\n",
    "pts_bound, short, long_ = geom.bound_poly_rect_side_length2(pts, angle)\n",
    "\n",
    "#check looks ok\n",
    "I = draw_points(pts, I, join=True, line_color=(0,0,0))\n",
    "I = draw_points(pts_bound, I, join=True, line_color=(0,255,0))\n",
    "I = draw_points(pts_rotated, I, join=True, line_color=(255, 0, 0))\n",
    "show(I)\n",
    "\n",
    "print(ratio, short, long_)"
   ]
  },
  {
   "cell_type": "code",
   "execution_count": 3,
   "metadata": {
    "scrolled": true
   },
   "outputs": [
    {
     "name": "stdout",
     "output_type": "stream",
     "text": [
      "249.99999999999974 999.999999999999 0.1745329251994782\n"
     ]
    }
   ],
   "source": [
    "a, b, theta = geom.rect_inner_side_length2(pts_bound, ratio)\n",
    "print(a, b, theta)"
   ]
  },
  {
   "cell_type": "code",
   "execution_count": 4,
   "metadata": {},
   "outputs": [
    {
     "data": {
      "text/plain": [
       "(113, 'img')"
      ]
     },
     "execution_count": 4,
     "metadata": {},
     "output_type": "execute_result"
    }
   ],
   "source": [
    "show(I)"
   ]
  },
  {
   "cell_type": "code",
   "execution_count": 16,
   "metadata": {},
   "outputs": [
    {
     "data": {
      "text/plain": [
       "985"
      ]
     },
     "execution_count": 16,
     "metadata": {},
     "output_type": "execute_result"
    }
   ],
   "source": [
    "1192 - 207"
   ]
  },
  {
   "cell_type": "code",
   "execution_count": 19,
   "metadata": {},
   "outputs": [
    {
     "data": {
      "text/plain": [
       "419.85011591998233"
      ]
     },
     "execution_count": 19,
     "metadata": {},
     "output_type": "execute_result"
    }
   ],
   "source": [
    "(250*cos(radians(10))) + (1000*sin(radians(10)))"
   ]
  },
  {
   "cell_type": "code",
   "execution_count": null,
   "metadata": {},
   "outputs": [],
   "source": []
  }
 ],
 "metadata": {
  "kernelspec": {
   "display_name": "Python 3",
   "language": "python",
   "name": "python3"
  },
  "language_info": {
   "codemirror_mode": {
    "name": "ipython",
    "version": 3
   },
   "file_extension": ".py",
   "mimetype": "text/x-python",
   "name": "python",
   "nbconvert_exporter": "python",
   "pygments_lexer": "ipython3",
   "version": "3.5.4"
  }
 },
 "nbformat": 4,
 "nbformat_minor": 2
}
