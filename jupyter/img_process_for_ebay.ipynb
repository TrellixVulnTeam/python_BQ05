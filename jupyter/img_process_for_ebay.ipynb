{
 "cells": [
  {
   "cell_type": "code",
   "execution_count": 1,
   "metadata": {},
   "outputs": [
    {
     "name": "stdout",
     "output_type": "stream",
     "text": [
      "Done\n"
     ]
    }
   ],
   "source": [
    "#mosaic an image into a single column and\n",
    "#save the mosaic\n",
    "from shutil import copyfile\n",
    "import cv2\n",
    "from opencvlib import view\n",
    "from opencvlib.view import draw_str\n",
    "import opencvlib\n",
    "import opencvlib.imgpipes.generators as gen\n",
    "import funclib.iolib as iolib\n",
    "import opencvlib.transforms as tf\n",
    "import opencvlib.view as view\n",
    "from funclib.iolib import PrintProgress as PP\n",
    "print('Done')"
   ]
  },
  {
   "cell_type": "code",
   "execution_count": 11,
   "metadata": {},
   "outputs": [],
   "source": [
    "#Process Images"
   ]
  },
  {
   "cell_type": "code",
   "execution_count": 3,
   "metadata": {},
   "outputs": [
    {
     "name": "stdout",
     "output_type": "stream",
     "text": [
      "\n",
      "\n",
      "21 of 21 [##############################] 100.0% \n",
      "\n",
      "Done\n"
     ]
    }
   ],
   "source": [
    "src = 'C:/Users/Graham Monkman/OneDrive/ebay/1 tolist'\n",
    "fp = gen.FromPaths(src)\n",
    "\n",
    "def resize_(I, fname, width=1920, overwrite_orig=False):\n",
    "    '''overwrite the original image'''\n",
    "    I = tf.resize(image=I, width=width)\n",
    "    if overwrite_orig:\n",
    "        cv2.imwrite(fname, I)\n",
    "    return I\n",
    "\n",
    "n = len(list(1 for _ in fp.generate(pathonly=True)))\n",
    "P = PP(maximum=n)\n",
    "\n",
    "for I, fname, _ in fp.generate():\n",
    "    _, f, ext = iolib.get_file_parts(fname)\n",
    "    fout = '%s/%s_%s' % (src, f, ext)  #eg. 1.jpg will be 1_.jpg\n",
    "    I = resize_(I, fname, overwrite_orig=True)\n",
    "    #Ii = tf.equalize_adapthist(I)\n",
    "    #DEFAULTS ... h=3, hColor=10, templateWindowSize=7, searchWindowSize=21\n",
    "    #Ii = cv2.fastNlMeansDenoisingColored(I, None, 10, 10, 7, 21)\n",
    "    Ii = I\n",
    "    cv2.imwrite(fout, Ii)\n",
    "    P.increment()\n",
    "    \n",
    "print('Done')"
   ]
  },
  {
   "cell_type": "code",
   "execution_count": 5,
   "metadata": {},
   "outputs": [
    {
     "name": "stdout",
     "output_type": "stream",
     "text": [
      "(list|str) -> void\n",
      "    Delete file(s) without raising an error\n",
      "\n",
      "    filenames:\n",
      "        a string or iterable\n",
      "\n",
      "    Example:\n",
      "    >>>files_delete2('C:/myfile.tmp')\n",
      "    >>>files_delete2(['C:/myfile.tmp', 'C:/otherfile.log'])\n",
      "    \n"
     ]
    }
   ],
   "source": [
    "#Example if we want to mosaic so can have >12 images\n",
    "print(iolib.files_delete2.__doc__)"
   ]
  },
  {
   "cell_type": "code",
   "execution_count": 6,
   "metadata": {},
   "outputs": [
    {
     "name": "stdout",
     "output_type": "stream",
     "text": [
      "Done\n"
     ]
    }
   ],
   "source": [
    "misc = [\n",
    "    'C:/Users/Graham Monkman/OneDrive/ebay/1 tolist/hat11.JPG'\n",
    ",'C:/Users/Graham Monkman/OneDrive/ebay/1 tolist/hat21.JPG'\n",
    ",'C:/Users/Graham Monkman/OneDrive/ebay/1 tolist/hat31.JPG'\n",
    ",'C:/Users/Graham Monkman/OneDrive/ebay/1 tolist/hat41.JPG']\n",
    "I = view.mosaic(misc, cols=2, save_as='%s/%s' % (src, '_hat.JPG'))\n",
    "iolib.files_delete2(misc)\n",
    "                \n",
    "misc = [\n",
    "'C:/Users/Graham Monkman/OneDrive/ebay/1 tolist/lthumb11.JPG'\n",
    ",'C:/Users/Graham Monkman/OneDrive/ebay/1 tolist/lthumb21.JPG'\n",
    ",'C:/Users/Graham Monkman/OneDrive/ebay/1 tolist/lthumb31.JPG'\n",
    ",'C:/Users/Graham Monkman/OneDrive/ebay/1 tolist/lthumb41.JPG'\n",
    "]\n",
    "I = view.mosaic(misc, cols=2, save_as='%s/%s' % (src, '_lthumb.JPG'))\n",
    "iolib.files_delete2(misc)\n",
    "                \n",
    "print('Done')"
   ]
  },
  {
   "cell_type": "code",
   "execution_count": 7,
   "metadata": {},
   "outputs": [],
   "source": [
    "misc = [\n",
    "'C:/Users/Graham Monkman/OneDrive/ebay/1 tolist/rthumb11.JPG'\n",
    ",'C:/Users/Graham Monkman/OneDrive/ebay/1 tolist/rthumb21.JPG'\n",
    ",'C:/Users/Graham Monkman/OneDrive/ebay/1 tolist/rthumb31.JPG'\n",
    ",'C:/Users/Graham Monkman/OneDrive/ebay/1 tolist/rthumb41.JPG'\n",
    "]\n",
    "I = view.mosaic(misc, cols=2, save_as='%s/%s' % (src, '_rthumb.JPG'))\n",
    "iolib.files_delete2(misc)              \n",
    "\n",
    "misc = [\n",
    "'C:/Users/Graham Monkman/OneDrive/ebay/1 tolist/shoulder1.JPG'\n",
    ",'C:/Users/Graham Monkman/OneDrive/ebay/1 tolist/shoulder2.JPG'\n",
    ",'C:/Users/Graham Monkman/OneDrive/ebay/1 tolist/shoulder3.JPG'\n",
    ",'C:/Users/Graham Monkman/OneDrive/ebay/1 tolist/shoulder4.JPG'\n",
    "]\n",
    "I = view.mosaic(misc, cols=2, save_as='%s/%s' % (src, '_shoulder.JPG'))\n",
    "iolib.files_delete2(misc)\n",
    "                \n",
    "misc = [\n",
    "'C:/Users/Graham Monkman/OneDrive/ebay/1 tolist/controller11.JPG'\n",
    ",'C:/Users/Graham Monkman/OneDrive/ebay/1 tolist/controller21.JPG'\n",
    ",'C:/Users/Graham Monkman/OneDrive/ebay/1 tolist/controller31.JPG'\n",
    ",'C:/Users/Graham Monkman/OneDrive/ebay/1 tolist/controller41.JPG'\n",
    "]\n",
    "I = view.mosaic(misc, cols=2, save_as='%s/%s' % (src, '_controller.JPG'))\n",
    "iolib.files_delete2(misc)"
   ]
  },
  {
   "cell_type": "code",
   "execution_count": 2,
   "metadata": {},
   "outputs": [
    {
     "name": "stdout",
     "output_type": "stream",
     "text": [
      "\n",
      "\n",
      "28 of 28 [##############################] 100.0% \n",
      "\n",
      "\n",
      "\n",
      "3 of 28 [###---------------------------] 10.71% \r"
     ]
    },
    {
     "name": "stderr",
     "output_type": "stream",
     "text": [
      "C:\\development\\python\\opencvlib\\view.py:255: FutureWarning: arrays to stack must be passed as a \"sequence\" type such as list or tuple. Support for non-sequence iterables such as generators is deprecated as of NumPy 1.16 and will raise an error in the future.\n",
      "  out = _np.vstack(map(_np.hstack, rows))\n"
     ]
    },
    {
     "name": "stdout",
     "output_type": "stream",
     "text": [
      "28 of 28 [##############################] 100.0% \n",
      "\n",
      "Done\n"
     ]
    }
   ],
   "source": [
    "#easy_mosaic\n",
    "#This should resize images to w=1920, overwriting the originals\n",
    "#and then create 2x2 mosaics for each image, and delete the originals\n",
    "#used in the mosaic\n",
    "\n",
    "cnt = 0\n",
    "\n",
    "PATCHES = 4\n",
    "COLS = 2\n",
    "DO_DELETE = True\n",
    "DO_RESIZE = True\n",
    "DO_DENOISE = False\n",
    "CREATE_BACKUP = False\n",
    "FLD = 'C:/Users/Graham Monkman/OneDrive/ebay/1 tolist/_to_process/mags/drwho_01-09'\n",
    "FLD_BACKUP = '%s/_backup' % FLD\n",
    "\n",
    "if CREATE_BACKUP:\n",
    "    iolib.create_folder(FLD_BACKUP)\n",
    "    fp = gen.FromPaths(FLD)\n",
    "    for _, fname, _ in fp.generate(pathonly=True):\n",
    "        d, f, e = iolib.get_file_parts2(fname)\n",
    "        dst = '%s/%s' % (FLD_BACKUP, fname)\n",
    "        copyfile(fname, dst)\n",
    "    print('Copied files to %s' % FLD_BACKUP)\n",
    "\n",
    "    \n",
    "def resize_(I, fname, width=1920, overwrite_orig=False):\n",
    "    '''overwrite the original image'''\n",
    "    I = tf.resize(image=I, width=width)\n",
    "    if overwrite_orig:\n",
    "        cv2.imwrite(fname, I)\n",
    "    return I\n",
    "\n",
    "if DO_RESIZE or DO_DENOISE:\n",
    "    fp = gen.FromPaths(FLD)\n",
    "    n = len(list(1 for _ in fp.generate(pathonly=True)))\n",
    "    P = PP(maximum=n)\n",
    "    for I, fname, _ in fp.generate():\n",
    "        _, f, ext = iolib.get_file_parts(fname)\n",
    "        if DO_RESIZE:\n",
    "            I = resize_(I, fname, overwrite_orig=False)\n",
    "            \n",
    "        if DO_DENOISE:\n",
    "            I = cv2.fastNlMeansDenoisingColored(I, None, 10, 10, 7, 21)\n",
    "    \n",
    "        cv2.imwrite(fname, I)\n",
    "        P.increment()\n",
    "    \n",
    "\n",
    "P.reset()\n",
    "files = [f for f in iolib.file_list_generator1(FLD, ['.jpg'], recurse=False)]\n",
    "P = PP(maximum=len(files))\n",
    "images = []\n",
    "\n",
    "for i, f in enumerate(files):\n",
    "    images.append(f)\n",
    "    if len(images) == PATCHES:\n",
    "        I = view.mosaic(images, cols=COLS, save_as='%s/mosaic%s.jpg' % (FLD, int((i + 1)/4)))\n",
    "        if DO_DELETE:\n",
    "            iolib.files_delete2(images)\n",
    "        images = []\n",
    "    P.increment()\n",
    "            \n",
    "if len(images) > 1:\n",
    "    I = view.mosaic(images, cols=COLS, save_as='%s/mosaic%s.jpg' % (FLD, '_last'))\n",
    "    if DO_DELETE:\n",
    "        iolib.files_delete2(images)\n",
    "    images = []\n",
    "\n",
    "print('Done')"
   ]
  },
  {
   "cell_type": "code",
   "execution_count": null,
   "metadata": {},
   "outputs": [],
   "source": []
  }
 ],
 "metadata": {
  "kernelspec": {
   "display_name": "Python 3",
   "language": "python",
   "name": "python3"
  },
  "language_info": {
   "codemirror_mode": {
    "name": "ipython",
    "version": 3
   },
   "file_extension": ".py",
   "mimetype": "text/x-python",
   "name": "python",
   "nbconvert_exporter": "python",
   "pygments_lexer": "ipython3",
   "version": "3.5.4"
  }
 },
 "nbformat": 4,
 "nbformat_minor": 2
}
