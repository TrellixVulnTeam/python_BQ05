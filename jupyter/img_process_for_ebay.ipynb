{
 "cells": [
  {
   "cell_type": "code",
   "execution_count": 1,
   "metadata": {},
   "outputs": [
    {
     "name": "stdout",
     "output_type": "stream",
     "text": [
      "Done\n"
     ]
    }
   ],
   "source": [
    "#mosaic an image into a single column and\n",
    "#save the mosaic\n",
    "import os.path as path\n",
    "from shutil import copyfile\n",
    "import cv2\n",
    "from opencvlib import view\n",
    "from opencvlib.view import draw_str\n",
    "import opencvlib\n",
    "import opencvlib.imgpipes.generators as gen\n",
    "import funclib.iolib as iolib\n",
    "import opencvlib.transforms as tf\n",
    "import opencvlib.view as view\n",
    "from funclib.iolib import PrintProgress as PP\n",
    "print('Done')"
   ]
  },
  {
   "cell_type": "code",
   "execution_count": 11,
   "metadata": {},
   "outputs": [],
   "source": [
    "#Process Images"
   ]
  },
  {
   "cell_type": "code",
   "execution_count": 3,
   "metadata": {},
   "outputs": [
    {
     "name": "stdout",
     "output_type": "stream",
     "text": [
      "\n",
      "\n",
      "21 of 21 [##############################] 100.0% \n",
      "\n",
      "Done\n"
     ]
    }
   ],
   "source": [
    "src = 'C:/Users/Graham Monkman/OneDrive/ebay/1 tolist'\n",
    "fp = gen.FromPaths(src)\n",
    "\n",
    "def resize_(I, fname, width=1920, overwrite_orig=False):\n",
    "    '''overwrite the original image'''\n",
    "    I = tf.resize(image=I, width=width)\n",
    "    if overwrite_orig:\n",
    "        cv2.imwrite(fname, I)\n",
    "    return I\n",
    "\n",
    "n = len(list(1 for _ in fp.generate(pathonly=True)))\n",
    "P = PP(maximum=n)\n",
    "\n",
    "for I, fname, _ in fp.generate():\n",
    "    _, f, ext = iolib.get_file_parts(fname)\n",
    "    fout = '%s/%s_%s' % (src, f, ext)  #eg. 1.jpg will be 1_.jpg\n",
    "    I = resize_(I, fname, overwrite_orig=True)\n",
    "    #Ii = tf.equalize_adapthist(I)\n",
    "    #DEFAULTS ... h=3, hColor=10, templateWindowSize=7, searchWindowSize=21\n",
    "    #Ii = cv2.fastNlMeansDenoisingColored(I, None, 10, 10, 7, 21)\n",
    "    Ii = I\n",
    "    cv2.imwrite(fout, Ii)\n",
    "    P.increment()\n",
    "    \n",
    "print('Done')"
   ]
  },
  {
   "cell_type": "code",
   "execution_count": 2,
   "metadata": {},
   "outputs": [
    {
     "name": "stdout",
     "output_type": "stream",
     "text": [
      "\n",
      "\n",
      "3 of 18 [#####-------------------------] 16.67% \r"
     ]
    },
    {
     "name": "stderr",
     "output_type": "stream",
     "text": [
      "C:\\development\\python\\opencvlib\\view.py:311: FutureWarning: arrays to stack must be passed as a \"sequence\" type such as list or tuple. Support for non-sequence iterables such as generators is deprecated as of NumPy 1.16 and will raise an error in the future.\n",
      "  out = _np.vstack(map(_np.hstack, rows))\n"
     ]
    },
    {
     "name": "stdout",
     "output_type": "stream",
     "text": [
      "18 of 18 [##############################] 100.0% \n",
      "\n",
      "Done\n"
     ]
    }
   ],
   "source": [
    "#easy_mosaic\n",
    "#This should resize images to w=1920, overwriting the originals\n",
    "#and then create 2x2 mosaics for each image, and delete the originals\n",
    "#used in the mosaic\n",
    "\n",
    "cnt = 0\n",
    "\n",
    "PATCHES = 4\n",
    "COLS = 2\n",
    "DO_DELETE = True\n",
    "DO_RESIZE = False\n",
    "DO_DENOISE = False\n",
    "CREATE_BACKUP = False\n",
    "FLD = 'C:/Users/Graham Monkman/OneDrive/ebay/1 tolist/add_combendium'\n",
    "FLD = path.normpath(FLD)\n",
    "FLD_BACKUP = path.normpath('%s/_backup' % FLD)\n",
    "WIDTH = 2200 #1920\n",
    "if CREATE_BACKUP:\n",
    "    iolib.create_folder(FLD_BACKUP)\n",
    "    fp = gen.FromPaths(FLD)\n",
    "    for _, fname, _ in fp.generate(pathonly=True):\n",
    "        d, f, e = iolib.get_file_parts2(fname)\n",
    "        dst = '%s/%s' % (FLD_BACKUP, f)\n",
    "        copyfile(fname, dst)\n",
    "    print('Copied files to %s' % FLD_BACKUP)\n",
    "\n",
    "    \n",
    "def resize_(I, fname, width=WIDTH, overwrite_orig=False):\n",
    "    '''overwrite the original image'''\n",
    "    I = tf.resize(image=I, width=width)\n",
    "    if overwrite_orig:\n",
    "        cv2.imwrite(fname, I)\n",
    "    return I\n",
    "\n",
    "if DO_RESIZE or DO_DENOISE:\n",
    "    fp = gen.FromPaths(FLD)\n",
    "    n = len(list(1 for _ in fp.generate(pathonly=True)))\n",
    "    P = PP(maximum=n)\n",
    "    for I, fname, _ in fp.generate():\n",
    "        _, f, ext = iolib.get_file_parts(fname)\n",
    "        if DO_RESIZE:\n",
    "            I = resize_(I, fname, overwrite_orig=False)\n",
    "            \n",
    "        if DO_DENOISE:\n",
    "            I = cv2.fastNlMeansDenoisingColored(I, None, 10, 10, 7, 21)\n",
    "    \n",
    "        cv2.imwrite(fname, I)\n",
    "        P.increment()\n",
    "    \n",
    "\n",
    "files = [f for f in iolib.file_list_generator1(FLD, ['.jpg'], recurse=False)]\n",
    "P = PP(maximum=len(files))\n",
    "images = []\n",
    "\n",
    "for i, f in enumerate(files):\n",
    "    images.append(f)\n",
    "    if len(images) == PATCHES:\n",
    "        I = view.mosaic(images, cols=COLS, save_as='%s/mosaic%s.jpg' % (FLD, int((i + 1)/4)))\n",
    "        if DO_DELETE:\n",
    "            iolib.files_delete2(images)\n",
    "        images = []\n",
    "    P.increment()\n",
    "            \n",
    "if len(images) > 1:\n",
    "    I = view.mosaic(images, cols=COLS, save_as='%s/mosaic%s.jpg' % (FLD, '_last'))\n",
    "    if DO_DELETE:\n",
    "        iolib.files_delete2(images)\n",
    "    images = []\n",
    "\n",
    "print('Done')"
   ]
  },
  {
   "cell_type": "code",
   "execution_count": null,
   "metadata": {},
   "outputs": [],
   "source": []
  }
 ],
 "metadata": {
  "kernelspec": {
   "display_name": "Python 3",
   "language": "python",
   "name": "python3"
  },
  "language_info": {
   "codemirror_mode": {
    "name": "ipython",
    "version": 3
   },
   "file_extension": ".py",
   "mimetype": "text/x-python",
   "name": "python",
   "nbconvert_exporter": "python",
   "pygments_lexer": "ipython3",
   "version": "3.5.4"
  }
 },
 "nbformat": 4,
 "nbformat_minor": 2
}
