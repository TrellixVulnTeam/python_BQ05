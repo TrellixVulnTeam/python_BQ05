{
 "cells": [
  {
   "cell_type": "code",
   "execution_count": 1,
   "metadata": {},
   "outputs": [],
   "source": [
    "'''This notebook models the percent length estimation error\n",
    "under rotation'''\n",
    "import numpy as np\n",
    "import matplotlib.pyplot as plt\n",
    "from scipy import optimize\n",
    "import pandas as pd\n",
    "import seaborn as sns\n",
    "\n",
    "from dblib import mssql\n",
    "\n",
    "sns.set()\n",
    "\n",
    "#gey = [\"#FFFFFF\", \"#999999\", \"#666666\", \"#333333\", \"#000000\"]\n",
    "#grey = [\"#FFFFFF\", \"#111111\"]\n",
    "#sns.set_palette(sns.color_palette(\"cubehelix\", 8))\n",
    "\n",
    "sns.set(font=\"Times New Roman\", font_scale=1.1)\n",
    "sns.set_style('ticks', rc={'axes.grid':True})\n",
    "#sns.despine()"
   ]
  },
  {
   "cell_type": "code",
   "execution_count": 2,
   "metadata": {},
   "outputs": [
    {
     "data": {
      "text/plain": [
       "['sample_lengthid', 'CNN', 'status', 'transform', 'Score', '% IoU']"
      ]
     },
     "execution_count": 2,
     "metadata": {},
     "output_type": "execute_result"
    }
   ],
   "source": [
    "sql = \"\" \\\n",
    "\"select sample_lengthid ,cnn as CNN ,status\" \\\n",
    "\",case when transform='hflip' then 'horizontal flip' else 'none' end as transform ,accuracy as Score ,IoU*100 as [% IoU]\" \\\n",
    "\" from  v_mv_long_form\" \\\n",
    "\" where not accuracy is null and status='Success' and (transform='None' or transform='hflip') and accuracy>0.5\"\n",
    "\n",
    "\n",
    "with mssql.Conn('imagedb', '(local)') as cnn:\n",
    "    df = pd.read_sql(sql, cnn)\n",
    "list(df)"
   ]
  },
  {
   "cell_type": "code",
   "execution_count": 9,
   "metadata": {
    "scrolled": true
   },
   "outputs": [
    {
     "data": {
      "image/png": "[encoded data removed]",
      "text/plain": [
       "<matplotlib.figure.Figure at 0x1600123ca90>"
      ]
     },
     "metadata": {},
     "output_type": "display_data"
    }
   ],
   "source": [
    "inch = 2.54\n",
    "h = 8 / inch\n",
    "g = sns.FacetGrid(df, col=\"CNN\",  hue=\"transform\", sharex=False, sharey=True, height=h, aspect=1, hue_kws=dict(marker=[\"o\", \"o\"]) )\n",
    "g = (g.map(plt.scatter, \"Score\", \"% IoU\", edgecolor=\"w\"))\n",
    "\n",
    "ax_nas = g.facet_axis(0,0); ax_res = g.facet_axis(0,1); ax_ssd = g.facet_axis(0,2)\n",
    "\n",
    "#ax_nas.set_xlim(0.99, 1.001)\n",
    "#ax_res.set_xlim(0.90, 1.01)\n",
    "#ax_ssd.set_xlim(0.5, 1.1)\n",
    "\n",
    "ax_nas.set_xlim(0.995, 1.001)\n",
    "ax_res.set_xlim(0.95, 1.01)\n",
    "ax_ssd.set_xlim(0.5, 1.1)\n",
    "\n",
    "\n",
    "plt.legend(loc=(0.1,0.115), title='Transform')\n",
    "#ax_nas.set_ylim(0.4, 1.0)\n",
    "#ax_res.set_xlim(0.95, 1.0)\n",
    "#ax_ssd.set_xlim(0, 1.0)\n",
    "plt.savefig('C:/Users/Graham Monkman/OneDrive/Documents/PHD/My Papers/Fiducial_machine_vision_estimates/images/iou_vs_accuracy.png', dpi=600)\n",
    "plt.savefig(r'C:\\Users\\Graham Monkman\\OneDrive\\Documents\\PHD\\My Papers\\Fiducial_machine_vision_estimates\\journal\\methods_ee\\mee_figs\\fig2.png', dpi=600)\n",
    "\n",
    "plt.savefig('C:/Users/Graham Monkman/OneDrive/Documents/PHD/My Papers/Fiducial_machine_vision_estimates/images/iou_vs_accuracy.svg')"
   ]
  },
  {
   "cell_type": "code",
   "execution_count": null,
   "metadata": {},
   "outputs": [],
   "source": [
    "#FEW AVERAGES"
   ]
  },
  {
   "cell_type": "code",
   "execution_count": 7,
   "metadata": {},
   "outputs": [],
   "source": [
    "from scipy import stats\n",
    "def percentile(n):\n",
    "    def percentile_(x):\n",
    "        return np.percentile(x, n)\n",
    "    percentile_.__name__ = 'percentile_%s' % n\n",
    "    return percentile_\n",
    "\n",
    "def mse(pred):\n",
    "    def mse_(est):\n",
    "        ndpred = np.zeros(est.shape[0]) + pred\n",
    "        return mean_squared_error(ndpred, est)\n",
    "    mse_.__name__ = 'mse_%s' % pred\n",
    "    return mse_\n",
    "\n",
    "def ci(data):\n",
    "    a = 1.0 * np.array(data)\n",
    "    n = len(a)\n",
    "    m, se = np.mean(a), stats.sem(a)\n",
    "    h = se * stats.t.ppf((1 + 0.95) / 2., n-1)\n",
    "    s = 'M=%0.1f 95%% CIs [%0.1f, %0.1f]' % (m, m-h, m+h)\n",
    "    #return m, m-h, m+h\n",
    "    return s"
   ]
  },
  {
   "cell_type": "code",
   "execution_count": 4,
   "metadata": {},
   "outputs": [
    {
     "data": {
      "text/plain": [
       "['sample_lengthid', 'CNN', 'status', 'transform', 'Score', '% IoU']"
      ]
     },
     "execution_count": 4,
     "metadata": {},
     "output_type": "execute_result"
    }
   ],
   "source": [
    "list(df)"
   ]
  },
  {
   "cell_type": "code",
   "execution_count": 8,
   "metadata": {},
   "outputs": [
    {
     "data": {
      "text/html": [
       "<div>\n",
       "<style scoped>\n",
       "    .dataframe tbody tr th:only-of-type {\n",
       "        vertical-align: middle;\n",
       "    }\n",
       "\n",
       "    .dataframe tbody tr th {\n",
       "        vertical-align: top;\n",
       "    }\n",
       "\n",
       "    .dataframe thead tr th {\n",
       "        text-align: left;\n",
       "    }\n",
       "\n",
       "    .dataframe thead tr:last-of-type th {\n",
       "        text-align: right;\n",
       "    }\n",
       "</style>\n",
       "<table border=\"1\" class=\"dataframe\">\n",
       "  <thead>\n",
       "    <tr>\n",
       "      <th></th>\n",
       "      <th colspan=\"2\" halign=\"left\">% IoU</th>\n",
       "    </tr>\n",
       "    <tr>\n",
       "      <th></th>\n",
       "      <th>mean</th>\n",
       "      <th>ci</th>\n",
       "    </tr>\n",
       "    <tr>\n",
       "      <th>transform</th>\n",
       "      <th></th>\n",
       "      <th></th>\n",
       "    </tr>\n",
       "  </thead>\n",
       "  <tbody>\n",
       "    <tr>\n",
       "      <th>horizontal flip</th>\n",
       "      <td>93.200719</td>\n",
       "      <td>M=93.2 95% CIs [93.0, 93.4]</td>\n",
       "    </tr>\n",
       "    <tr>\n",
       "      <th>none</th>\n",
       "      <td>92.750950</td>\n",
       "      <td>M=92.8 95% CIs [92.5, 93.0]</td>\n",
       "    </tr>\n",
       "  </tbody>\n",
       "</table>\n",
       "</div>"
      ],
      "text/plain": [
       "                     % IoU                             \n",
       "                      mean                           ci\n",
       "transform                                              \n",
       "horizontal flip  93.200719  M=93.2 95% CIs [93.0, 93.4]\n",
       "none             92.750950  M=92.8 95% CIs [92.5, 93.0]"
      ]
     },
     "execution_count": 8,
     "metadata": {},
     "output_type": "execute_result"
    }
   ],
   "source": [
    "df.groupby(['transform']).agg({'% IoU':[np.mean, ci]})"
   ]
  },
  {
   "cell_type": "code",
   "execution_count": null,
   "metadata": {},
   "outputs": [],
   "source": []
  }
 ],
 "metadata": {
  "kernelspec": {
   "display_name": "Python 3",
   "language": "python",
   "name": "python3"
  },
  "language_info": {
   "codemirror_mode": {
    "name": "ipython",
    "version": 3
   },
   "file_extension": ".py",
   "mimetype": "text/x-python",
   "name": "python",
   "nbconvert_exporter": "python",
   "pygments_lexer": "ipython3",
   "version": "3.5.4"
  }
 },
 "nbformat": 4,
 "nbformat_minor": 2
}
