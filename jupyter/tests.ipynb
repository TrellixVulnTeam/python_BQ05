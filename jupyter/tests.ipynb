{
 "cells": [
  {
   "cell_type": "code",
   "execution_count": 4,
   "metadata": {},
   "outputs": [
    {
     "name": "stdout",
     "output_type": "stream",
     "text": [
      "ERROR:   division by zero\n",
      "NONE\n"
     ]
    }
   ],
   "source": [
    "def r():\n",
    "    a = 1/0\n",
    "    return a\n",
    "\n",
    "z = None\n",
    "try:\n",
    "    z = r()\n",
    "except Exception as e:\n",
    "    s = '%s:   %s'  % ('ERROR', str(e))\n",
    "    print(s)\n",
    "\n",
    "if not z:\n",
    "    print('NONE')\n",
    "else:\n",
    "    print('NOT NONE')"
   ]
  },
  {
   "cell_type": "code",
   "execution_count": null,
   "metadata": {},
   "outputs": [],
   "source": []
  }
 ],
 "metadata": {
  "kernelspec": {
   "display_name": "Python 3",
   "language": "python",
   "name": "python3"
  },
  "language_info": {
   "codemirror_mode": {
    "name": "ipython",
    "version": 3
   },
   "file_extension": ".py",
   "mimetype": "text/x-python",
   "name": "python",
   "nbconvert_exporter": "python",
   "pygments_lexer": "ipython3",
   "version": "3.5.4"
  }
 },
 "nbformat": 4,
 "nbformat_minor": 2
}
