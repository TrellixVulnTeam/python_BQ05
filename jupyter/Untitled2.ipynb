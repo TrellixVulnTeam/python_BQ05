{
 "cells": [
  {
   "cell_type": "code",
   "execution_count": 1,
   "metadata": {},
   "outputs": [],
   "source": [
    "import colorsys\n",
    "     \n",
    "def HSVToRGB(h, s, v):\n",
    "    (r, g, b) = colorsys.hsv_to_rgb(h, s, v)\n",
    "    return (int(255*r), int(255*g), int(255*b))\n",
    "\n",
    "def getDistinctColors(n):\n",
    "    huePartition = 1.0 / (n + 1)\n",
    "    return (HSVToRGB(huePartition * value, 1.0, 1.0) for value in range(0, n))\n"
   ]
  },
  {
   "cell_type": "code",
   "execution_count": 3,
   "metadata": {},
   "outputs": [
    {
     "data": {
      "text/plain": [
       "[(255, 0, 0), (255, 255, 0), (0, 255, 0), (0, 255, 255), (0, 0, 255)]"
      ]
     },
     "execution_count": 3,
     "metadata": {},
     "output_type": "execute_result"
    }
   ],
   "source": [
    "list(getDistinctColors(5))"
   ]
  },
  {
   "cell_type": "code",
   "execution_count": 4,
   "metadata": {},
   "outputs": [],
   "source": [
    "def black_or_white(background_color):\n",
    "    '''(3-tuple) -> 3-tuple\n",
    "\n",
    "    Given a colour background pick if black or white provides\n",
    "    the highest contrast foreground.\n",
    "\n",
    "    Returns:\n",
    "    tuple of black (0,0,0) or white (255,255,255)\n",
    "    '''\n",
    "    B, G, R = background_color\n",
    "    B /= 255; G /= 255; R /= 255\n",
    "\n",
    "    gamma = 2.2\n",
    "    L = 0.2126 * B**gamma + 0.7152 * G**gamma + 0.0722 * R**gamma\n",
    "\n",
    "    if L > 0.5**gamma:\n",
    "        return (0, 0, 0)\n",
    "\n",
    "    return (255, 255, 255)"
   ]
  },
  {
   "cell_type": "code",
   "execution_count": 6,
   "metadata": {},
   "outputs": [
    {
     "data": {
      "text/plain": [
       "(0, 0, 0)"
      ]
     },
     "execution_count": 6,
     "metadata": {},
     "output_type": "execute_result"
    }
   ],
   "source": [
    "black_or_white((255,255,255))"
   ]
  },
  {
   "cell_type": "code",
   "execution_count": null,
   "metadata": {},
   "outputs": [],
   "source": []
  }
 ],
 "metadata": {
  "kernelspec": {
   "display_name": "Python 3",
   "language": "python",
   "name": "python3"
  },
  "language_info": {
   "codemirror_mode": {
    "name": "ipython",
    "version": 3
   },
   "file_extension": ".py",
   "mimetype": "text/x-python",
   "name": "python",
   "nbconvert_exporter": "python",
   "pygments_lexer": "ipython3",
   "version": "3.5.4"
  }
 },
 "nbformat": 4,
 "nbformat_minor": 2
}
