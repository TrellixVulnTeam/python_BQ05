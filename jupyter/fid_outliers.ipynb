{
 "cells": [
  {
   "cell_type": "code",
   "execution_count": 5,
   "metadata": {},
   "outputs": [
    {
     "name": "stdout",
     "output_type": "stream",
     "text": [
      "{'T2E', 'FJY', '4', 'IBP', 'LLQ'}\n"
     ]
    }
   ],
   "source": [
    "%config IPCompleter.greedy=True\n",
    "#TAB after dot to show methods etc\n",
    "#SHIFT TAB to show args - but if own code need to run the import first\n",
    "from funclib.baselib import list_and\n",
    "\n",
    "perc_outliers = ['IBP', '4', 'T2E', 'PX5', 'FJY', 'T41', 'T41', 'LLQ', 'T2E', '419']\n",
    "abs_outliers = ['IBP', 'T2E', 'FJY', 'T2E', '4UQ', 'TSH', 'HY1', 'LLQ', '4', 'K4I']\n",
    "\n",
    "lst = list_and(perc_outliers, abs_outliers)\n",
    "print(lst)"
   ]
  },
  {
   "cell_type": "code",
   "execution_count": null,
   "metadata": {},
   "outputs": [],
   "source": []
  }
 ],
 "metadata": {
  "kernelspec": {
   "display_name": "Python 3",
   "language": "python",
   "name": "python3"
  },
  "language_info": {
   "codemirror_mode": {
    "name": "ipython",
    "version": 3
   },
   "file_extension": ".py",
   "mimetype": "text/x-python",
   "name": "python",
   "nbconvert_exporter": "python",
   "pygments_lexer": "ipython3",
   "version": "3.5.4"
  }
 },
 "nbformat": 4,
 "nbformat_minor": 2
}
