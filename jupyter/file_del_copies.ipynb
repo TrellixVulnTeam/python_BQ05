{
 "cells": [
  {
   "cell_type": "code",
   "execution_count": 30,
   "metadata": {},
   "outputs": [],
   "source": [
    "import funclib.iolib as iolib\n",
    "import funclib.baselib as baselib\n",
    "import funclib.stringslib as stringslib\n",
    "fld = 'C:/temp/test'\n",
    "\n",
    "def is_int(s):\n",
    "    try:\n",
    "        n = int(s)\n",
    "        f = float(s)\n",
    "        return n == f\n",
    "    except:\n",
    "        return False\n",
    "    \n",
    "def looks_like_copy(s):\n",
    "    if len(s.split('(')) != 2:\n",
    "        return False\n",
    "    if len(s.split(')')) != 2:\n",
    "        return False\n",
    "    if s.rfind('(') > s.rfind(')'):\n",
    "        return False\n",
    "    n = s.split('(')[1].split(')')[0]\n",
    "    return is_int(n)\n"
   ]
  },
  {
   "cell_type": "code",
   "execution_count": 33,
   "metadata": {},
   "outputs": [
    {
     "name": "stdout",
     "output_type": "stream",
     "text": [
      "\n",
      "\n",
      "18 of 18 [####################] 100.0% \n",
      "\n",
      "Deleted 0 files\n"
     ]
    }
   ],
   "source": [
    "n = sum([1 for x in iolib.file_list_generator1(paths=fld, wildcards='*.pdf', recurse=False)])\n",
    "PP = iolib.PrintProgress(bar_length=20, maximum=n)\n",
    "\n",
    "del_cnt = 0\n",
    "for fname in iolib.file_list_generator1(paths=fld, wildcards='*.pdf', recurse=False):\n",
    "    d, f, e = iolib.get_file_parts2(fname)\n",
    "    if looks_like_copy(f):\n",
    "        try:\n",
    "            iolib.files_delete2(fname)\n",
    "            del_cnt += 1\n",
    "        except:\n",
    "            pass\n",
    "    PP.increment()\n",
    "    \n",
    "print('Deleted %s files' % del_cnt)\n"
   ]
  }
 ],
 "metadata": {
  "kernelspec": {
   "display_name": "Python 3",
   "language": "python",
   "name": "python3"
  },
  "language_info": {
   "codemirror_mode": {
    "name": "ipython",
    "version": 3
   },
   "file_extension": ".py",
   "mimetype": "text/x-python",
   "name": "python",
   "nbconvert_exporter": "python",
   "pygments_lexer": "ipython3",
   "version": "3.5.4"
  }
 },
 "nbformat": 4,
 "nbformat_minor": 2
}
