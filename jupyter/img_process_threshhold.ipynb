{
 "cells": [
  {
   "cell_type": "code",
   "execution_count": 2,
   "metadata": {},
   "outputs": [
    {
     "name": "stdout",
     "output_type": "stream",
     "text": [
      "Done\n"
     ]
    }
   ],
   "source": [
    "#mosaic an image into a single column and\n",
    "#save the mosaic\n",
    "import os.path as path\n",
    "from shutil import copyfile\n",
    "import cv2\n",
    "from opencvlib import view\n",
    "from opencvlib.view import draw_str\n",
    "import opencvlib\n",
    "import opencvlib.imgpipes.generators as gen\n",
    "import funclib.iolib as iolib\n",
    "import opencvlib.transforms as tf\n",
    "import opencvlib.view as view\n",
    "from funclib.iolib import PrintProgress as PP\n",
    "print('Done')"
   ]
  },
  {
   "cell_type": "code",
   "execution_count": 18,
   "metadata": {},
   "outputs": [
    {
     "name": "stdout",
     "output_type": "stream",
     "text": [
      "Copied files to C:\\Users\\Graham Monkman\\OneDrive\\Documents\\MMOMapping\\data\\Data sources and sites\\books+mags\\The Sea Anglers Eldorado\\_backup\n",
      "\n",
      "\n",
      "1 of 1 [##############################] 100.0% \n",
      "\n",
      "Done\n"
     ]
    }
   ],
   "source": [
    "#Threshold images to black and white\n",
    "cnt = 0\n",
    "DO_RESIZE = False\n",
    "DO_DENOISE = True\n",
    "CREATE_BACKUP = True\n",
    "THRESHOLD = int(255/2)\n",
    "FLD = r'C:\\Users\\Graham Monkman\\OneDrive\\Documents\\MMOMapping\\data\\Data sources and sites\\books+mags\\The Sea Anglers Eldorado'\n",
    "FLD = path.normpath(FLD)\n",
    "FLD_BACKUP = path.normpath('%s/_backup' % FLD)\n",
    "WIDTH = 2200 #1920\n",
    "if CREATE_BACKUP:\n",
    "    iolib.create_folder(FLD_BACKUP)\n",
    "    fp = gen.FromPaths(FLD)\n",
    "    for _, fname, _ in fp.generate(pathonly=True):\n",
    "        d, f, e = iolib.get_file_parts2(fname)\n",
    "        dst = '%s/%s' % (FLD_BACKUP, f)\n",
    "        copyfile(fname, dst)\n",
    "    print('Copied files to %s' % FLD_BACKUP)\n",
    "\n",
    "    \n",
    "def resize_(I, fname, width=WIDTH, overwrite_orig=False):\n",
    "    '''overwrite the original image'''\n",
    "    I = tf.resize(image=I, width=width)\n",
    "    if overwrite_orig:\n",
    "        cv2.imwrite(fname, I)\n",
    "    return I\n",
    "\n",
    "\n",
    "fp = gen.FromPaths(FLD)\n",
    "n = len(list(1 for _ in fp.generate(pathonly=True)))\n",
    "P = PP(maximum=n)\n",
    "for I, fname, _ in fp.generate():\n",
    "    _, f, ext = iolib.get_file_parts(fname)    \n",
    "    \n",
    "    I = tf.togreyscale(I)\n",
    "    \n",
    "    if DO_RESIZE:\n",
    "        I = resize_(I, fname, overwrite_orig=False)\n",
    "\n",
    "    if DO_DENOISE:\n",
    "        I = tf.denoise_greyscale(I, h=30)\n",
    "        \n",
    "    _,I = cv2.threshold(I, THRESHOLD, 255, type=cv2.THRESH_BINARY)\n",
    "    cv2.imwrite(fname, I)\n",
    "    P.increment()\n",
    "    \n",
    "\n",
    "print('Done')"
   ]
  },
  {
   "cell_type": "code",
   "execution_count": null,
   "metadata": {},
   "outputs": [],
   "source": []
  }
 ],
 "metadata": {
  "kernelspec": {
   "display_name": "Python 3",
   "language": "python",
   "name": "python3"
  },
  "language_info": {
   "codemirror_mode": {
    "name": "ipython",
    "version": 3
   },
   "file_extension": ".py",
   "mimetype": "text/x-python",
   "name": "python",
   "nbconvert_exporter": "python",
   "pygments_lexer": "ipython3",
   "version": "3.5.4"
  }
 },
 "nbformat": 4,
 "nbformat_minor": 2
}
