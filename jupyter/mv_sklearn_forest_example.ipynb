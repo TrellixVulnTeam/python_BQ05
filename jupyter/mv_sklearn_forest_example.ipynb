{
 "cells": [
  {
   "cell_type": "code",
   "execution_count": 3,
   "metadata": {},
   "outputs": [],
   "source": [
    "from enum import Enum\n",
    "import math\n",
    "\n",
    "\n",
    "import pandas as pd\n",
    "import numpy as np\n",
    "from scipy import stats\n",
    "import matplotlib.pyplot as plt\n",
    "import matplotlib.font_manager\n",
    "from sklearn.ensemble import IsolationForest\n",
    "from sklearn.model_selection import train_test_split\n",
    "\n",
    "from funclib.iolib import folder_open\n",
    "from funclib.baselib import pickle, unpickle\n",
    "from funclib.numericslib import roundx\n",
    "from dblib import mssql\n",
    "from plotlib.mplfuncs import FigWidthsInch"
   ]
  },
  {
   "cell_type": "code",
   "execution_count": 3,
   "metadata": {},
   "outputs": [],
   "source": [
    "#GET DATAFRAME FROM SQL"
   ]
  },
  {
   "cell_type": "code",
   "execution_count": 2,
   "metadata": {},
   "outputs": [
    {
     "data": {
      "text/plain": [
       "['tl_mm',\n",
       " 'lens_subj_triangle_est',\n",
       " 'rotation',\n",
       " 'accuracy',\n",
       " 'hw_ratio',\n",
       " 'bias_percent',\n",
       " 'abs_bias_percent']"
      ]
     },
     "execution_count": 2,
     "metadata": {},
     "output_type": "execute_result"
    }
   ],
   "source": [
    "sql=\"select tl_mm, lens_subj_triangle_est, abs(rotation) as rotation ,accuracy ,hw_ratio, all_corr_rot_adj2_mm_error_perc as bias_percent, abs(all_corr_rot_adj2_mm_error_perc) as abs_bias_percent from v_mv_long_form where cnn = 'nas' and (transform like 'r%' or transform like 'none') and accuracy>0.5\"\n",
    "\n",
    "with mssql.Conn('imagedb', '(local)') as cnn:\n",
    "    df_hwratio = pd.read_sql(sql, cnn)\n",
    "list(df_hwratio)"
   ]
  },
  {
   "cell_type": "code",
   "execution_count": null,
   "metadata": {},
   "outputs": [],
   "source": [
    "#FORMAT THE DATA FOR SKLEARN CONSUMPTION, DO SOME SETUP"
   ]
  },
  {
   "cell_type": "code",
   "execution_count": 4,
   "metadata": {},
   "outputs": [
    {
     "name": "stdout",
     "output_type": "stream",
     "text": [
      "hw_bias.shape: (16508, 2)   hw_bias_acc.shape: (16508, 3)\n"
     ]
    }
   ],
   "source": [
    "rotation = np.array(df_hwratio.rotation)\n",
    "accuracy = np.array(df_hwratio.accuracy)\n",
    "hw_ratio = np.array(df_hwratio.hw_ratio)\n",
    "bias_percent = np.array(df_hwratio.bias_percent)\n",
    "n_samples = rotation.shape[0]\n",
    "\n",
    "#bias_percent vs hw_ratio\n",
    "hw_bias = np.c_[hw_ratio, bias_percent]\n",
    "hw_bias_acc = np.c_[hw_ratio, bias_percent, accuracy]\n",
    "\n",
    "X = np.copy(hw_bias) #the data\n",
    "print(X.shape)"
   ]
  },
  {
   "cell_type": "code",
   "execution_count": null,
   "metadata": {},
   "outputs": [],
   "source": [
    "#Split data into train and valuation"
   ]
  },
  {
   "cell_type": "code",
   "execution_count": null,
   "metadata": {},
   "outputs": [],
   "source": [
    "train, valuation = train_test_split(hw_bias_acc)"
   ]
  },
  {
   "cell_type": "code",
   "execution_count": 33,
   "metadata": {},
   "outputs": [],
   "source": [
    "#RANDOM FOREST ON HW_BIAS"
   ]
  },
  {
   "cell_type": "code",
   "execution_count": 35,
   "metadata": {},
   "outputs": [
    {
     "name": "stdout",
     "output_type": "stream",
     "text": [
      "Done\n"
     ]
    }
   ],
   "source": [
    "outliers_fraction = 0.1\n",
    "\n",
    "clf = IsolationForest(max_samples=n_samples, contamination=outliers_fraction, random_state=np.random.RandomState(28)) #the classifier\n",
    "clf.fit(X)\n",
    "scores_pred = clf.decision_function(X)\n",
    "y_pred = clf.predict(X)\n",
    "\n",
    "threshold = stats.scoreatpercentile(scores_pred, 100 * outliers_fraction)\n",
    "\n",
    "Z = clf.decision_function(np.c_[xx.ravel(), yy.ravel()])\n",
    "Z = Z.reshape(xx.shape)\n",
    "\n",
    "levels=[threshold, Z.max()]\n",
    "levels.sort()\n",
    "print('Done')\n"
   ]
  },
  {
   "cell_type": "code",
   "execution_count": 36,
   "metadata": {},
   "outputs": [],
   "source": [
    "#PLOT IT"
   ]
  },
  {
   "cell_type": "code",
   "execution_count": 37,
   "metadata": {},
   "outputs": [
    {
     "data": {
      "image/png": "[encoded data removed]",
      "text/plain": [
       "<matplotlib.figure.Figure at 0x16a1864cf98>"
      ]
     },
     "metadata": {},
     "output_type": "display_data"
    }
   ],
   "source": [
    "xlim = (0, 1); ylim = (-70, 30)\n",
    "xx, yy = np.meshgrid(np.linspace(xlim[0], xlim[1], 100), np.linspace(ylim[0], ylim[1], 100))\n",
    "\n",
    "plt.figure(figsize=(W, H))\n",
    "ax = plt.gca()\n",
    "\n",
    "plt.contourf(xx, yy, Z, levels=np.linspace(Z.min(), threshold, 7), cmap=plt.cm.Blues_r)\n",
    "#plt.contourf(xx, yy, Z, levels=[threshold, Z.max()].sort(), colors='orange')\n",
    "\n",
    "b = plt.scatter(X[:,0], X[:,1], c='white', s=1, edgecolor='k')\n",
    "a = plt.contour(xx, yy, Z, levels=[threshold], linewidths=4, colors='white')\n",
    "\n",
    "\n",
    "plt.axis('tight')\n",
    "#plt.legend([a.collections[0], b, c], ['learned decision function', 'true inliers', 'true outliers'], prop=matplotlib.font_manager.FontProperties(size=10), loc='lower right')\n",
    "ax.set_xlabel('Height/width ratio')\n",
    "ax.set_ylabel('Bias')\n",
    "ax.set_xlim(xlim)\n",
    "ax.set_ylim(ylim)\n",
    "\n",
    "plt.savefig('C:/Users/Graham Monkman/OneDrive/Documents/PHD/My Papers/Fiducial_machine_vision_estimates/images/hw_outliers.svg', dpi=500)\n",
    "plt.savefig('C:/Users/Graham Monkman/OneDrive/Documents/PHD/My Papers/Fiducial_machine_vision_estimates/images/hw_outliers.jpg')\n",
    "folder_open('C:/Users/Graham Monkman/OneDrive/Documents/PHD/My Papers/Fiducial_machine_vision_estimates/images')\n",
    "\n",
    "plt.show()"
   ]
  }
 ],
 "metadata": {
  "kernelspec": {
   "display_name": "Python 3",
   "language": "python",
   "name": "python3"
  },
  "language_info": {
   "codemirror_mode": {
    "name": "ipython",
    "version": 3
   },
   "file_extension": ".py",
   "mimetype": "text/x-python",
   "name": "python",
   "nbconvert_exporter": "python",
   "pygments_lexer": "ipython3",
   "version": "3.5.4"
  }
 },
 "nbformat": 4,
 "nbformat_minor": 2
}
