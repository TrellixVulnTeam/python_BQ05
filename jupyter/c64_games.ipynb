{
 "cells": [
  {
   "cell_type": "code",
   "execution_count": 1,
   "metadata": {},
   "outputs": [],
   "source": [
    "\n",
    "import nltk, string\n",
    "from sklearn.feature_extraction.text import TfidfVectorizer\n",
    "\n",
    "import funclib.pandaslib as pandaslib\n",
    "import xlwings\n",
    "\n",
    "import pandas as pd\n",
    "import funclib.baselib as baselib\n",
    "import funclib.iolib as iolib\n",
    "\n",
    "\n",
    "class Game():\n",
    "    '''game cls'''\n",
    "    def __init__(self, url, full_title, score=0, votes=0, year_released=None):\n",
    "        if not isinstance(full_title, str): raise ValueError('Full title was not a string')\n",
    "        if full_title is None: raise ValueError('Full title was None')\n",
    "        \n",
    "\n",
    "        self.full_title = full_title.lower()\n",
    "        self.year_released = year_released\n",
    "        self.score = score\n",
    "        self.votes = votes\n",
    "        self.url = url\n",
    "  \n",
    "        \n",
    "remove_punctuation_map = dict((ord(char), None) for char in string.punctuation)\n",
    "\n",
    "def normalize(text):\n",
    "    stem_t = text.lower().translate(remove_punctuation_map)\n",
    "    return stem_t\n",
    "\n",
    "vectorizer = TfidfVectorizer(tokenizer=normalize)\n",
    "\n",
    "def cosine_sim(text1, text2):\n",
    "    tfidf = vectorizer.fit_transform([text1, text2])\n",
    "    return ((tfidf * tfidf.T).A)[0,1]"
   ]
  },
  {
   "cell_type": "code",
   "execution_count": 2,
   "metadata": {},
   "outputs": [
    {
     "name": "stdout",
     "output_type": "stream",
     "text": [
      "525 good games, 4863 rom folders\n"
     ]
    }
   ],
   "source": [
    "games_root = 'C:/temp/c64'\n",
    "copy_games_to = 'C:/temp/c64_best'\n",
    "\n",
    "games = baselib.unpickle('c:/temp/c64games.pkl')\n",
    "games_names = []\n",
    "games_scores = []\n",
    "games_votes = []\n",
    "games_val = []\n",
    "games_yr = []\n",
    "\n",
    "exclude = ['german']\n",
    "\n",
    "\n",
    "\n",
    "for g in games:\n",
    "    skip = False\n",
    "    if ((g.score > 7.5 and (g.score * g.votes > 200)) or (g.score * g.votes > 600)) and g.year_released < 1992:\n",
    "        for s in exclude:\n",
    "            if s in g.full_title:\n",
    "                skip = True\n",
    "                break\n",
    "        if skip: continue\n",
    "        games_names.append(g.full_title)\n",
    "        games_scores.append(g.score)\n",
    "        games_votes.append(g.votes)\n",
    "        games_val.append(g.votes * g.score)\n",
    "        games_yr.append(g.year_released)\n",
    "    \n",
    "\n",
    "                            \n",
    "game_folders = []\n",
    "game_folders_full = []\n",
    "\n",
    "for folder, filename, extension, fullname in iolib.file_list_generator_dfe(games_root, '*.*', recurse=True):\n",
    "    fld = folder.split('\\\\')[-1]\n",
    "    if len(fld) == 1: continue\n",
    "    game_folders.append(fld)\n",
    "    game_folders_full.append(folder)\n",
    "    \n",
    "game_folders = list(set(game_folders))\n",
    "\n",
    "def get_game_sim(gname):\n",
    "    lst = [cosine_sim(gname, fld) for fld in game_folders]\n",
    "    return lst\n",
    "\n",
    "print('%s good games, %s rom folders' % (len(games_names), len(game_folders)))"
   ]
  },
  {
   "cell_type": "code",
   "execution_count": null,
   "metadata": {},
   "outputs": [
    {
     "name": "stdout",
     "output_type": "stream",
     "text": [
      "\n",
      "\n",
      "88 of 525 [#####-------------------------] 16.76% 1h 32m 52s\r"
     ]
    }
   ],
   "source": [
    "folders_full = []\n",
    "folders = []\n",
    "\n",
    "PP = iolib.PrintProgress(games_names)\n",
    "for g in games_names:\n",
    "    L = get_game_sim(g)\n",
    "    folders_full.append(game_folders_full[L.index(max(L))])\n",
    "    folders.append(game_folders[L.index(max(L))])\n",
    "    PP.increment()\n",
    "    #iolb.folder_copy\n",
    "  "
   ]
  },
  {
   "cell_type": "code",
   "execution_count": 55,
   "metadata": {},
   "outputs": [],
   "source": [
    "df_good = pd.DataFrame(list(zip(games_names,games_yr, games_scores,games_votes,games_val, folders_full, folders)), columns=['name', 'yr', 'score','vote','val','folders_full','folders'])\n",
    "#xlwings.view(df_good)"
   ]
  },
  {
   "cell_type": "code",
   "execution_count": null,
   "metadata": {},
   "outputs": [],
   "source": []
  }
 ],
 "metadata": {
  "kernelspec": {
   "display_name": "Python 3",
   "language": "python",
   "name": "python3"
  },
  "language_info": {
   "codemirror_mode": {
    "name": "ipython",
    "version": 3
   },
   "file_extension": ".py",
   "mimetype": "text/x-python",
   "name": "python",
   "nbconvert_exporter": "python",
   "pygments_lexer": "ipython3",
   "version": "3.5.4"
  }
 },
 "nbformat": 4,
 "nbformat_minor": 2
}
