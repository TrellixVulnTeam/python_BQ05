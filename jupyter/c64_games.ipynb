{
 "cells": [
  {
   "cell_type": "code",
   "execution_count": 1,
   "metadata": {},
   "outputs": [],
   "source": [
    "import nltk, string\n",
    "from sklearn.feature_extraction.text import TfidfVectorizer\n",
    "import os\n",
    "import funclib.pandaslib as pandaslib\n",
    "import xlwings\n",
    "\n",
    "import pandas as pd\n",
    "import funclib.baselib as baselib\n",
    "import funclib.iolib as iolib\n",
    "\n",
    "\n",
    "class Game():\n",
    "    '''game cls'''\n",
    "    def __init__(self, url, full_title, score=0, votes=0, year_released=None):\n",
    "        if not isinstance(full_title, str): raise ValueError('Full title was not a string')\n",
    "        if full_title is None: raise ValueError('Full title was None')\n",
    "        \n",
    "\n",
    "        self.full_title = full_title.lower()\n",
    "        self.year_released = year_released\n",
    "        self.score = score\n",
    "        self.votes = votes\n",
    "        self.url = url\n",
    "  \n",
    "        \n",
    "remove_punctuation_map = dict((ord(char), None) for char in string.punctuation)\n",
    "\n",
    "def normalize(text):\n",
    "    stem_t = text.lower().translate(remove_punctuation_map)\n",
    "    return stem_t\n",
    "\n",
    "vectorizer = TfidfVectorizer(tokenizer=normalize)\n",
    "\n",
    "def cosine_sim(text1, text2):\n",
    "    tfidf = vectorizer.fit_transform([text1, text2])\n",
    "    return ((tfidf * tfidf.T).A)[0,1]\n",
    "\n",
    "\n",
    "games_root = 'C:/temp/c64/Games'\n",
    "copy_games_to = 'C:/temp/c64_best_games'"
   ]
  },
  {
   "cell_type": "code",
   "execution_count": 23,
   "metadata": {},
   "outputs": [
    {
     "name": "stdout",
     "output_type": "stream",
     "text": [
      "525 good games, 4844 rom folders\n"
     ]
    }
   ],
   "source": [
    "games = baselib.unpickle('c:/temp/c64games.pkl')\n",
    "games_names = []\n",
    "games_scores = []\n",
    "games_votes = []\n",
    "games_val = []\n",
    "games_yr = []\n",
    "\n",
    "exclude = ['german']\n",
    "\n",
    "\n",
    "\n",
    "for g in games:\n",
    "    skip = False\n",
    "    if ((g.score > 7.5 and (g.score * g.votes > 200)) or (g.score * g.votes > 600)) and g.year_released < 1992:\n",
    "        for s in exclude:\n",
    "            if s in g.full_title:\n",
    "                skip = True\n",
    "                break\n",
    "        if skip: continue\n",
    "        games_names.append(g.full_title)\n",
    "        games_scores.append(g.score)\n",
    "        games_votes.append(g.votes)\n",
    "        games_val.append(g.votes * g.score)\n",
    "        games_yr.append(g.year_released)\n",
    "    \n",
    "\n",
    "                            \n",
    "game_folders = []\n",
    "game_folders_full = []\n",
    "\n",
    "for folder, filename, extension, fullname in iolib.file_list_generator_dfe(games_root, '*.*', recurse=True):\n",
    "    fld = folder.split('\\\\')[-1]\n",
    "    if len(fld) == 1: continue\n",
    "    if not fld in game_folders:\n",
    "        game_folders.append(fld)\n",
    "        game_folders_full.append(folder)\n",
    "\n",
    "def get_game_sim(gname):\n",
    "    lst = [cosine_sim(gname, fld) for fld in game_folders]\n",
    "    return lst\n",
    "\n",
    "print('%s good games, %s rom folders' % (len(games_names), len(game_folders)))"
   ]
  },
  {
   "cell_type": "code",
   "execution_count": 5,
   "metadata": {},
   "outputs": [
    {
     "name": "stdout",
     "output_type": "stream",
     "text": [
      "\n",
      "\n",
      "111 of 525 [######------------------------] 21.14% 1h 32m 41s\r"
     ]
    },
    {
     "ename": "KeyboardInterrupt",
     "evalue": "",
     "output_type": "error",
     "traceback": [
      "\u001b[1;31m---------------------------------------------------------------------------\u001b[0m",
      "\u001b[1;31mKeyboardInterrupt\u001b[0m                         Traceback (most recent call last)",
      "\u001b[1;32m<ipython-input-5-84ee7d4ccb1c>\u001b[0m in \u001b[0;36m<module>\u001b[1;34m\u001b[0m\n\u001b[0;32m      4\u001b[0m \u001b[0mPP\u001b[0m \u001b[1;33m=\u001b[0m \u001b[0miolib\u001b[0m\u001b[1;33m.\u001b[0m\u001b[0mPrintProgress\u001b[0m\u001b[1;33m(\u001b[0m\u001b[0mgames_names\u001b[0m\u001b[1;33m)\u001b[0m\u001b[1;33m\u001b[0m\u001b[0m\n\u001b[0;32m      5\u001b[0m \u001b[1;32mfor\u001b[0m \u001b[0mg\u001b[0m \u001b[1;32min\u001b[0m \u001b[0mgames_names\u001b[0m\u001b[1;33m:\u001b[0m\u001b[1;33m\u001b[0m\u001b[0m\n\u001b[1;32m----> 6\u001b[1;33m     \u001b[0mL\u001b[0m \u001b[1;33m=\u001b[0m \u001b[0mget_game_sim\u001b[0m\u001b[1;33m(\u001b[0m\u001b[0mg\u001b[0m\u001b[1;33m)\u001b[0m\u001b[1;33m\u001b[0m\u001b[0m\n\u001b[0m\u001b[0;32m      7\u001b[0m     \u001b[0mfolders_full\u001b[0m\u001b[1;33m.\u001b[0m\u001b[0mappend\u001b[0m\u001b[1;33m(\u001b[0m\u001b[0mgame_folders_full\u001b[0m\u001b[1;33m[\u001b[0m\u001b[0mL\u001b[0m\u001b[1;33m.\u001b[0m\u001b[0mindex\u001b[0m\u001b[1;33m(\u001b[0m\u001b[0mmax\u001b[0m\u001b[1;33m(\u001b[0m\u001b[0mL\u001b[0m\u001b[1;33m)\u001b[0m\u001b[1;33m)\u001b[0m\u001b[1;33m]\u001b[0m\u001b[1;33m)\u001b[0m\u001b[1;33m\u001b[0m\u001b[0m\n\u001b[0;32m      8\u001b[0m     \u001b[0mfolders\u001b[0m\u001b[1;33m.\u001b[0m\u001b[0mappend\u001b[0m\u001b[1;33m(\u001b[0m\u001b[0mgame_folders\u001b[0m\u001b[1;33m[\u001b[0m\u001b[0mL\u001b[0m\u001b[1;33m.\u001b[0m\u001b[0mindex\u001b[0m\u001b[1;33m(\u001b[0m\u001b[0mmax\u001b[0m\u001b[1;33m(\u001b[0m\u001b[0mL\u001b[0m\u001b[1;33m)\u001b[0m\u001b[1;33m)\u001b[0m\u001b[1;33m]\u001b[0m\u001b[1;33m)\u001b[0m\u001b[1;33m\u001b[0m\u001b[0m\n",
      "\u001b[1;32m<ipython-input-2-79b34dd7574f>\u001b[0m in \u001b[0;36mget_game_sim\u001b[1;34m(gname)\u001b[0m\n\u001b[0;32m     41\u001b[0m \u001b[1;33m\u001b[0m\u001b[0m\n\u001b[0;32m     42\u001b[0m \u001b[1;32mdef\u001b[0m \u001b[0mget_game_sim\u001b[0m\u001b[1;33m(\u001b[0m\u001b[0mgname\u001b[0m\u001b[1;33m)\u001b[0m\u001b[1;33m:\u001b[0m\u001b[1;33m\u001b[0m\u001b[0m\n\u001b[1;32m---> 43\u001b[1;33m     \u001b[0mlst\u001b[0m \u001b[1;33m=\u001b[0m \u001b[1;33m[\u001b[0m\u001b[0mcosine_sim\u001b[0m\u001b[1;33m(\u001b[0m\u001b[0mgname\u001b[0m\u001b[1;33m,\u001b[0m \u001b[0mfld\u001b[0m\u001b[1;33m)\u001b[0m \u001b[1;32mfor\u001b[0m \u001b[0mfld\u001b[0m \u001b[1;32min\u001b[0m \u001b[0mgame_folders\u001b[0m\u001b[1;33m]\u001b[0m\u001b[1;33m\u001b[0m\u001b[0m\n\u001b[0m\u001b[0;32m     44\u001b[0m     \u001b[1;32mreturn\u001b[0m \u001b[0mlst\u001b[0m\u001b[1;33m\u001b[0m\u001b[0m\n\u001b[0;32m     45\u001b[0m \u001b[1;33m\u001b[0m\u001b[0m\n",
      "\u001b[1;32m<ipython-input-2-79b34dd7574f>\u001b[0m in \u001b[0;36m<listcomp>\u001b[1;34m(.0)\u001b[0m\n\u001b[0;32m     41\u001b[0m \u001b[1;33m\u001b[0m\u001b[0m\n\u001b[0;32m     42\u001b[0m \u001b[1;32mdef\u001b[0m \u001b[0mget_game_sim\u001b[0m\u001b[1;33m(\u001b[0m\u001b[0mgname\u001b[0m\u001b[1;33m)\u001b[0m\u001b[1;33m:\u001b[0m\u001b[1;33m\u001b[0m\u001b[0m\n\u001b[1;32m---> 43\u001b[1;33m     \u001b[0mlst\u001b[0m \u001b[1;33m=\u001b[0m \u001b[1;33m[\u001b[0m\u001b[0mcosine_sim\u001b[0m\u001b[1;33m(\u001b[0m\u001b[0mgname\u001b[0m\u001b[1;33m,\u001b[0m \u001b[0mfld\u001b[0m\u001b[1;33m)\u001b[0m \u001b[1;32mfor\u001b[0m \u001b[0mfld\u001b[0m \u001b[1;32min\u001b[0m \u001b[0mgame_folders\u001b[0m\u001b[1;33m]\u001b[0m\u001b[1;33m\u001b[0m\u001b[0m\n\u001b[0m\u001b[0;32m     44\u001b[0m     \u001b[1;32mreturn\u001b[0m \u001b[0mlst\u001b[0m\u001b[1;33m\u001b[0m\u001b[0m\n\u001b[0;32m     45\u001b[0m \u001b[1;33m\u001b[0m\u001b[0m\n",
      "\u001b[1;32m<ipython-input-1-aeebd71b4dee>\u001b[0m in \u001b[0;36mcosine_sim\u001b[1;34m(text1, text2)\u001b[0m\n\u001b[0;32m     34\u001b[0m \u001b[1;33m\u001b[0m\u001b[0m\n\u001b[0;32m     35\u001b[0m \u001b[1;32mdef\u001b[0m \u001b[0mcosine_sim\u001b[0m\u001b[1;33m(\u001b[0m\u001b[0mtext1\u001b[0m\u001b[1;33m,\u001b[0m \u001b[0mtext2\u001b[0m\u001b[1;33m)\u001b[0m\u001b[1;33m:\u001b[0m\u001b[1;33m\u001b[0m\u001b[0m\n\u001b[1;32m---> 36\u001b[1;33m     \u001b[0mtfidf\u001b[0m \u001b[1;33m=\u001b[0m \u001b[0mvectorizer\u001b[0m\u001b[1;33m.\u001b[0m\u001b[0mfit_transform\u001b[0m\u001b[1;33m(\u001b[0m\u001b[1;33m[\u001b[0m\u001b[0mtext1\u001b[0m\u001b[1;33m,\u001b[0m \u001b[0mtext2\u001b[0m\u001b[1;33m]\u001b[0m\u001b[1;33m)\u001b[0m\u001b[1;33m\u001b[0m\u001b[0m\n\u001b[0m\u001b[0;32m     37\u001b[0m     \u001b[1;32mreturn\u001b[0m \u001b[1;33m(\u001b[0m\u001b[1;33m(\u001b[0m\u001b[0mtfidf\u001b[0m \u001b[1;33m*\u001b[0m \u001b[0mtfidf\u001b[0m\u001b[1;33m.\u001b[0m\u001b[0mT\u001b[0m\u001b[1;33m)\u001b[0m\u001b[1;33m.\u001b[0m\u001b[0mA\u001b[0m\u001b[1;33m)\u001b[0m\u001b[1;33m[\u001b[0m\u001b[1;36m0\u001b[0m\u001b[1;33m,\u001b[0m\u001b[1;36m1\u001b[0m\u001b[1;33m]\u001b[0m\u001b[1;33m\u001b[0m\u001b[0m\n",
      "\u001b[1;32mC:\\Python354x64\\Lib\\site-packages\\sklearn\\feature_extraction\\text.py\u001b[0m in \u001b[0;36mfit_transform\u001b[1;34m(self, raw_documents, y)\u001b[0m\n\u001b[0;32m   1612\u001b[0m         \u001b[0mself\u001b[0m\u001b[1;33m.\u001b[0m\u001b[0m_check_params\u001b[0m\u001b[1;33m(\u001b[0m\u001b[1;33m)\u001b[0m\u001b[1;33m\u001b[0m\u001b[0m\n\u001b[0;32m   1613\u001b[0m         \u001b[0mX\u001b[0m \u001b[1;33m=\u001b[0m \u001b[0msuper\u001b[0m\u001b[1;33m(\u001b[0m\u001b[0mTfidfVectorizer\u001b[0m\u001b[1;33m,\u001b[0m \u001b[0mself\u001b[0m\u001b[1;33m)\u001b[0m\u001b[1;33m.\u001b[0m\u001b[0mfit_transform\u001b[0m\u001b[1;33m(\u001b[0m\u001b[0mraw_documents\u001b[0m\u001b[1;33m)\u001b[0m\u001b[1;33m\u001b[0m\u001b[0m\n\u001b[1;32m-> 1614\u001b[1;33m         \u001b[0mself\u001b[0m\u001b[1;33m.\u001b[0m\u001b[0m_tfidf\u001b[0m\u001b[1;33m.\u001b[0m\u001b[0mfit\u001b[0m\u001b[1;33m(\u001b[0m\u001b[0mX\u001b[0m\u001b[1;33m)\u001b[0m\u001b[1;33m\u001b[0m\u001b[0m\n\u001b[0m\u001b[0;32m   1615\u001b[0m         \u001b[1;31m# X is already a transformed view of raw_documents so\u001b[0m\u001b[1;33m\u001b[0m\u001b[1;33m\u001b[0m\u001b[0m\n\u001b[0;32m   1616\u001b[0m         \u001b[1;31m# we set copy to False\u001b[0m\u001b[1;33m\u001b[0m\u001b[1;33m\u001b[0m\u001b[0m\n",
      "\u001b[1;32mC:\\Python354x64\\Lib\\site-packages\\sklearn\\feature_extraction\\text.py\u001b[0m in \u001b[0;36mfit\u001b[1;34m(self, X, y)\u001b[0m\n\u001b[0;32m   1237\u001b[0m         \u001b[1;32mif\u001b[0m \u001b[0mself\u001b[0m\u001b[1;33m.\u001b[0m\u001b[0muse_idf\u001b[0m\u001b[1;33m:\u001b[0m\u001b[1;33m\u001b[0m\u001b[0m\n\u001b[0;32m   1238\u001b[0m             \u001b[0mn_samples\u001b[0m\u001b[1;33m,\u001b[0m \u001b[0mn_features\u001b[0m \u001b[1;33m=\u001b[0m \u001b[0mX\u001b[0m\u001b[1;33m.\u001b[0m\u001b[0mshape\u001b[0m\u001b[1;33m\u001b[0m\u001b[0m\n\u001b[1;32m-> 1239\u001b[1;33m             \u001b[0mdf\u001b[0m \u001b[1;33m=\u001b[0m \u001b[0m_document_frequency\u001b[0m\u001b[1;33m(\u001b[0m\u001b[0mX\u001b[0m\u001b[1;33m)\u001b[0m\u001b[1;33m.\u001b[0m\u001b[0mastype\u001b[0m\u001b[1;33m(\u001b[0m\u001b[0mdtype\u001b[0m\u001b[1;33m)\u001b[0m\u001b[1;33m\u001b[0m\u001b[0m\n\u001b[0m\u001b[0;32m   1240\u001b[0m \u001b[1;33m\u001b[0m\u001b[0m\n\u001b[0;32m   1241\u001b[0m             \u001b[1;31m# perform idf smoothing if required\u001b[0m\u001b[1;33m\u001b[0m\u001b[1;33m\u001b[0m\u001b[0m\n",
      "\u001b[1;32mC:\\Python354x64\\Lib\\site-packages\\sklearn\\feature_extraction\\text.py\u001b[0m in \u001b[0;36m_document_frequency\u001b[1;34m(X)\u001b[0m\n\u001b[0;32m    659\u001b[0m     \u001b[1;34m\"\"\"Count the number of non-zero values for each feature in sparse X.\"\"\"\u001b[0m\u001b[1;33m\u001b[0m\u001b[0m\n\u001b[0;32m    660\u001b[0m     \u001b[1;32mif\u001b[0m \u001b[0msp\u001b[0m\u001b[1;33m.\u001b[0m\u001b[0misspmatrix_csr\u001b[0m\u001b[1;33m(\u001b[0m\u001b[0mX\u001b[0m\u001b[1;33m)\u001b[0m\u001b[1;33m:\u001b[0m\u001b[1;33m\u001b[0m\u001b[0m\n\u001b[1;32m--> 661\u001b[1;33m         \u001b[1;32mreturn\u001b[0m \u001b[0mnp\u001b[0m\u001b[1;33m.\u001b[0m\u001b[0mbincount\u001b[0m\u001b[1;33m(\u001b[0m\u001b[0mX\u001b[0m\u001b[1;33m.\u001b[0m\u001b[0mindices\u001b[0m\u001b[1;33m,\u001b[0m \u001b[0mminlength\u001b[0m\u001b[1;33m=\u001b[0m\u001b[0mX\u001b[0m\u001b[1;33m.\u001b[0m\u001b[0mshape\u001b[0m\u001b[1;33m[\u001b[0m\u001b[1;36m1\u001b[0m\u001b[1;33m]\u001b[0m\u001b[1;33m)\u001b[0m\u001b[1;33m\u001b[0m\u001b[0m\n\u001b[0m\u001b[0;32m    662\u001b[0m     \u001b[1;32melse\u001b[0m\u001b[1;33m:\u001b[0m\u001b[1;33m\u001b[0m\u001b[0m\n\u001b[0;32m    663\u001b[0m         \u001b[1;32mreturn\u001b[0m \u001b[0mnp\u001b[0m\u001b[1;33m.\u001b[0m\u001b[0mdiff\u001b[0m\u001b[1;33m(\u001b[0m\u001b[0mX\u001b[0m\u001b[1;33m.\u001b[0m\u001b[0mindptr\u001b[0m\u001b[1;33m)\u001b[0m\u001b[1;33m\u001b[0m\u001b[0m\n",
      "\u001b[1;31mKeyboardInterrupt\u001b[0m: "
     ]
    }
   ],
   "source": [
    "folders_full = []\n",
    "folders = []\n",
    "\n",
    "PP = iolib.PrintProgress(games_names)\n",
    "for g in games_names:\n",
    "    L = get_game_sim(g)\n",
    "    folders_full.append(game_folders_full[L.index(max(L))])\n",
    "    folders.append(game_folders[L.index(max(L))])\n",
    "    PP.increment()\n",
    "    #iolb.folder_copy\n",
    "  "
   ]
  },
  {
   "cell_type": "code",
   "execution_count": 55,
   "metadata": {},
   "outputs": [],
   "source": [
    "df_good = pd.DataFrame(list(zip(games_names,games_yr, games_scores,games_votes,games_val, folders_full, folders)), columns=['name', 'yr', 'score','vote','val','folders_full','folders'])\n",
    "#xlwings.view(df_good)"
   ]
  },
  {
   "cell_type": "code",
   "execution_count": 6,
   "metadata": {},
   "outputs": [
    {
     "name": "stdout",
     "output_type": "stream",
     "text": [
      "\n",
      "\n",
      "Directory not copied. Error: [WinError 183] Cannot create a file when that file already exists: 'C:\\\\temp\\\\c64_best_games\\\\Aliens'\n",
      "Directory not copied. Error: [WinError 183] Cannot create a file when that file already exists: 'C:\\\\temp\\\\c64_best_games\\\\Sentinel, The'\n",
      "Directory not copied. Error: [WinError 183] Cannot create a file when that file already exists: 'C:\\\\temp\\\\c64_best_games\\\\Skate or Die!'\n",
      "Directory not copied. Error: [WinError 183] Cannot create a file when that file already exists: 'C:\\\\temp\\\\c64_best_games\\\\Street Sports Basketball'\n",
      "Directory not copied. Error: [WinError 183] Cannot create a file when that file already exists: 'C:\\\\temp\\\\c64_best_games\\\\Wonderboy'\n",
      "Directory not copied. Error: [WinError 183] Cannot create a file when that file already exists: 'C:\\\\temp\\\\c64_best_games\\\\International Soccer (CRL)'\n",
      "523 of 523 [##############################] 100.0% 0.00s\n",
      "\n"
     ]
    }
   ],
   "source": [
    "#Copy games we want - this list is taken from excel file c64.xlsx\n",
    "games = [\"C:/temp/c64/Games/#/10th Frame\", \"C:/temp/c64/Games/#/1942\", \"C:/temp/c64/Games/#/4th & Inches\", \"C:/temp/c64/Games/#/720 Degrees\", \"C:/temp/c64/Games/A/Accolade Comics - Steve Keene Private Spy\", \"C:/temp/c64/Games/A/ACE Air Combat Emulator\", \"C:/temp/c64/Games/A/Ace of Aces\", \"C:/temp/c64/Games/A/Action Biker\", \"C:/temp/c64/Games/A/Agent U.S.A\", \"C:/temp/c64/Games/A/Airborne Ranger\", \"C:/temp/c64/Games/A/Alice in Wonderland\", \"C:/temp/c64/Games/A/Alien Syndrome\", \"C:/temp/c64/Games/A/Aliens\", \"C:/temp/c64/Games/A/Aliens\", \"C:/temp/c64/Games/A/Alter Ego (Male)\", \"C:/temp/c64/Games/A/Alternate Reality - The Dungeon\", \"C:/temp/c64/Games/A/American 3D Pool\", \"C:/temp/c64/Games/S/Sacred armour of Antiriad\", \"C:/temp/c64/Games/A/Apollo 18\", \"C:/temp/c64/Games/A/Archon\", \"C:/temp/c64/Games/A/Archon 2 - Adept\", \"C:/temp/c64/Games/A/Arkanoid\", \"C:/temp/c64/Games/A/Arkanoid 2 - Revenge of Doh\", \"C:/temp/c64/Games/A/Armalyte\", \"C:/temp/c64/Games/A/Artillery Duel\", \"C:/temp/c64/Games/A/Auf Wiedersehen Monty\", \"C:/temp/c64/Games/A/Autoduel\", \"C:/temp/c64/Games/A/Aztec Challenge\", \"C:/temp/c64/Games/B/Barbarian\", \"C:/temp/c64/Games/B/Barbarian 2\", \"C:/temp/c64/Games/B/Bards Tale\", \"C:/temp/c64/Games/B/Bards Tale 2 - The Destiny Knigth\", \"C:/temp/c64/Games/B/Bards Tale 3 (Disk 1 MIA)\", \"C:/temp/c64/Games/B/Barry McGuigan Championship Boxing\", \"C:/temp/c64/Games/B/Batman\", \"C:/temp/c64/Games/B/Batman The Caped Crusader\", \"C:/temp/c64/Games/B/Battle Chess\", \"C:/temp/c64/Games/B/Battle Command\", \"C:/temp/c64/Games/B/Battleships\", \"C:/temp/c64/Games/B/Battletech\", \"C:/temp/c64/Games/B/Batty\", \"C:/temp/c64/Games/B/BCs Quest for Tires\", \"C:/temp/c64/Games/B/Beach Head 2\", \"C:/temp/c64/Games/B/Beach Head\", \"C:/temp/c64/Games/B/Beamrider\", \"C:/temp/c64/Games/B/Below the Root\", \"C:/temp/c64/Games/F/Forbidden Forest II - Beyond the Forbidden Forest\", \"C:/temp/c64/Games/B/Bionic Commando\", \"C:/temp/c64/Games/B/Black Hawk\", \"C:/temp/c64/Games/B/Bloodwych\", \"C:/temp/c64/Games/B/Blue Max\", \"C:/temp/c64/Games/B/BMX Simulator\", \"C:/temp/c64/Games/B/Bomb Jack\", \"C:/temp/c64/Games/B/Bombuzal\", \"C:/temp/c64/Games/B/Bop 'n Rumble\", \"C:/temp/c64/Games/B/Boulder Dash\", \"C:/temp/c64/Games/B/Boulder Dash Construction Kit\", \"C:/temp/c64/Games/B/Bounty Bob Strikes Back\", \"C:/temp/c64/Games/B/Bruce Lee\", \"C:/temp/c64/Games/B/Bubble Bobble\", \"C:/temp/c64/Games/B/Buck Rogers - Countdown To Doomsday\", \"C:/temp/c64/Games/B/Budokan - The Martial Spirit\", \"C:/temp/c64/Games/B/Buggy Boy\", \"C:/temp/c64/Games/B/Burnin Rubber\", \"C:/temp/c64/Games/C/Cabal\", \"C:/temp/c64/Games/C/California Games\", \"C:/temp/c64/Games/C/Card Sharks\", \"C:/temp/c64/Games/C/Castle Master\", \"C:/temp/c64/Games/C/Castle of Terror\", \"C:/temp/c64/Games/C/Castles of Doctor Creep, The\", \"C:/temp/c64/Games/C/Cauldron\", \"C:/temp/c64/Games/C/Cauldron 2 - The Pumpkin Strikes Back\", \"C:/temp/c64/Games/C/Caveman Ugh-lympics\", \"C:/temp/c64/Games/C/Champions of Krynn\", \"C:/temp/c64/Games/C/Chip's Challenge\", \"C:/temp/c64/Games/C/Choplifter\", \"C:/temp/c64/Games/C/Citadel\", \"C:/temp/c64/Games/C/CJ's Elephant Antics\", \"C:/temp/c64/Games/C/Cliff Hanger\", \"C:/temp/c64/Games/C/Combat School\", \"C:/temp/c64/Games/C/Commando\", \"C:/temp/c64/Games/C/Cosmic Causeway\", \"C:/temp/c64/Games/C/Creatures\", \"C:/temp/c64/Games/I/International Soccer (Commodore)\", \"C:/temp/c64/Games/C/Curse of The Azure Bonds\", \"C:/temp/c64/Games/C/Cyberdyne Warrior\", \"C:/temp/c64/Games/C/Cybernoid\", \"C:/temp/c64/Games/C/Cybernoid 2 - The Revenge\", \"C:/temp/c64/Games/D/Dan Dare I - Pilot of The Future\", \"C:/temp/c64/Games/D/Dark Side\", \"C:/temp/c64/Games/D/Death Knights of Krynn\", \"C:/temp/c64/Games/D/Decathlon\", \"C:/temp/c64/Games/D/Defender of the Crown\", \"C:/temp/c64/Games/D/Deflektor\", \"C:/temp/c64/Games/D/Deja Vu\", \"C:/temp/c64/Games/D/Delta\", \"C:/temp/c64/Games/D/Demon Stalkers - The Raid On Doomfane\", \"C:/temp/c64/Games/D/Demons Kiss\", \"C:/temp/c64/Games/D/Destroyer\", \"C:/temp/c64/Games/D/Detective Game\", \"C:/temp/c64/Games/D/Denaris\", \"C:/temp/c64/Games/D/Die Hard\", \"C:/temp/c64/Games/D/Dig Dug\", \"C:/temp/c64/Games/D/Dino Eggs\", \"C:/temp/c64/Games/F/Fantasy World Dizzy\", \"C:/temp/c64/Games/M/Magic Land Dizzy\", \"C:/temp/c64/Games/T/Treasure Island Dizzy\", \"C:/temp/c64/Games/D/Donald Duck's Playground\", \"C:/temp/c64/Games/D/Donkey Kong (Ocean)\", \"C:/temp/c64/Games/D/Doriath\", \"C:/temp/c64/Games/D/Draconus\", \"C:/temp/c64/Games/D/Dragon Breed\", \"C:/temp/c64/Games/D/Dragon Ninja\", \"C:/temp/c64/Games/D/Dragon Wars\", \"C:/temp/c64/Games/D/Drelbs\", \"C:/temp/c64/Games/D/Driller\", \"C:/temp/c64/Games/D/Dropzone\", \"C:/temp/c64/Games/D/Druid\", \"C:/temp/c64/Games/D/Druid 2\", \"C:/temp/c64/Games/D/Dynamite Dan\", \"C:/temp/c64/Games/E/Eidolon, The\", \"C:/temp/c64/Games/E/Elite\", \"C:/temp/c64/Games/E/Elivra - Mistress of the Dark\", \"C:/temp/c64/Games/E/Emlyn Hughes International Soccer\", \"C:/temp/c64/Games/E/Encounter\", \"C:/temp/c64/Games/E/Enigma Force\", \"C:/temp/c64/Games/E/Entombed\", \"C:/temp/c64/Games/E/Exile\", \"C:/temp/c64/Games/F/F-15 Strike Eagle\", \"C:/temp/c64/Games/F/Fairlight - A Prelude\", \"C:/temp/c64/Games/F/Falcon Patrol\", \"C:/temp/c64/Games/F/Falcon Patrol II - The Battle Continues\", \"C:/temp/c64/Games/F/Fast Break\", \"C:/temp/c64/Games/F/Finders Keepers\", \"C:/temp/c64/Games/F/Fire King\", \"C:/temp/c64/Games/F/First Strike\", \"C:/temp/c64/Games/F/Fist II - The legend continues\", \"C:/temp/c64/Games/F/Flimbos Quest\", \"C:/temp/c64/Games/F/Football Manager\", \"C:/temp/c64/Games/F/Forbidden Forest\", \"C:/temp/c64/Games/F/Force Seven\", \"C:/temp/c64/Games/F/Fort Apocalypse\", \"C:/temp/c64/Games/F/Frankie Goes to Hollywood\", \"C:/temp/c64/Games/F/Frantic Freddie\", \"C:/temp/c64/Games/F/Friday The 13th\", \"C:/temp/c64/Games/F/Frogger\", \"C:/temp/c64/Games/F/Frogger II - Threeedeep!\", \"C:/temp/c64/Games/G/G.I. Joe - A Real American Hero\", \"C:/temp/c64/Games/G/Galaxy\", \"C:/temp/c64/Games/G/Gateway to Apshai\", \"C:/temp/c64/Games/G/Gateway to the Savage Frontier\", \"C:/temp/c64/Games/G/Gauntlet\", \"C:/temp/c64/Games/G/Gauntlet II\", \"C:/temp/c64/Games/G/GBA Championship Basketball Two On Two\", \"C:/temp/c64/Games/G/Ghettoblaster - The Quest for the Perfect Beat\", \"C:/temp/c64/Games/G/Ghostbusters\", \"C:/temp/c64/Games/G/Ghosts 'n' Goblins\", \"C:/temp/c64/Games/G/Ghouls 'n' Ghosts\", \"C:/temp/c64/Games/G/Golden Axe\", \"C:/temp/c64/Games/G/Goonies, The\", \"C:/temp/c64/Games/G/Grand Prix Circuit\", \"C:/temp/c64/Games/G/Great American Cross-Country Road Race, The\", \"C:/temp/c64/Games/G/Great Escape, The\", \"C:/temp/c64/Games/G/Great Giana Sisters, The\", \"C:/temp/c64/Games/G/Green Beret\", \"C:/temp/c64/Games/G/Gribbly's Day Out\", \"C:/temp/c64/Games/B/BC II - Grog's Revenge\", \"C:/temp/c64/Games/G/Gryzor\", \"C:/temp/c64/Games/G/Guild of Thieves, The\", \"C:/temp/c64/Games/G/Gunship\", \"C:/temp/c64/Games/G/Gyruss\", \"C:/temp/c64/Games/H/H.E.R.O. - Helicopter Emergency Rescue Operation\", \"C:/temp/c64/Games/H/Hacker 2\", \"C:/temp/c64/Games/H/Hammerfist\", \"C:/temp/c64/Games/H/Hard Hat Mack\", \"C:/temp/c64/Games/H/Hard 'n Heavy\", \"C:/temp/c64/Games/H/Hardball\", \"C:/temp/c64/Games/H/Hat Trick\", \"C:/temp/c64/Games/H/Hawkeye\", \"C:/temp/c64/Games/H/Head Over Heels\", \"C:/temp/c64/Games/H/Heart of Africa\", \"C:/temp/c64/Games/H/Henry's House\", \"C:/temp/c64/Games/H/Hero of the Golden Talisman\", \"C:/temp/c64/Games/H/Hero Quest\", \"C:/temp/c64/Games/H/HES Games\", \"C:/temp/c64/Games/H/High Noon\", \"C:/temp/c64/Games/H/Hillsfar\", \"C:/temp/c64/Games/H/Hitch Hiker's Guide to the Galaxy\", \"C:/temp/c64/Games/H/Hobbit, The\", \"C:/temp/c64/Games/H/Hollywood Poker Pro\", \"C:/temp/c64/Games/H/Hot Rod\", \"C:/temp/c64/Games/H/Hudson Hawk\", \"C:/temp/c64/Games/H/Hunchback\", \"C:/temp/c64/Games/H/Hunter's Moon\", \"C:/temp/c64/Games/H/Hypa-Ball\", \"C:/temp/c64/Games/H/Hyper Sports\", \"C:/temp/c64/Games/I/IK+\", \"C:/temp/c64/Games/I/Ikari Warriors\", \"C:/temp/c64/Games/I/Impossible Mission\", \"C:/temp/c64/Games/I/Impossible Mission 2\", \"C:/temp/c64/Games/I/Indy Heat\", \"C:/temp/c64/Games/I/Infiltrator\", \"C:/temp/c64/Games/I/Infiltrator II - The Next Day\", \"C:/temp/c64/Games/I/Insects In Space\", \"C:/temp/c64/Games/I/Inside Outing!\", \"C:/temp/c64/Games/I/Intensity\", \"C:/temp/c64/Games/I/International Basketball\", \"C:/temp/c64/Games/I/International Karate\", \"C:/temp/c64/Games/I/International Tennis\", \"C:/temp/c64/Games/I/Into the Eagle's Nest\", \"C:/temp/c64/Games/I/IO\", \"C:/temp/c64/Games/I/Iron Lord\", \"C:/temp/c64/Games/I/Ivan Ironman Stewart's Super Off Road\", \"C:/temp/c64/Games/J/Jumpman\", \"C:/temp/c64/Games/J/Jumpman Junior\", \"C:/temp/c64/Games/K/Kamikaze\", \"C:/temp/c64/Games/K/Karateka\", \"C:/temp/c64/Games/K/Katakis\", \"C:/temp/c64/Games/K/Kennedy Approach\", \"C:/temp/c64/Games/K/Kikstart\", \"C:/temp/c64/Games/K/Kikstart 2\", \"C:/temp/c64/Games/K/Killed Until Dead\", \"C:/temp/c64/Games/K/Kings Bounty\", \"C:/temp/c64/Games/K/Kings of the Beach\", \"C:/temp/c64/Games/K/Koronis Rift\", \"C:/temp/c64/Games/K/Krakout\", \"C:/temp/c64/Games/K/Kung Fu Master\", \"C:/temp/c64/Games/L/Labyrinth\", \"C:/temp/c64/Games/L/Laser Squad\", \"C:/temp/c64/Games/L/Last Ninja 1, The\", \"C:/temp/c64/Games/L/Last Ninja 2, The\", \"C:/temp/c64/Games/L/Last Ninja 3, The\", \"C:/temp/c64/Games/L/Last Ninja Remix, The\", \"C:/temp/c64/Games/L/Law of the West\", \"C:/temp/c64/Games/L/Lazy Jones\", \"C:/temp/c64/Games/L/Leaderboard Golf\", \"C:/temp/c64/Games/L/Leaderboard Executive\", \"C:/temp/c64/Games/L/Led Storm\", \"C:/temp/c64/Games/L/Legacy of The Ancients\", \"C:/temp/c64/Games/L/Legend of Blacksilver, The\", \"C:/temp/c64/Games/L/Little Computer People\", \"C:/temp/c64/Games/L/Livingstone I Presume\", \"C:/temp/c64/Games/L/Lode Runner\", \"C:/temp/c64/Games/L/Lords of Chaos\", \"C:/temp/c64/Games/L/Lords of Conquest\", \"C:/temp/c64/Games/L/Lords of Midnight\", \"C:/temp/c64/Games/M/M.U.L.E\", \"C:/temp/c64/Games/M/Mad Doctor\", \"C:/temp/c64/Games/M/Madness\", \"C:/temp/c64/Games/M/Magic Candle, The\", \"C:/temp/c64/Games/M/Mail Order Monsters\", \"C:/temp/c64/Games/M/Mancopter\", \"C:/temp/c64/Games/M/Maniac Mansion\", \"C:/temp/c64/Games/M/Manic Miner\", \"C:/temp/c64/Games/M/Mars Saga, The\", \"C:/temp/c64/Games/M/Master of Magic\", \"C:/temp/c64/Games/M/Match Point\", \"C:/temp/c64/Games/M/Mega Apocalypse\", \"C:/temp/c64/Games/M/Mercenary\", \"C:/temp/c64/Games/M/Microprose Soccer\", \"C:/temp/c64/Games/M/Midnight Resistance\", \"C:/temp/c64/Games/M/Might and Magic Book One\", \"C:/temp/c64/Games/M/Might and Magic Book Two\", \"C:/temp/c64/Games/M/Mikie\", \"C:/temp/c64/Games/M/Mindshadow\", \"C:/temp/c64/Games/M/Miner 2049'er\", \"C:/temp/c64/Games/M/Mini-Putt\", \"C:/temp/c64/Games/M/Mission Elevator\", \"C:/temp/c64/Games/M/Montezuma's Revenge\", \"C:/temp/c64/Games/M/Monty On the Run\", \"C:/temp/c64/Games/M/Moon Patrol\", \"C:/temp/c64/Games/M/Mountie Micks Death Ride\", \"C:/temp/c64/Games/M/Mr. Do\", \"C:/temp/c64/Games/M/Mr. Dos Castle\", \"C:/temp/c64/Games/M/Mr Heli\", \"C:/temp/c64/Games/M/Mr. Robot\", \"C:/temp/c64/Games/M/Ms. Pac-Man\", \"C:/temp/c64/Games/M/Murder on the Mississippi\", \"C:/temp/c64/Games/M/Mutants\", \"C:/temp/c64/Games/M/Myth\", \"C:/temp/c64/Games/N/Navy Seals\", \"C:/temp/c64/Games/N/Nebulus\", \"C:/temp/c64/Games/N/Nemesis\", \"C:/temp/c64/Games/N/Neuromancer\", \"C:/temp/c64/Games/N/New Zealand Story, The\", \"C:/temp/c64/Games/N/Ninja\", \"C:/temp/c64/Games/N/Ninja Spirit\", \"C:/temp/c64/Games/N/Nodes of Yesod\", \"C:/temp/c64/Games/N/North & South\", \"C:/temp/c64/Games/O/O'Riley's Mine\", \"C:/temp/c64/Games/O/Oils Well\", \"C:/temp/c64/Games/J/Julius Erving and Larry Bird Go One on One\", \"C:/temp/c64/Games/O/Operation Wolf\", \"C:/temp/c64/Games/O/Outrun\", \"C:/temp/c64/Games/P/Proof of Destruction\", \"C:/temp/c64/Games/P/P.P. Hammer\", \"C:/temp/c64/Games/P/Pac-Land\", \"C:/temp/c64/Games/P/Pac-Man\", \"C:/temp/c64/Games/P/Pac-Mania\", \"C:/temp/c64/Games/P/Pang\", \"C:/temp/c64/Games/P/Panther\", \"C:/temp/c64/Games/P/Paperboy\", \"C:/temp/c64/Games/P/Paradroid\", \"C:/temp/c64/Games/P/Parallax\", \"C:/temp/c64/Games/P/Park Patrol\", \"C:/temp/c64/Games/P/Pawn, The\", \"C:/temp/c64/Games/P/Phantasie\", \"C:/temp/c64/Games/P/Phantasie II\", \"C:/temp/c64/Games/P/Phantasie III - The Wrath of Nikademus\", \"C:/temp/c64/Games/P/Pharaoh's Curse\", \"C:/temp/c64/Games/P/Ping Pong\", \"C:/temp/c64/Games/P/Pipe Mania\", \"C:/temp/c64/Games/P/Pirates\", \"C:/temp/c64/Games/P/Pitfall 2 - Lost Caverns\", \"C:/temp/c64/Games/P/Pitstop\", \"C:/temp/c64/Games/P/Pitstop 2\", \"C:/temp/c64/Games/P/Platoon\", \"C:/temp/c64/Games/P/Plural\", \"C:/temp/c64/Games/P/Pole Position\", \"C:/temp/c64/Games/P/Pool of Radiance\", \"C:/temp/c64/Games/P/Pooyan\", \"C:/temp/c64/Games/P/Popeye\", \"C:/temp/c64/Games/P/Power at Sea\", \"C:/temp/c64/Games/P/Power Drift\", \"C:/temp/c64/Games/P/Predator\", \"C:/temp/c64/Games/P/Project Firestart\", \"C:/temp/c64/Games/P/Project Stealth Fighter\", \"C:/temp/c64/Games/P/Psi 5 Trading Company\", \"C:/temp/c64/Games/P/Puzznic\", \"C:/temp/c64/Games/Q/Quedex\", \"C:/temp/c64/Games/Q/Questron\", \"C:/temp/c64/Games/Q/Questron II\", \"C:/temp/c64/Games/R/Risk\", \"C:/temp/c64/Games/R/Racing Destruction Set\", \"C:/temp/c64/Games/R/Rags To Riches\", \"C:/temp/c64/Games/R/Raid On Bungeling Bay\", \"C:/temp/c64/Games/R/Raid Over Moscow\", \"C:/temp/c64/Games/R/Rainbow Islands\", \"C:/temp/c64/Games/R/Rally Speedway\", \"C:/temp/c64/Games/R/Rambo - First Blood Part II\", \"C:/temp/c64/Games/R/Rampage\", \"C:/temp/c64/Games/R/Rana Rama\", \"C:/temp/c64/Games/R/Rastan\", \"C:/temp/c64/Games/R/Realm of Impossibility\", \"C:/temp/c64/Games/R/Red Storm Rising\", \"C:/temp/c64/Games/R/Renegade\", \"C:/temp/c64/Games/R/Rescue On Fractalus\", \"C:/temp/c64/Games/R/Retrograde\", \"C:/temp/c64/Games/R/Revs\", \"C:/temp/c64/Games/R/Rick Dangerous\", \"C:/temp/c64/Games/R/Rick Dangerous II\", \"C:/temp/c64/Games/R/River Raid\", \"C:/temp/c64/Games/R/Road Runner\", \"C:/temp/c64/Games/R/Robocop\", \"C:/temp/c64/Games/R/Rock n' Bolt\", \"C:/temp/c64/Games/I/It's Only Rock 'n' Roll\", \"C:/temp/c64/Games/R/Rocket Ball\", \"C:/temp/c64/Games/R/Rocket Ranger\", \"C:/temp/c64/Games/R/Rodland\", \"C:/temp/c64/Games/R/R-Type\", \"C:/temp/c64/Games/R/Run the Gauntlet\", \"C:/temp/c64/Games/S/Saboteur\", \"C:/temp/c64/Games/S/Saint Dragon\", \"C:/temp/c64/Games/S/Salamander\", \"C:/temp/c64/Games/S/Sanxion\", \"C:/temp/c64/Games/S/Saracen\", \"C:/temp/c64/Games/S/Satan's Hollow\", \"C:/temp/c64/Games/S/Save New York\", \"C:/temp/c64/Games/S/Scarabaeus\", \"C:/temp/c64/Games/S/Secret of the Silver Blades\", \"C:/temp/c64/Games/S/Sensitive\", \"C:/temp/c64/Games/S/Sentinel, The\", \"C:/temp/c64/Games/S/Sentinel, The\", \"C:/temp/c64/Games/S/Sentinel Worlds I\", \"C:/temp/c64/Games/S/Seven Cities of gold\", \"C:/temp/c64/Games/S/Shadow of the Beast\", \"C:/temp/c64/Games/S/Shadowfire\", \"C:/temp/c64/Games/S/Shinobi\", \"C:/temp/c64/Games/S/Shogun\", \"C:/temp/c64/Games/S/Silkworm\", \"C:/temp/c64/Games/S/Skate or Die!\", \"C:/temp/c64/Games/S/Skate or Die!\", \"C:/temp/c64/Games/S/Skool Daze\", \"C:/temp/c64/Games/S/Skramble\", \"C:/temp/c64/Games/S/Skyfox\", \"C:/temp/c64/Games/S/Slap Fight\", \"C:/temp/c64/Games/S/Smash TV\", \"C:/temp/c64/Games/S/Solo Flight\", \"C:/temp/c64/Games/S/Solomon's Key\", \"C:/temp/c64/Games/S/Space Harrier\", \"C:/temp/c64/Games/S/Space Rogue\", \"C:/temp/c64/Games/S/Space Taxi\", \"C:/temp/c64/Games/S/Space Pilot\", \"C:/temp/c64/Games/S/Speedball\", \"C:/temp/c64/Games/S/Speedball 2\", \"C:/temp/c64/Games/S/Spellbound\", \"C:/temp/c64/Games/S/Spelunker\", \"C:/temp/c64/Games/S/Spindizzy\", \"C:/temp/c64/Games/S/Split Personalities\", \"C:/temp/c64/Games/S/Spy Hunter\", \"C:/temp/c64/Games/S/SPY vs SPY\", \"C:/temp/c64/Games/S/SPY vs SPY 2 - The Island Caper\", \"C:/temp/c64/Games/S/Squish 'em\", \"C:/temp/c64/Games/S/Staff of karnath, The\", \"C:/temp/c64/Games/S/Star League Baseball\", \"C:/temp/c64/Games/S/Starquake\", \"C:/temp/c64/Games/S/Stix\", \"C:/temp/c64/Games/S/Street Hassle\", \"C:/temp/c64/Games/S/Street Rod\", \"C:/temp/c64/Games/S/Street Sports Basketball\", \"C:/temp/c64/Games/S/Street Sports Basketball\", \"C:/temp/c64/Games/S/Strip Poker\", \"C:/temp/c64/Games/S/Stunt Car Racer\", \"C:/temp/c64/Games/S/Summer Games\", \"C:/temp/c64/Games/S/Summer Games 2\", \"C:/temp/c64/Games/S/Super Cycle\", \"C:/temp/c64/Games/S/Super Huey\", \"C:/temp/c64/Games/S/Super Pipeline\", \"C:/temp/c64/Games/S/Super Pipeline 2\", \"C:/temp/c64/Games/S/Super Zaxxon\", \"C:/temp/c64/Games/S/Superstar Ice Hockey\", \"C:/temp/c64/Games/S/Supremacy\", \"C:/temp/c64/Games/S/Survivor\", \"C:/temp/c64/Games/S/SWIV\", \"C:/temp/c64/Games/S/Sword of Fargoal\", \"C:/temp/c64/Games/T/Tapper\", \"C:/temp/c64/Games/T/Target Renegade\", \"C:/temp/c64/Games/T/Tau-Ceti\", \"C:/temp/c64/Games/T/Telengard\", \"C:/temp/c64/Games/T/Temple of Apshai Trilogy\", \"C:/temp/c64/Games/T/Terra Cresta\", \"C:/temp/c64/Games/T/Terrys Big Adventure\", \"C:/temp/c64/Games/T/Test Drive\", \"C:/temp/c64/Games/T/Test Drive II - The Duel\", \"C:/temp/c64/Games/T/Tetris\", \"C:/temp/c64/Games/G/Games, The - Summer Edition\", \"C:/temp/c64/Games/T/Theatre Europe\", \"C:/temp/c64/Games/T/They Stole a Million\", \"C:/temp/c64/Games/T/Thrust\", \"C:/temp/c64/Games/T/Thunder Blade\", \"C:/temp/c64/Games/T/Tilt\", \"C:/temp/c64/Games/T/Time Machine\", \"C:/temp/c64/Games/T/Times of Lore\", \"C:/temp/c64/Games/T/Total Eclipse\", \"C:/temp/c64/Games/T/Toy Bizarre\", \"C:/temp/c64/Games/T/Track and Field\", \"C:/temp/c64/Games/T/Tracksuit Manager\", \"C:/temp/c64/Games/T/Trailblazer\", \"C:/temp/c64/Games/T/Train, Escape to Normandy\", \"C:/temp/c64/Games/T/Traz\", \"C:/temp/c64/Games/T/Trivial Pursuit\", \"C:/temp/c64/Games/T/Trolls and Tribulations\", \"C:/temp/c64/Games/T/Turbo Charge\", \"C:/temp/c64/Games/T/Turbo Outrun\", \"C:/temp/c64/Games/T/Turrican\", \"C:/temp/c64/Games/T/Turrican II - The Final Fight\", \"C:/temp/c64/Games/T/Tusker\", \"C:/temp/c64/Games/U/Ultima I\", \"C:/temp/c64/Games/U/Ultima II\", \"C:/temp/c64/Games/U/Ultima III\", \"C:/temp/c64/Games/U/Ultima IV\", \"C:/temp/c64/Games/U/Ultima V - Warriors of Destiny\", \"C:/temp/c64/Games/U/Ultima VI\", \"C:/temp/c64/Games/U/Ultimate Wizard\", \"C:/temp/c64/Games/U/Untouchables, the\", \"C:/temp/c64/Games/U/Up'n Down\", \"C:/temp/c64/Games/U/Uridium\", \"C:/temp/c64/Games/S/Samurai Warrior\", \"C:/temp/c64/Games/U/Uuno Turhapuro Muuttaa Maalle\", \"C:/temp/c64/Games/V/Volfied\", \"C:/temp/c64/Games/W/War In Middle Earth\", \"C:/temp/c64/Games/W/Wastelands\", \"C:/temp/c64/Games/W/Way of the Exploding Fist, The\", \"C:/temp/c64/Games/W/Werewolves of London\", \"C:/temp/c64/Games/V/West Bank\", \"C:/temp/c64/Games/W/Where in the World is Carmen Sandiego\", \"C:/temp/c64/Games/W/Who Dares Wins\", \"C:/temp/c64/Games/W/Who Dares Wins II\", \"C:/temp/c64/Games/W/Willow Pattern Adventure, The\", \"C:/temp/c64/Games/W/Wings of Fury\", \"C:/temp/c64/Games/W/Winter Games\", \"C:/temp/c64/Games/W/Wizard of Wor\", \"C:/temp/c64/Games/W/Wizardry\", \"C:/temp/c64/Games/W/Wizball\", \"C:/temp/c64/Games/W/Wonderboy\", \"C:/temp/c64/Games/W/Wonderboy\", \"C:/temp/c64/Games/W/World Class Leader Board\", \"C:/temp/c64/Games/W/World Games\", \"C:/temp/c64/Games/X/X-Out\", \"C:/temp/c64/Games/Y/Yie Ar Kung-Fu\", \"C:/temp/c64/Games/Z/Zak McKracken\", \"C:/temp/c64/Games/Z/Zamzara\", \"C:/temp/c64/Games/Z/Zaxxon\", \"C:/temp/c64/Games/Z/Zolyx\", \"C:/temp/c64/Games/Z/Zork\", \"C:/temp/c64/Games/Z/Zorro\", \"C:/temp/c64/Games/Z/Zybex\", \"C:/temp/c64/Games/D/Dragon's Den\", \"C:/temp/c64/Games/I/International Soccer (CRL)\", \"C:/temp/c64/Games/P/Pastfinder\", \"C:/temp/c64/Games/A/Adventure Construction Set\", \"C:/temp/c64/Games/B/Batalyx\", \"C:/temp/c64/Games/P/Paradroid Metal Edition\", \"C:/temp/c64/Games/I/International Soccer (CRL)\", \"C:/temp/c64/Games/S/Silent Service\", \"C:/temp/c64/Games/S/Superstar Ping-Pong\", \"C:/temp/c64/Games/W/world Championship Karate\", \"C:/temp/c64/Games/B/Boulder Dash 2\", \"C:/temp/c64/Games/F/Flight Simulator II\", \"C:/temp/c64/Games/P/Professional Ski Simulator\", \"C:/temp/c64/Games/S/Snare\", \"C:/temp/c64/Games/G/Gradius\", \"C:/temp/c64/Games/S/SPY vs SPY 3 - Arctic Antics\", \"C:/temp/c64/Games/T/Tass Times in Tone Town\", \"C:/temp/c64/Games/B/Basketball\", \"C:/temp/c64/Games/Y/Yie Ar Kung-Fu USA\", \"C:/temp/c64/Games/B/Boulder Dash Super\", \"C:/temp/c64/Games/P/Portal\", \"C:/temp/c64/Games/S/Starflight\", \"C:/temp/c64/Games/A/Alter Ego (Female)\", \"C:/temp/c64/Games/B/Bad Street Brawler\", \"C:/temp/c64/Games/K/Kaiser\", \"C:/temp/c64/Games/B/Boulder Dash 3\"]\n",
    "\n",
    "PP = iolib.PrintProgress(games)\n",
    "for g in games:\n",
    "    f = g.split('/')[-1]\n",
    "    dest = os.path.normpath(os.path.join(copy_games_to, f))\n",
    "    iolib.folder_copy(g, dest)\n",
    "    PP.increment()"
   ]
  },
  {
   "cell_type": "code",
   "execution_count": 2,
   "metadata": {},
   "outputs": [
    {
     "name": "stdout",
     "output_type": "stream",
     "text": [
      "(str, str, bool, bool) -> None\n",
      "    Recursively copy a folder\n",
      "\n",
      "    src: source folder\n",
      "    dst: destination\n",
      "\n",
      "    Example:\n",
      "    >>>folder_copy('C:/temp', 'C:/temp_copy')\n",
      "    \n"
     ]
    }
   ],
   "source": [
    "print(iolib.folder_copy.__doc__)"
   ]
  },
  {
   "cell_type": "code",
   "execution_count": 5,
   "metadata": {},
   "outputs": [],
   "source": [
    "import"
   ]
  },
  {
   "cell_type": "code",
   "execution_count": null,
   "metadata": {},
   "outputs": [],
   "source": []
  }
 ],
 "metadata": {
  "kernelspec": {
   "display_name": "Python 3",
   "language": "python",
   "name": "python3"
  },
  "language_info": {
   "codemirror_mode": {
    "name": "ipython",
    "version": 3
   },
   "file_extension": ".py",
   "mimetype": "text/x-python",
   "name": "python",
   "nbconvert_exporter": "python",
   "pygments_lexer": "ipython3",
   "version": "3.5.4"
  }
 },
 "nbformat": 4,
 "nbformat_minor": 2
}
