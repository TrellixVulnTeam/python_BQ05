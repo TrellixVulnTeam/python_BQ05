{
 "cells": [
  {
   "cell_type": "code",
   "execution_count": 1,
   "metadata": {},
   "outputs": [],
   "source": [
    "import os\n",
    "import os.path as path\n",
    "from tqdm import tqdm\n",
    "\n",
    "def splitf(s):\n",
    "    return os.path.dirname(s), os.path.splitext(os.path.basename(s))[0], os.path.splitext(s)[1]"
   ]
  },
  {
   "cell_type": "code",
   "execution_count": 4,
   "metadata": {},
   "outputs": [
    {
     "name": "stderr",
     "output_type": "stream",
     "text": [
      "100%|██████████████████████████████████████████████████████████████████████████████████| 27/27 [00:03<00:00,  8.85it/s]\n"
     ]
    }
   ],
   "source": [
    "#cleans spectrum roms prioritising by EXTENSIONS order\n",
    "raise NotImplementedError\n",
    "EXTENSIONS = ['.d64':100, '.t64':99, '.tap':98, '.prg':97, '.p00':96]\n",
    "EXTENSIONS_REVERSED = list(EXTENSIONS)\n",
    "EXTENSIONS_REVERSED.reverse()\n",
    "IGNORE_DIRS = ['#']\n",
    "\n",
    "\n",
    "root = 'F:/LaunchBox/Games/Sinclair ZX Spectrum'\n",
    "\n",
    "ROOT_DIRS = [os.path.join(root, o) for o in os.listdir(root) \n",
    "                    if os.path.isdir(os.path.join(root,o)) and o[0] != '_']\n",
    "\n",
    "for fld in tqdm(ROOT_DIRS):\n",
    "    for f in os.listdir(fld): #game folders under A, B, C etc\n",
    "        D = {}\n",
    "        fld_game = os.path.normpath(os.path.join(fld,f))\n",
    "        if not os.path.isdir(fld_game): continue\n",
    "            \n",
    "        for fname in os.listdir(fld_game):\n",
    "            fname = os.path.normpath(os.path.join(fld_game,fname))\n",
    "            if not os.path.isfile(fname): continue\n",
    "            d, f, e = splitf(fname)\n",
    "            e = e.lower()\n",
    "            if not e in EXTENSIONS: continue\n",
    "            if not D.get(f): D[f] = []\n",
    "            D[f].append(e)\n",
    "   \n",
    "    \n",
    "        #D example: {'knightlore':['.tap','.sna','.z80']}   \n",
    "        for k, v in D.items():\n",
    "            exts = [x for x in EXTENSIONS_REVERSED if x in v]\n",
    "            for x in exts[0:-1]:\n",
    "                fname = os.path.normpath(os.path.join(fld_game, '%s%s' % (k, x)))\n",
    "                os.remove(fname)\n",
    "\n",
    "\n",
    "\n",
    "    \n"
   ]
  },
  {
   "cell_type": "code",
   "execution_count": 3,
   "metadata": {},
   "outputs": [
    {
     "ename": "ImportError",
     "evalue": "No module named 'strings'",
     "output_type": "error",
     "traceback": [
      "\u001b[1;31m---------------------------------------------------------------------------\u001b[0m",
      "\u001b[1;31mImportError\u001b[0m                               Traceback (most recent call last)",
      "\u001b[1;32m<ipython-input-3-39c416a37ab1>\u001b[0m in \u001b[0;36m<module>\u001b[1;34m\u001b[0m\n\u001b[1;32m----> 1\u001b[1;33m \u001b[1;32mimport\u001b[0m \u001b[0mstrings\u001b[0m\u001b[1;33m.\u001b[0m\u001b[0municode\u001b[0m\u001b[1;33m\u001b[0m\u001b[0m\n\u001b[0m\u001b[0;32m      2\u001b[0m \u001b[0municode\u001b[0m\u001b[1;33m(\u001b[0m\u001b[1;34m\"a\"\u001b[0m\u001b[1;33m,\u001b[0m \u001b[1;34m\"utf-8\"\u001b[0m\u001b[1;33m)\u001b[0m\u001b[1;33m\u001b[0m\u001b[0m\n",
      "\u001b[1;31mImportError\u001b[0m: No module named 'strings'"
     ]
    }
   ],
   "source": [
    "import strings.unicode\n",
    "unicode(\"a\", \"utf-8\")"
   ]
  },
  {
   "cell_type": "code",
   "execution_count": 5,
   "metadata": {},
   "outputs": [
    {
     "name": "stdout",
     "output_type": "stream",
     "text": [
      "False\n"
     ]
    }
   ],
   "source": [
    "EXCLUDE = ['inlays', '.gif', '.scr', '.pdf', '.jpg', '.bmp', '.tiff',\n",
    "    '.tif', 'instructions ', 'screen dumps', 'maps', 'pokes', 'screens',\n",
    "    '.doc', '.docx', '.xls', '.txt', '.csv', '.tab'\n",
    "]\n",
    "\n",
    "aFile = 'this .gif be False'\n",
    "\n",
    "if not any([x.lower() in aFile.lower() for x in EXCLUDE]):\n",
    "    print(True)\n",
    "else:\n",
    "    print(False)"
   ]
  },
  {
   "cell_type": "code",
   "execution_count": null,
   "metadata": {},
   "outputs": [],
   "source": []
  }
 ],
 "metadata": {
  "kernelspec": {
   "display_name": "Python 3",
   "language": "python",
   "name": "python3"
  },
  "language_info": {
   "codemirror_mode": {
    "name": "ipython",
    "version": 3
   },
   "file_extension": ".py",
   "mimetype": "text/x-python",
   "name": "python",
   "nbconvert_exporter": "python",
   "pygments_lexer": "ipython3",
   "version": "3.5.4"
  }
 },
 "nbformat": 4,
 "nbformat_minor": 2
}
