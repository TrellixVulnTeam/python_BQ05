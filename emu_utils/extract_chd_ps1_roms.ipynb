{
 "cells": [
  {
   "cell_type": "code",
   "execution_count": 49,
   "metadata": {},
   "outputs": [
    {
     "name": "stdout",
     "output_type": "stream",
     "text": [
      "F:/LaunchBox/mame/chdman.exe extractcd -i \"F:\\Resources\\PS1\\roms\\Chrono Cross_disc_1.chx\" -o \"c:\\temp\\Chrono Cross_disc_1.cue\"\n"
     ]
    }
   ],
   "source": [
    "import funclib.iolib as iolib\n",
    "\n",
    "import funclib.shell_lib as shell_lib\n",
    "outfld = 'F:\\\\LaunchBox\\\\Games\\\\PS1\\\\'\n",
    "exe = \"F:/LaunchBox/mame/chdman.exe\"\n",
    "root = \"F:/Resources/PS1/roms\"\n",
    "\n",
    "print(chdman)\n",
    "def fnull():\n",
    "    return None"
   ]
  },
  {
   "cell_type": "code",
   "execution_count": 58,
   "metadata": {},
   "outputs": [
    {
     "name": "stdout",
     "output_type": "stream",
     "text": [
      "\n",
      "\n",
      "59 of 59 [##############################] 100.0% \n",
      "\n"
     ]
    }
   ],
   "source": [
    "d = [1 for x in iolib.file_list_generator_dfe([root], ['*.chd', '*.chx'], recurse=False)]\n",
    "PP = iolib.PrintProgress(len(d))\n",
    "\n",
    "for d, f, _, fullname in iolib.file_list_generator_dfe([root], ['*.chd', '*.chx'], recurse=False):\n",
    "    fname = f.split('.')[0] + \".cue\"\n",
    "    chdman = '%s extractcd -i \"%s\" -o \"%s%s\"' % (exe,\n",
    "                                                 fullname,\n",
    "                                                 outfld,               \n",
    "                                                 fname)\n",
    "    shell_lib.execute(chdman, fnull)\n",
    "    PP.increment()"
   ]
  },
  {
   "cell_type": "code",
   "execution_count": 3,
   "metadata": {},
   "outputs": [],
   "source": [
    "lamda x: return None"
   ]
  },
  {
   "cell_type": "code",
   "execution_count": 17,
   "metadata": {},
   "outputs": [
    {
     "data": {
      "text/plain": [
       "' Volume in drive C has no label.\\r\\n Volume Serial Number is A2B4-7D02\\r\\n\\r\\n Directory of C:\\\\Python354x64\\\\Scripts\\r\\n\\r\\n14/01/2020  14:14    <DIR>          .\\r\\n14/01/2020  14:14    <DIR>          ..\\r\\n14/01/2020  13:50    <DIR>          .ipynb_checkpoints\\r\\n30/05/2019  10:54           102,752 automat-visualize.exe\\r\\n30/05/2019  10:54           102,758 cftp.exe\\r\\n30/05/2019  11:01           102,756 chardetect.exe\\r\\n30/05/2019  10:54           102,761 ckeygen.exe\\r\\n03/01/2020  11:43             4,784 clean_rom_c64.ipynb\\r\\n17/12/2019  16:47             4,756 clean_rom_spectrum.ipynb\\r\\n30/05/2019  10:58             1,554 clear_comtypes_cache.py\\r\\n30/05/2019  10:54           102,759 conch.exe\\r\\n30/05/2019  11:00           102,765 easy_install-3.5.exe\\r\\n30/05/2019  11:00           102,765 easy_install.exe\\r\\n30/05/2019  10:58           102,751 f2py.exe\\r\\n30/05/2019  11:00             2,211 find_similar_images.py\\r\\n06/01/2020  21:21            30,136 fix_tzx.ipynb\\r\\n15/12/2019  17:59           102,766 iptest.exe\\r\\n15/12/2019  17:59           102,766 iptest3.exe\\r\\n15/12/2019  17:59           102,759 ipython.exe\\r\\n15/12/2019  17:59           102,759 ipython3.exe\\r\\n15/12/2019  17:59           102,748 jsonschema.exe\\r\\n15/12/2019  18:00           102,768 jupyter-bundlerextension.exe\\r\\n15/12/2019  18:00           102,753 jupyter-console.exe\\r\\n15/12/2019  17:59           102,758 jupyter-kernel.exe\\r\\n15/12/2019  17:59           102,796 jupyter-kernelspec.exe\\r\\n15/12/2019  17:59           102,754 jupyter-migrate.exe\\r\\n15/12/2019  17:59           102,756 jupyter-nbconvert.exe\\r\\n15/12/2019  18:00           102,755 jupyter-nbextension.exe\\r\\n15/12/2019  18:00           102,754 jupyter-notebook.exe\\r\\n15/12/2019  18:00            99,685 jupyter-qtconsole.exe\\r\\n15/12/2019  17:59           102,775 jupyter-run.exe\\r\\n15/12/2019  18:00           102,759 jupyter-serverextension.exe\\r\\n15/12/2019  17:59           102,759 jupyter-troubleshoot.exe\\r\\n15/12/2019  17:59           102,787 jupyter-trust.exe\\r\\n15/12/2019  17:59           102,754 jupyter.exe\\r\\n30/05/2019  10:54           102,761 mailmail.exe\\r\\n06/01/2020  20:52             8,490 patool\\r\\n15/12/2019  18:00           103,264 pip.exe\\r\\n15/12/2019  18:00           103,264 pip3.5.exe\\r\\n15/12/2019  18:00           103,264 pip3.exe\\r\\n15/12/2019  17:59           102,750 pygmentize.exe\\r\\n30/05/2019  10:54           102,756 pyhtmlizer.exe\\r\\n30/05/2019  12:48            24,485 pywin32_postinstall.py\\r\\n30/05/2019  12:48             3,483 pywin32_testall.py\\r\\n30/05/2019  11:00           102,754 scrapy.exe\\r\\n30/05/2019  10:52           102,755 skivi.exe\\r\\n30/05/2019  10:54           102,761 tkconch.exe\\r\\n15/12/2019  19:59           103,251 tqdm.exe\\r\\n30/05/2019  10:54           102,753 trial.exe\\r\\n30/05/2019  10:54           102,773 twist.exe\\r\\n30/05/2019  10:54           102,754 twistd.exe\\r\\n14/01/2020  14:14             6,080 Untitled.ipynb\\r\\n30/05/2019  10:59               407 xlwings-script.py\\r\\n30/05/2019  10:59            74,752 xlwings.exe\\r\\n30/05/2019  12:48    <DIR>          __pycache__\\r\\n              51 File(s)      4,270,476 bytes\\r\\n               4 Dir(s)  88,198,139,904 bytes free\\r\\n'"
      ]
     },
     "execution_count": 17,
     "metadata": {},
     "output_type": "execute_result"
    }
   ],
   "source": []
  },
  {
   "cell_type": "code",
   "execution_count": 39,
   "metadata": {},
   "outputs": [],
   "source": [
    "f = lambda x:None"
   ]
  },
  {
   "cell_type": "code",
   "execution_count": 40,
   "metadata": {},
   "outputs": [],
   "source": [
    "f(2)"
   ]
  },
  {
   "cell_type": "code",
   "execution_count": 53,
   "metadata": {},
   "outputs": [
    {
     "ename": "NotImplementedError",
     "evalue": "",
     "output_type": "error",
     "traceback": [
      "\u001b[1;31m---------------------------------------------------------------------------\u001b[0m",
      "\u001b[1;31mNotImplementedError\u001b[0m                       Traceback (most recent call last)",
      "\u001b[1;32m<ipython-input-53-91639a24e592>\u001b[0m in \u001b[0;36m<module>\u001b[1;34m\u001b[0m\n\u001b[1;32m----> 1\u001b[1;33m \u001b[1;32mraise\u001b[0m \u001b[0mNotImplementedError\u001b[0m\u001b[1;33m\u001b[0m\u001b[0m\n\u001b[0m",
      "\u001b[1;31mNotImplementedError\u001b[0m: "
     ]
    }
   ],
   "source": [
    "raise NotImplementedError"
   ]
  },
  {
   "cell_type": "code",
   "execution_count": null,
   "metadata": {},
   "outputs": [],
   "source": []
  }
 ],
 "metadata": {
  "kernelspec": {
   "display_name": "Python 3",
   "language": "python",
   "name": "python3"
  },
  "language_info": {
   "codemirror_mode": {
    "name": "ipython",
    "version": 3
   },
   "file_extension": ".py",
   "mimetype": "text/x-python",
   "name": "python",
   "nbconvert_exporter": "python",
   "pygments_lexer": "ipython3",
   "version": "3.5.4"
  }
 },
 "nbformat": 4,
 "nbformat_minor": 2
}
